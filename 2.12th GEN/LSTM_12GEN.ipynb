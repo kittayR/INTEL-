{
  "nbformat": 4,
  "nbformat_minor": 0,
  "metadata": {
    "colab": {
      "provenance": []
    },
    "kernelspec": {
      "name": "python3",
      "display_name": "Python 3"
    },
    "language_info": {
      "name": "python"
    }
  },
  "cells": [
    {
      "cell_type": "code",
      "execution_count": null,
      "metadata": {
        "id": "moi2P29DWSo3"
      },
      "outputs": [],
      "source": [
        "import pandas as pd\n",
        "import numpy as np\n",
        "import tensorflow as tf\n"
      ]
    },
    {
      "cell_type": "code",
      "source": [
        "\n",
        "from tensorflow.keras.preprocessing.sequence import pad_sequences\n",
        "from tensorflow.keras.layers import Embedding, LSTM, Dense, Dropout, Bidirectional\n",
        "from tensorflow.keras.preprocessing.text import Tokenizer"
      ],
      "metadata": {
        "id": "7Jmh74i3WVpV"
      },
      "execution_count": null,
      "outputs": []
    },
    {
      "cell_type": "code",
      "source": [
        "from sklearn.metrics import classification_report"
      ],
      "metadata": {
        "id": "ZECPVEriWaCU"
      },
      "execution_count": null,
      "outputs": []
    },
    {
      "cell_type": "code",
      "source": [
        "import nltk\n",
        "nltk.download('stopwords')\n",
        "nltk.download('wordnet')\n",
        "from nltk.corpus import stopwords\n",
        "from nltk.stem.wordnet import WordNetLemmatizer\n",
        "# Visualization\n",
        "from wordcloud import WordCloud\n",
        "import matplotlib.pyplot as plt"
      ],
      "metadata": {
        "colab": {
          "base_uri": "https://localhost:8080/"
        },
        "id": "1ga4MSdoWbVT",
        "outputId": "272ecd1c-00a0-45bd-cc5c-276c652799ca"
      },
      "execution_count": null,
      "outputs": [
        {
          "output_type": "stream",
          "name": "stderr",
          "text": [
            "[nltk_data] Downloading package stopwords to /root/nltk_data...\n",
            "[nltk_data]   Package stopwords is already up-to-date!\n",
            "[nltk_data] Downloading package wordnet to /root/nltk_data...\n",
            "[nltk_data]   Package wordnet is already up-to-date!\n"
          ]
        }
      ]
    },
    {
      "cell_type": "code",
      "source": [
        "from google.colab import drive\n",
        "drive.mount('/content/drive')"
      ],
      "metadata": {
        "colab": {
          "base_uri": "https://localhost:8080/"
        },
        "id": "MnPLbCgcWdLz",
        "outputId": "4b1f221c-61c8-4f79-eea9-b0a01943f841"
      },
      "execution_count": null,
      "outputs": [
        {
          "output_type": "stream",
          "name": "stdout",
          "text": [
            "Drive already mounted at /content/drive; to attempt to forcibly remount, call drive.mount(\"/content/drive\", force_remount=True).\n"
          ]
        }
      ]
    },
    {
      "cell_type": "code",
      "source": [
        "path = 'drive/My Drive/data'"
      ],
      "metadata": {
        "id": "N5PNbnwXWi2G"
      },
      "execution_count": null,
      "outputs": []
    },
    {
      "cell_type": "code",
      "source": [
        "try:\n",
        "    df = pd.read_csv(path+'/12GEN.csv', encoding='utf-8')\n",
        "except UnicodeDecodeError:\n",
        "    df = pd.read_csv(path+'/12GEN.csv', encoding='ISO-8859-1')\n",
        "print(df.shape)"
      ],
      "metadata": {
        "colab": {
          "base_uri": "https://localhost:8080/"
        },
        "id": "_ByIFt0eXIxw",
        "outputId": "490b812a-1643-468a-e016-a6ae39a893a3"
      },
      "execution_count": null,
      "outputs": [
        {
          "output_type": "stream",
          "name": "stdout",
          "text": [
            "(1033, 6)\n"
          ]
        }
      ]
    },
    {
      "cell_type": "code",
      "source": [
        "from sklearn.model_selection import train_test_split\n",
        "\n",
        "# Split the data\n",
        "train_data, test_data = train_test_split(df, test_size=0.2, random_state=42)\n",
        "\n",
        "# Print the size of the splits\n",
        "print(f\"Training data size: {len(train_data)}\")\n",
        "print(f\"Testing data size: {len(test_data)}\")"
      ],
      "metadata": {
        "colab": {
          "base_uri": "https://localhost:8080/"
        },
        "id": "DeQttULMXL0K",
        "outputId": "f56f8e9d-be17-4dfe-8eda-e59f6095584d"
      },
      "execution_count": null,
      "outputs": [
        {
          "output_type": "stream",
          "name": "stdout",
          "text": [
            "Training data size: 826\n",
            "Testing data size: 207\n"
          ]
        }
      ]
    },
    {
      "cell_type": "code",
      "source": [
        "train_data.head()"
      ],
      "metadata": {
        "colab": {
          "base_uri": "https://localhost:8080/",
          "height": 206
        },
        "id": "pXKhCk_tXVp6",
        "outputId": "ba792f2a-a31a-4fae-8851-13d89818a236"
      },
      "execution_count": null,
      "outputs": [
        {
          "output_type": "execute_result",
          "data": {
            "text/plain": [
              "        ID             Name Stars  \\\n",
              "649  650.0             luca     5   \n",
              "355  356.0      Cristiano.B     5   \n",
              "527  528.0               AJ     5   \n",
              "445  446.0  Rohit Panigrahi     4   \n",
              "983  984.0     bilal waheed     5   \n",
              "\n",
              "                                                 Title        Date  \\\n",
              "649                                          magnifico         NaN   \n",
              "355                    5.0 out of 5 stars\\nReally good  24-05-2023   \n",
              "527  5.0 out of 5 stars\\nWorks Great for High End G...  02-01-2024   \n",
              "445  4.0 out of 5 stars\\nGoes to 100 c with 280 MM ...  04-12-2023   \n",
              "983                i9-12900K an excellent buy itï¼ï¼         NaN   \n",
              "\n",
              "                                           Description  \n",
              "649  consegna puntuale,imballaggio perfetto e corri...  \n",
              "355                        It was great for the price!  \n",
              "527  I got this CPU because I've been a long term I...  \n",
              "445  THis is a power hungry beast of a processor..u...  \n",
              "983  Had a 11900K prior to this one, and as fast as...  "
            ],
            "text/html": [
              "\n",
              "  <div id=\"df-a5a285c8-befb-47e8-8a2d-50513f776609\" class=\"colab-df-container\">\n",
              "    <div>\n",
              "<style scoped>\n",
              "    .dataframe tbody tr th:only-of-type {\n",
              "        vertical-align: middle;\n",
              "    }\n",
              "\n",
              "    .dataframe tbody tr th {\n",
              "        vertical-align: top;\n",
              "    }\n",
              "\n",
              "    .dataframe thead th {\n",
              "        text-align: right;\n",
              "    }\n",
              "</style>\n",
              "<table border=\"1\" class=\"dataframe\">\n",
              "  <thead>\n",
              "    <tr style=\"text-align: right;\">\n",
              "      <th></th>\n",
              "      <th>ID</th>\n",
              "      <th>Name</th>\n",
              "      <th>Stars</th>\n",
              "      <th>Title</th>\n",
              "      <th>Date</th>\n",
              "      <th>Description</th>\n",
              "    </tr>\n",
              "  </thead>\n",
              "  <tbody>\n",
              "    <tr>\n",
              "      <th>649</th>\n",
              "      <td>650.0</td>\n",
              "      <td>luca</td>\n",
              "      <td>5</td>\n",
              "      <td>magnifico</td>\n",
              "      <td>NaN</td>\n",
              "      <td>consegna puntuale,imballaggio perfetto e corri...</td>\n",
              "    </tr>\n",
              "    <tr>\n",
              "      <th>355</th>\n",
              "      <td>356.0</td>\n",
              "      <td>Cristiano.B</td>\n",
              "      <td>5</td>\n",
              "      <td>5.0 out of 5 stars\\nReally good</td>\n",
              "      <td>24-05-2023</td>\n",
              "      <td>It was great for the price!</td>\n",
              "    </tr>\n",
              "    <tr>\n",
              "      <th>527</th>\n",
              "      <td>528.0</td>\n",
              "      <td>AJ</td>\n",
              "      <td>5</td>\n",
              "      <td>5.0 out of 5 stars\\nWorks Great for High End G...</td>\n",
              "      <td>02-01-2024</td>\n",
              "      <td>I got this CPU because I've been a long term I...</td>\n",
              "    </tr>\n",
              "    <tr>\n",
              "      <th>445</th>\n",
              "      <td>446.0</td>\n",
              "      <td>Rohit Panigrahi</td>\n",
              "      <td>4</td>\n",
              "      <td>4.0 out of 5 stars\\nGoes to 100 c with 280 MM ...</td>\n",
              "      <td>04-12-2023</td>\n",
              "      <td>THis is a power hungry beast of a processor..u...</td>\n",
              "    </tr>\n",
              "    <tr>\n",
              "      <th>983</th>\n",
              "      <td>984.0</td>\n",
              "      <td>bilal waheed</td>\n",
              "      <td>5</td>\n",
              "      <td>i9-12900K an excellent buy itï¼ï¼</td>\n",
              "      <td>NaN</td>\n",
              "      <td>Had a 11900K prior to this one, and as fast as...</td>\n",
              "    </tr>\n",
              "  </tbody>\n",
              "</table>\n",
              "</div>\n",
              "    <div class=\"colab-df-buttons\">\n",
              "\n",
              "  <div class=\"colab-df-container\">\n",
              "    <button class=\"colab-df-convert\" onclick=\"convertToInteractive('df-a5a285c8-befb-47e8-8a2d-50513f776609')\"\n",
              "            title=\"Convert this dataframe to an interactive table.\"\n",
              "            style=\"display:none;\">\n",
              "\n",
              "  <svg xmlns=\"http://www.w3.org/2000/svg\" height=\"24px\" viewBox=\"0 -960 960 960\">\n",
              "    <path d=\"M120-120v-720h720v720H120Zm60-500h600v-160H180v160Zm220 220h160v-160H400v160Zm0 220h160v-160H400v160ZM180-400h160v-160H180v160Zm440 0h160v-160H620v160ZM180-180h160v-160H180v160Zm440 0h160v-160H620v160Z\"/>\n",
              "  </svg>\n",
              "    </button>\n",
              "\n",
              "  <style>\n",
              "    .colab-df-container {\n",
              "      display:flex;\n",
              "      gap: 12px;\n",
              "    }\n",
              "\n",
              "    .colab-df-convert {\n",
              "      background-color: #E8F0FE;\n",
              "      border: none;\n",
              "      border-radius: 50%;\n",
              "      cursor: pointer;\n",
              "      display: none;\n",
              "      fill: #1967D2;\n",
              "      height: 32px;\n",
              "      padding: 0 0 0 0;\n",
              "      width: 32px;\n",
              "    }\n",
              "\n",
              "    .colab-df-convert:hover {\n",
              "      background-color: #E2EBFA;\n",
              "      box-shadow: 0px 1px 2px rgba(60, 64, 67, 0.3), 0px 1px 3px 1px rgba(60, 64, 67, 0.15);\n",
              "      fill: #174EA6;\n",
              "    }\n",
              "\n",
              "    .colab-df-buttons div {\n",
              "      margin-bottom: 4px;\n",
              "    }\n",
              "\n",
              "    [theme=dark] .colab-df-convert {\n",
              "      background-color: #3B4455;\n",
              "      fill: #D2E3FC;\n",
              "    }\n",
              "\n",
              "    [theme=dark] .colab-df-convert:hover {\n",
              "      background-color: #434B5C;\n",
              "      box-shadow: 0px 1px 3px 1px rgba(0, 0, 0, 0.15);\n",
              "      filter: drop-shadow(0px 1px 2px rgba(0, 0, 0, 0.3));\n",
              "      fill: #FFFFFF;\n",
              "    }\n",
              "  </style>\n",
              "\n",
              "    <script>\n",
              "      const buttonEl =\n",
              "        document.querySelector('#df-a5a285c8-befb-47e8-8a2d-50513f776609 button.colab-df-convert');\n",
              "      buttonEl.style.display =\n",
              "        google.colab.kernel.accessAllowed ? 'block' : 'none';\n",
              "\n",
              "      async function convertToInteractive(key) {\n",
              "        const element = document.querySelector('#df-a5a285c8-befb-47e8-8a2d-50513f776609');\n",
              "        const dataTable =\n",
              "          await google.colab.kernel.invokeFunction('convertToInteractive',\n",
              "                                                    [key], {});\n",
              "        if (!dataTable) return;\n",
              "\n",
              "        const docLinkHtml = 'Like what you see? Visit the ' +\n",
              "          '<a target=\"_blank\" href=https://colab.research.google.com/notebooks/data_table.ipynb>data table notebook</a>'\n",
              "          + ' to learn more about interactive tables.';\n",
              "        element.innerHTML = '';\n",
              "        dataTable['output_type'] = 'display_data';\n",
              "        await google.colab.output.renderOutput(dataTable, element);\n",
              "        const docLink = document.createElement('div');\n",
              "        docLink.innerHTML = docLinkHtml;\n",
              "        element.appendChild(docLink);\n",
              "      }\n",
              "    </script>\n",
              "  </div>\n",
              "\n",
              "\n",
              "<div id=\"df-5e0456cf-ca6e-4f96-9330-37d8845a37bd\">\n",
              "  <button class=\"colab-df-quickchart\" onclick=\"quickchart('df-5e0456cf-ca6e-4f96-9330-37d8845a37bd')\"\n",
              "            title=\"Suggest charts\"\n",
              "            style=\"display:none;\">\n",
              "\n",
              "<svg xmlns=\"http://www.w3.org/2000/svg\" height=\"24px\"viewBox=\"0 0 24 24\"\n",
              "     width=\"24px\">\n",
              "    <g>\n",
              "        <path d=\"M19 3H5c-1.1 0-2 .9-2 2v14c0 1.1.9 2 2 2h14c1.1 0 2-.9 2-2V5c0-1.1-.9-2-2-2zM9 17H7v-7h2v7zm4 0h-2V7h2v10zm4 0h-2v-4h2v4z\"/>\n",
              "    </g>\n",
              "</svg>\n",
              "  </button>\n",
              "\n",
              "<style>\n",
              "  .colab-df-quickchart {\n",
              "      --bg-color: #E8F0FE;\n",
              "      --fill-color: #1967D2;\n",
              "      --hover-bg-color: #E2EBFA;\n",
              "      --hover-fill-color: #174EA6;\n",
              "      --disabled-fill-color: #AAA;\n",
              "      --disabled-bg-color: #DDD;\n",
              "  }\n",
              "\n",
              "  [theme=dark] .colab-df-quickchart {\n",
              "      --bg-color: #3B4455;\n",
              "      --fill-color: #D2E3FC;\n",
              "      --hover-bg-color: #434B5C;\n",
              "      --hover-fill-color: #FFFFFF;\n",
              "      --disabled-bg-color: #3B4455;\n",
              "      --disabled-fill-color: #666;\n",
              "  }\n",
              "\n",
              "  .colab-df-quickchart {\n",
              "    background-color: var(--bg-color);\n",
              "    border: none;\n",
              "    border-radius: 50%;\n",
              "    cursor: pointer;\n",
              "    display: none;\n",
              "    fill: var(--fill-color);\n",
              "    height: 32px;\n",
              "    padding: 0;\n",
              "    width: 32px;\n",
              "  }\n",
              "\n",
              "  .colab-df-quickchart:hover {\n",
              "    background-color: var(--hover-bg-color);\n",
              "    box-shadow: 0 1px 2px rgba(60, 64, 67, 0.3), 0 1px 3px 1px rgba(60, 64, 67, 0.15);\n",
              "    fill: var(--button-hover-fill-color);\n",
              "  }\n",
              "\n",
              "  .colab-df-quickchart-complete:disabled,\n",
              "  .colab-df-quickchart-complete:disabled:hover {\n",
              "    background-color: var(--disabled-bg-color);\n",
              "    fill: var(--disabled-fill-color);\n",
              "    box-shadow: none;\n",
              "  }\n",
              "\n",
              "  .colab-df-spinner {\n",
              "    border: 2px solid var(--fill-color);\n",
              "    border-color: transparent;\n",
              "    border-bottom-color: var(--fill-color);\n",
              "    animation:\n",
              "      spin 1s steps(1) infinite;\n",
              "  }\n",
              "\n",
              "  @keyframes spin {\n",
              "    0% {\n",
              "      border-color: transparent;\n",
              "      border-bottom-color: var(--fill-color);\n",
              "      border-left-color: var(--fill-color);\n",
              "    }\n",
              "    20% {\n",
              "      border-color: transparent;\n",
              "      border-left-color: var(--fill-color);\n",
              "      border-top-color: var(--fill-color);\n",
              "    }\n",
              "    30% {\n",
              "      border-color: transparent;\n",
              "      border-left-color: var(--fill-color);\n",
              "      border-top-color: var(--fill-color);\n",
              "      border-right-color: var(--fill-color);\n",
              "    }\n",
              "    40% {\n",
              "      border-color: transparent;\n",
              "      border-right-color: var(--fill-color);\n",
              "      border-top-color: var(--fill-color);\n",
              "    }\n",
              "    60% {\n",
              "      border-color: transparent;\n",
              "      border-right-color: var(--fill-color);\n",
              "    }\n",
              "    80% {\n",
              "      border-color: transparent;\n",
              "      border-right-color: var(--fill-color);\n",
              "      border-bottom-color: var(--fill-color);\n",
              "    }\n",
              "    90% {\n",
              "      border-color: transparent;\n",
              "      border-bottom-color: var(--fill-color);\n",
              "    }\n",
              "  }\n",
              "</style>\n",
              "\n",
              "  <script>\n",
              "    async function quickchart(key) {\n",
              "      const quickchartButtonEl =\n",
              "        document.querySelector('#' + key + ' button');\n",
              "      quickchartButtonEl.disabled = true;  // To prevent multiple clicks.\n",
              "      quickchartButtonEl.classList.add('colab-df-spinner');\n",
              "      try {\n",
              "        const charts = await google.colab.kernel.invokeFunction(\n",
              "            'suggestCharts', [key], {});\n",
              "      } catch (error) {\n",
              "        console.error('Error during call to suggestCharts:', error);\n",
              "      }\n",
              "      quickchartButtonEl.classList.remove('colab-df-spinner');\n",
              "      quickchartButtonEl.classList.add('colab-df-quickchart-complete');\n",
              "    }\n",
              "    (() => {\n",
              "      let quickchartButtonEl =\n",
              "        document.querySelector('#df-5e0456cf-ca6e-4f96-9330-37d8845a37bd button');\n",
              "      quickchartButtonEl.style.display =\n",
              "        google.colab.kernel.accessAllowed ? 'block' : 'none';\n",
              "    })();\n",
              "  </script>\n",
              "</div>\n",
              "\n",
              "    </div>\n",
              "  </div>\n"
            ],
            "application/vnd.google.colaboratory.intrinsic+json": {
              "type": "dataframe",
              "variable_name": "train_data",
              "summary": "{\n  \"name\": \"train_data\",\n  \"rows\": 826,\n  \"fields\": [\n    {\n      \"column\": \"ID\",\n      \"properties\": {\n        \"dtype\": \"number\",\n        \"std\": 297.6266464987469,\n        \"min\": 1.0,\n        \"max\": 1032.0,\n        \"num_unique_values\": 825,\n        \"samples\": [\n          283.0,\n          173.0,\n          362.0\n        ],\n        \"semantic_type\": \"\",\n        \"description\": \"\"\n      }\n    },\n    {\n      \"column\": \"Name\",\n      \"properties\": {\n        \"dtype\": \"string\",\n        \"num_unique_values\": 738,\n        \"samples\": [\n          \"Sean Dearing\",\n          \"Mikeiza\",\n          \"Paras Kumar\"\n        ],\n        \"semantic_type\": \"\",\n        \"description\": \"\"\n      }\n    },\n    {\n      \"column\": \"Stars\",\n      \"properties\": {\n        \"dtype\": \"category\",\n        \"num_unique_values\": 6,\n        \"samples\": [\n          \"5\",\n          \"4\",\n          \"Stars\"\n        ],\n        \"semantic_type\": \"\",\n        \"description\": \"\"\n      }\n    },\n    {\n      \"column\": \"Title\",\n      \"properties\": {\n        \"dtype\": \"string\",\n        \"num_unique_values\": 773,\n        \"samples\": [\n          \"Muy buen procesador\",\n          \"Bon pour mettre a jour une z690\",\n          \"Ventirad inefficace\"\n        ],\n        \"semantic_type\": \"\",\n        \"description\": \"\"\n      }\n    },\n    {\n      \"column\": \"Date\",\n      \"properties\": {\n        \"dtype\": \"category\",\n        \"num_unique_values\": 264,\n        \"samples\": [\n          \"20-12-2022\",\n          \"04-11-2022\",\n          \"10-12-2022\"\n        ],\n        \"semantic_type\": \"\",\n        \"description\": \"\"\n      }\n    },\n    {\n      \"column\": \"Description\",\n      \"properties\": {\n        \"dtype\": \"string\",\n        \"num_unique_values\": 796,\n        \"samples\": [\n          \"Received the product, everything on the packaging said i9-12900k. But the processor inside the case was a celeron G6900.. Make sure you check the chip that you receive when purchasing.\",\n          \"\\u00e5\\u0089\\u008d\\u00e3\\u0081\\u00aeCPU\\u00e3\\u0081\\u008c\\u00ef\\u00bc\\u0094\\u00e4\\u00b8\\u0096\\u00e4\\u00bb\\u00a3\\u00e3\\u0081\\u00ae4790k\\u00e3\\u0081\\u00aa\\u00e3\\u0081\\u00ae\\u00e3\\u0081\\u00a7\\u00ef\\u00bc\\u0091\\u00ef\\u00bc\\u0090\\u00e4\\u00b8\\u0096\\u00e4\\u00bb\\u00a3\\u00e3\\u0081\\u00b6\\u00e3\\u0082\\u008a\\u00e3\\u0081\\u00a7\\u00e3\\u0081\\u0099\\u00e3\\u0080\\u0082\\u00ef\\u00bc\\u0091\\u00ef\\u00bc\\u0094\\u00e4\\u00b8\\u0096\\u00e4\\u00bb\\u00a3\\u00e3\\u0081\\u00ae\\u00e4\\u00b8\\u00ad\\u00e3\\u0081\\u00a7\\u00e3\\u0082\\u0082\\u00e3\\u0081\\u00a1\\u00e3\\u0082\\u0087\\u00e3\\u0081\\u0086\\u00e3\\u0081\\u00a9\\u00e3\\u0081\\u0084\\u00e3\\u0081\\u0084\\u00e6\\u0080\\u00a7\\u00e8\\u0083\\u00bd\\u00e3\\u0081\\u008b\\u00e3\\u0081\\u00aa\\u00e3\\u0080\\u0082\",\n          \"the i3-10100f\\u00e2\\u0080\\u0099s main flaw was the small cache size of 6mo\\u00e2\\u0080\\u00a6 this one has 12mo\\u00e2\\u0080\\u00a6 which is a massive uplift in stability when gaming\\u00e2\\u0080\\u00a6 and speaking of gaming\\u00e2\\u0080\\u00a6. the cooler it comes with ( idk why but one of the 4 push pins never wanted to be fully pushed ) well\\u00e2\\u0080\\u00a6 playing gta 5 at 120fps led me to 85-92 degrees on the cpu\\u00e2\\u0080\\u00a6\\u00e2\\u0080\\u00a6 sorry but this is not a laptop, this is unacceptable\\u00e2\\u0080\\u00a6\\u00e2\\u0080\\u00a6\\u00e2\\u0080\\u00a6\\u00e2\\u0080\\u00a6..get ready for a cooler upgrade, i can\\u00e2\\u0080\\u0099t believe they even give this but twice bigger for the i9\\u00e2\\u0080\\u0099s\\u00e2\\u0080\\u00a6 oof\\u00e2\\u0080\\u00a6. struggling under 35w load, that\\u00e2\\u0080\\u0099s pathetic\"\n        ],\n        \"semantic_type\": \"\",\n        \"description\": \"\"\n      }\n    }\n  ]\n}"
            }
          },
          "metadata": {},
          "execution_count": 123
        }
      ]
    },
    {
      "cell_type": "code",
      "source": [
        "test_data.head()"
      ],
      "metadata": {
        "colab": {
          "base_uri": "https://localhost:8080/",
          "height": 206
        },
        "id": "mrEcHv4GYO47",
        "outputId": "9a617754-438b-4e53-f436-2d8618b17a7a"
      },
      "execution_count": null,
      "outputs": [
        {
          "output_type": "execute_result",
          "data": {
            "text/plain": [
              "        ID             Name Stars  \\\n",
              "294  295.0      KimyChalula     5   \n",
              "453  454.0  Amazon Customer     4   \n",
              "636  637.0             Manu     5   \n",
              "139  140.0   Ashutosh Aswal     1   \n",
              "538  539.0             Thom     5   \n",
              "\n",
              "                                               Title        Date  \\\n",
              "294                5.0 out of 5 stars\\nBuen producto  27-02-2024   \n",
              "453               4.0 out of 5 stars\\nIt's a hot one  05-12-2023   \n",
              "636                                     Puissance...         NaN   \n",
              "139  1.0 out of 5 stars\\nGood Cpu but awful Delivery         NaN   \n",
              "538                          5.0 out of 5 stars\\nHot  22-03-2024   \n",
              "\n",
              "                                           Description  \n",
              "294  Por el momento me funciona perfectamente para ...  \n",
              "453  I had to replace my h60 to get this to run a f...  \n",
              "636  Super processeur, trÃ¨s puissant, ne chauffe p...  \n",
              "139  The Processor is Good & Works Fine. But The De...  \n",
              "538  Runs hot but runs very well needs a good good ...  "
            ],
            "text/html": [
              "\n",
              "  <div id=\"df-795d04c0-0867-44bc-9df7-caab958a43cb\" class=\"colab-df-container\">\n",
              "    <div>\n",
              "<style scoped>\n",
              "    .dataframe tbody tr th:only-of-type {\n",
              "        vertical-align: middle;\n",
              "    }\n",
              "\n",
              "    .dataframe tbody tr th {\n",
              "        vertical-align: top;\n",
              "    }\n",
              "\n",
              "    .dataframe thead th {\n",
              "        text-align: right;\n",
              "    }\n",
              "</style>\n",
              "<table border=\"1\" class=\"dataframe\">\n",
              "  <thead>\n",
              "    <tr style=\"text-align: right;\">\n",
              "      <th></th>\n",
              "      <th>ID</th>\n",
              "      <th>Name</th>\n",
              "      <th>Stars</th>\n",
              "      <th>Title</th>\n",
              "      <th>Date</th>\n",
              "      <th>Description</th>\n",
              "    </tr>\n",
              "  </thead>\n",
              "  <tbody>\n",
              "    <tr>\n",
              "      <th>294</th>\n",
              "      <td>295.0</td>\n",
              "      <td>KimyChalula</td>\n",
              "      <td>5</td>\n",
              "      <td>5.0 out of 5 stars\\nBuen producto</td>\n",
              "      <td>27-02-2024</td>\n",
              "      <td>Por el momento me funciona perfectamente para ...</td>\n",
              "    </tr>\n",
              "    <tr>\n",
              "      <th>453</th>\n",
              "      <td>454.0</td>\n",
              "      <td>Amazon Customer</td>\n",
              "      <td>4</td>\n",
              "      <td>4.0 out of 5 stars\\nIt's a hot one</td>\n",
              "      <td>05-12-2023</td>\n",
              "      <td>I had to replace my h60 to get this to run a f...</td>\n",
              "    </tr>\n",
              "    <tr>\n",
              "      <th>636</th>\n",
              "      <td>637.0</td>\n",
              "      <td>Manu</td>\n",
              "      <td>5</td>\n",
              "      <td>Puissance...</td>\n",
              "      <td>NaN</td>\n",
              "      <td>Super processeur, trÃ¨s puissant, ne chauffe p...</td>\n",
              "    </tr>\n",
              "    <tr>\n",
              "      <th>139</th>\n",
              "      <td>140.0</td>\n",
              "      <td>Ashutosh Aswal</td>\n",
              "      <td>1</td>\n",
              "      <td>1.0 out of 5 stars\\nGood Cpu but awful Delivery</td>\n",
              "      <td>NaN</td>\n",
              "      <td>The Processor is Good &amp; Works Fine. But The De...</td>\n",
              "    </tr>\n",
              "    <tr>\n",
              "      <th>538</th>\n",
              "      <td>539.0</td>\n",
              "      <td>Thom</td>\n",
              "      <td>5</td>\n",
              "      <td>5.0 out of 5 stars\\nHot</td>\n",
              "      <td>22-03-2024</td>\n",
              "      <td>Runs hot but runs very well needs a good good ...</td>\n",
              "    </tr>\n",
              "  </tbody>\n",
              "</table>\n",
              "</div>\n",
              "    <div class=\"colab-df-buttons\">\n",
              "\n",
              "  <div class=\"colab-df-container\">\n",
              "    <button class=\"colab-df-convert\" onclick=\"convertToInteractive('df-795d04c0-0867-44bc-9df7-caab958a43cb')\"\n",
              "            title=\"Convert this dataframe to an interactive table.\"\n",
              "            style=\"display:none;\">\n",
              "\n",
              "  <svg xmlns=\"http://www.w3.org/2000/svg\" height=\"24px\" viewBox=\"0 -960 960 960\">\n",
              "    <path d=\"M120-120v-720h720v720H120Zm60-500h600v-160H180v160Zm220 220h160v-160H400v160Zm0 220h160v-160H400v160ZM180-400h160v-160H180v160Zm440 0h160v-160H620v160ZM180-180h160v-160H180v160Zm440 0h160v-160H620v160Z\"/>\n",
              "  </svg>\n",
              "    </button>\n",
              "\n",
              "  <style>\n",
              "    .colab-df-container {\n",
              "      display:flex;\n",
              "      gap: 12px;\n",
              "    }\n",
              "\n",
              "    .colab-df-convert {\n",
              "      background-color: #E8F0FE;\n",
              "      border: none;\n",
              "      border-radius: 50%;\n",
              "      cursor: pointer;\n",
              "      display: none;\n",
              "      fill: #1967D2;\n",
              "      height: 32px;\n",
              "      padding: 0 0 0 0;\n",
              "      width: 32px;\n",
              "    }\n",
              "\n",
              "    .colab-df-convert:hover {\n",
              "      background-color: #E2EBFA;\n",
              "      box-shadow: 0px 1px 2px rgba(60, 64, 67, 0.3), 0px 1px 3px 1px rgba(60, 64, 67, 0.15);\n",
              "      fill: #174EA6;\n",
              "    }\n",
              "\n",
              "    .colab-df-buttons div {\n",
              "      margin-bottom: 4px;\n",
              "    }\n",
              "\n",
              "    [theme=dark] .colab-df-convert {\n",
              "      background-color: #3B4455;\n",
              "      fill: #D2E3FC;\n",
              "    }\n",
              "\n",
              "    [theme=dark] .colab-df-convert:hover {\n",
              "      background-color: #434B5C;\n",
              "      box-shadow: 0px 1px 3px 1px rgba(0, 0, 0, 0.15);\n",
              "      filter: drop-shadow(0px 1px 2px rgba(0, 0, 0, 0.3));\n",
              "      fill: #FFFFFF;\n",
              "    }\n",
              "  </style>\n",
              "\n",
              "    <script>\n",
              "      const buttonEl =\n",
              "        document.querySelector('#df-795d04c0-0867-44bc-9df7-caab958a43cb button.colab-df-convert');\n",
              "      buttonEl.style.display =\n",
              "        google.colab.kernel.accessAllowed ? 'block' : 'none';\n",
              "\n",
              "      async function convertToInteractive(key) {\n",
              "        const element = document.querySelector('#df-795d04c0-0867-44bc-9df7-caab958a43cb');\n",
              "        const dataTable =\n",
              "          await google.colab.kernel.invokeFunction('convertToInteractive',\n",
              "                                                    [key], {});\n",
              "        if (!dataTable) return;\n",
              "\n",
              "        const docLinkHtml = 'Like what you see? Visit the ' +\n",
              "          '<a target=\"_blank\" href=https://colab.research.google.com/notebooks/data_table.ipynb>data table notebook</a>'\n",
              "          + ' to learn more about interactive tables.';\n",
              "        element.innerHTML = '';\n",
              "        dataTable['output_type'] = 'display_data';\n",
              "        await google.colab.output.renderOutput(dataTable, element);\n",
              "        const docLink = document.createElement('div');\n",
              "        docLink.innerHTML = docLinkHtml;\n",
              "        element.appendChild(docLink);\n",
              "      }\n",
              "    </script>\n",
              "  </div>\n",
              "\n",
              "\n",
              "<div id=\"df-321d9fb2-65b3-422c-b3df-f11730e2e52e\">\n",
              "  <button class=\"colab-df-quickchart\" onclick=\"quickchart('df-321d9fb2-65b3-422c-b3df-f11730e2e52e')\"\n",
              "            title=\"Suggest charts\"\n",
              "            style=\"display:none;\">\n",
              "\n",
              "<svg xmlns=\"http://www.w3.org/2000/svg\" height=\"24px\"viewBox=\"0 0 24 24\"\n",
              "     width=\"24px\">\n",
              "    <g>\n",
              "        <path d=\"M19 3H5c-1.1 0-2 .9-2 2v14c0 1.1.9 2 2 2h14c1.1 0 2-.9 2-2V5c0-1.1-.9-2-2-2zM9 17H7v-7h2v7zm4 0h-2V7h2v10zm4 0h-2v-4h2v4z\"/>\n",
              "    </g>\n",
              "</svg>\n",
              "  </button>\n",
              "\n",
              "<style>\n",
              "  .colab-df-quickchart {\n",
              "      --bg-color: #E8F0FE;\n",
              "      --fill-color: #1967D2;\n",
              "      --hover-bg-color: #E2EBFA;\n",
              "      --hover-fill-color: #174EA6;\n",
              "      --disabled-fill-color: #AAA;\n",
              "      --disabled-bg-color: #DDD;\n",
              "  }\n",
              "\n",
              "  [theme=dark] .colab-df-quickchart {\n",
              "      --bg-color: #3B4455;\n",
              "      --fill-color: #D2E3FC;\n",
              "      --hover-bg-color: #434B5C;\n",
              "      --hover-fill-color: #FFFFFF;\n",
              "      --disabled-bg-color: #3B4455;\n",
              "      --disabled-fill-color: #666;\n",
              "  }\n",
              "\n",
              "  .colab-df-quickchart {\n",
              "    background-color: var(--bg-color);\n",
              "    border: none;\n",
              "    border-radius: 50%;\n",
              "    cursor: pointer;\n",
              "    display: none;\n",
              "    fill: var(--fill-color);\n",
              "    height: 32px;\n",
              "    padding: 0;\n",
              "    width: 32px;\n",
              "  }\n",
              "\n",
              "  .colab-df-quickchart:hover {\n",
              "    background-color: var(--hover-bg-color);\n",
              "    box-shadow: 0 1px 2px rgba(60, 64, 67, 0.3), 0 1px 3px 1px rgba(60, 64, 67, 0.15);\n",
              "    fill: var(--button-hover-fill-color);\n",
              "  }\n",
              "\n",
              "  .colab-df-quickchart-complete:disabled,\n",
              "  .colab-df-quickchart-complete:disabled:hover {\n",
              "    background-color: var(--disabled-bg-color);\n",
              "    fill: var(--disabled-fill-color);\n",
              "    box-shadow: none;\n",
              "  }\n",
              "\n",
              "  .colab-df-spinner {\n",
              "    border: 2px solid var(--fill-color);\n",
              "    border-color: transparent;\n",
              "    border-bottom-color: var(--fill-color);\n",
              "    animation:\n",
              "      spin 1s steps(1) infinite;\n",
              "  }\n",
              "\n",
              "  @keyframes spin {\n",
              "    0% {\n",
              "      border-color: transparent;\n",
              "      border-bottom-color: var(--fill-color);\n",
              "      border-left-color: var(--fill-color);\n",
              "    }\n",
              "    20% {\n",
              "      border-color: transparent;\n",
              "      border-left-color: var(--fill-color);\n",
              "      border-top-color: var(--fill-color);\n",
              "    }\n",
              "    30% {\n",
              "      border-color: transparent;\n",
              "      border-left-color: var(--fill-color);\n",
              "      border-top-color: var(--fill-color);\n",
              "      border-right-color: var(--fill-color);\n",
              "    }\n",
              "    40% {\n",
              "      border-color: transparent;\n",
              "      border-right-color: var(--fill-color);\n",
              "      border-top-color: var(--fill-color);\n",
              "    }\n",
              "    60% {\n",
              "      border-color: transparent;\n",
              "      border-right-color: var(--fill-color);\n",
              "    }\n",
              "    80% {\n",
              "      border-color: transparent;\n",
              "      border-right-color: var(--fill-color);\n",
              "      border-bottom-color: var(--fill-color);\n",
              "    }\n",
              "    90% {\n",
              "      border-color: transparent;\n",
              "      border-bottom-color: var(--fill-color);\n",
              "    }\n",
              "  }\n",
              "</style>\n",
              "\n",
              "  <script>\n",
              "    async function quickchart(key) {\n",
              "      const quickchartButtonEl =\n",
              "        document.querySelector('#' + key + ' button');\n",
              "      quickchartButtonEl.disabled = true;  // To prevent multiple clicks.\n",
              "      quickchartButtonEl.classList.add('colab-df-spinner');\n",
              "      try {\n",
              "        const charts = await google.colab.kernel.invokeFunction(\n",
              "            'suggestCharts', [key], {});\n",
              "      } catch (error) {\n",
              "        console.error('Error during call to suggestCharts:', error);\n",
              "      }\n",
              "      quickchartButtonEl.classList.remove('colab-df-spinner');\n",
              "      quickchartButtonEl.classList.add('colab-df-quickchart-complete');\n",
              "    }\n",
              "    (() => {\n",
              "      let quickchartButtonEl =\n",
              "        document.querySelector('#df-321d9fb2-65b3-422c-b3df-f11730e2e52e button');\n",
              "      quickchartButtonEl.style.display =\n",
              "        google.colab.kernel.accessAllowed ? 'block' : 'none';\n",
              "    })();\n",
              "  </script>\n",
              "</div>\n",
              "\n",
              "    </div>\n",
              "  </div>\n"
            ],
            "application/vnd.google.colaboratory.intrinsic+json": {
              "type": "dataframe",
              "variable_name": "test_data",
              "repr_error": "0"
            }
          },
          "metadata": {},
          "execution_count": 124
        }
      ]
    },
    {
      "cell_type": "code",
      "source": [
        "print(stopwords.words('english'))\n",
        "emoticons = [\":)\", ':-)', ': )', ':D', '=)', ':(', ':-(', ': (']\n",
        "stpwrd = nltk.corpus.stopwords.words('english')\n",
        "stpwrd.extend(emoticons)"
      ],
      "metadata": {
        "colab": {
          "base_uri": "https://localhost:8080/"
        },
        "id": "gYRle-UpYVlY",
        "outputId": "1ca05b6d-8e43-4813-b1d1-a5738f31a324"
      },
      "execution_count": null,
      "outputs": [
        {
          "output_type": "stream",
          "name": "stdout",
          "text": [
            "['i', 'me', 'my', 'myself', 'we', 'our', 'ours', 'ourselves', 'you', \"you're\", \"you've\", \"you'll\", \"you'd\", 'your', 'yours', 'yourself', 'yourselves', 'he', 'him', 'his', 'himself', 'she', \"she's\", 'her', 'hers', 'herself', 'it', \"it's\", 'its', 'itself', 'they', 'them', 'their', 'theirs', 'themselves', 'what', 'which', 'who', 'whom', 'this', 'that', \"that'll\", 'these', 'those', 'am', 'is', 'are', 'was', 'were', 'be', 'been', 'being', 'have', 'has', 'had', 'having', 'do', 'does', 'did', 'doing', 'a', 'an', 'the', 'and', 'but', 'if', 'or', 'because', 'as', 'until', 'while', 'of', 'at', 'by', 'for', 'with', 'about', 'against', 'between', 'into', 'through', 'during', 'before', 'after', 'above', 'below', 'to', 'from', 'up', 'down', 'in', 'out', 'on', 'off', 'over', 'under', 'again', 'further', 'then', 'once', 'here', 'there', 'when', 'where', 'why', 'how', 'all', 'any', 'both', 'each', 'few', 'more', 'most', 'other', 'some', 'such', 'no', 'nor', 'not', 'only', 'own', 'same', 'so', 'than', 'too', 'very', 's', 't', 'can', 'will', 'just', 'don', \"don't\", 'should', \"should've\", 'now', 'd', 'll', 'm', 'o', 're', 've', 'y', 'ain', 'aren', \"aren't\", 'couldn', \"couldn't\", 'didn', \"didn't\", 'doesn', \"doesn't\", 'hadn', \"hadn't\", 'hasn', \"hasn't\", 'haven', \"haven't\", 'isn', \"isn't\", 'ma', 'mightn', \"mightn't\", 'mustn', \"mustn't\", 'needn', \"needn't\", 'shan', \"shan't\", 'shouldn', \"shouldn't\", 'wasn', \"wasn't\", 'weren', \"weren't\", 'won', \"won't\", 'wouldn', \"wouldn't\"]\n"
          ]
        }
      ]
    },
    {
      "cell_type": "markdown",
      "source": [
        "Cleaning the data/ Preprocessing"
      ],
      "metadata": {
        "id": "pnLIh2v3YzM7"
      }
    },
    {
      "cell_type": "code",
      "source": [
        "import re # import regex\n",
        "\n",
        "def preprocess_data(data):\n",
        "  data = data.drop_duplicates(subset=['Description'], keep='first')\n",
        "\n",
        "  # Remove emojis from data\n",
        "  data = data.astype(str).apply(lambda x: x.str.encode('ascii', 'ignore').str.decode('ascii'))\n",
        "\n",
        "  # Remove emoticons as stopwords so it will happen when tokenizing our sentences hence not needed here\n",
        "\n",
        "  # Remove urls\n",
        "  def remove_username_link_nums(Description):\n",
        "    Description = re.sub('@[^\\s]+', '', Description)\n",
        "    Description = re.sub('http[^\\s]+', '',Description)\n",
        "    Description = re.sub(r'\\d+', '', Description)\n",
        "    return Description\n",
        "\n",
        "  data['Description'] = data['Description'].apply(remove_username_link_nums)\n",
        "\n",
        "  # # turn text to lowercase\n",
        "  data['Description'] = data['Description'].map(lambda x: x.lower())\n",
        "\n",
        "  # Remove stopwords and lemmatize the text\n",
        "  lem = WordNetLemmatizer()\n",
        "  def remove_stopwords(Description):\n",
        "    tokens = []\n",
        "    for token in text.split():\n",
        "      if token not in stpwrd:\n",
        "        tokens.append(lem.lemmatize(token, \"v\"))\n",
        "\n",
        "    return  \" \".join(tokens)\n",
        "\n",
        "  data.Description = data.Description.apply(lambda x: remove_stopwords(x))\n",
        "\n",
        "\n",
        "  return data"
      ],
      "metadata": {
        "id": "Rrcw5QlAY1yh"
      },
      "execution_count": null,
      "outputs": []
    },
    {
      "cell_type": "code",
      "source": [
        "\n",
        "train_neg = train_data[:10000]\n",
        "train_pos = train_data[1590000:]"
      ],
      "metadata": {
        "id": "UvPIVbMWZPaI"
      },
      "execution_count": null,
      "outputs": []
    },
    {
      "cell_type": "code",
      "source": [
        "\n",
        "\n",
        "test_neg = train_data[10000:12000]\n",
        "test_pos = train_data[1588000:1590000]\n"
      ],
      "metadata": {
        "id": "cD8rtxZ2ZSTb"
      },
      "execution_count": null,
      "outputs": []
    },
    {
      "cell_type": "code",
      "source": [
        "\n",
        "train_neg.shape"
      ],
      "metadata": {
        "colab": {
          "base_uri": "https://localhost:8080/"
        },
        "id": "icabWY77ZbyZ",
        "outputId": "9d1d0418-cc0f-44fe-ec01-aa4d58d9ceca"
      },
      "execution_count": null,
      "outputs": [
        {
          "output_type": "execute_result",
          "data": {
            "text/plain": [
              "(826, 6)"
            ]
          },
          "metadata": {},
          "execution_count": 129
        }
      ]
    },
    {
      "cell_type": "code",
      "source": [
        "train_examples =pd.concat([train_neg, train_pos])\n",
        "test_examples =pd.concat([test_neg, test_pos])"
      ],
      "metadata": {
        "id": "D2cMirn9ZliO"
      },
      "execution_count": null,
      "outputs": []
    },
    {
      "cell_type": "code",
      "source": [
        "\n",
        "train_examples.shape"
      ],
      "metadata": {
        "colab": {
          "base_uri": "https://localhost:8080/"
        },
        "id": "8C1_XcUMQukH",
        "outputId": "0f5a824f-7e0e-422a-b62f-b1a7fb7c1e4c"
      },
      "execution_count": null,
      "outputs": [
        {
          "output_type": "execute_result",
          "data": {
            "text/plain": [
              "(826, 6)"
            ]
          },
          "metadata": {},
          "execution_count": 131
        }
      ]
    },
    {
      "cell_type": "code",
      "source": [
        "test_examples.shape"
      ],
      "metadata": {
        "colab": {
          "base_uri": "https://localhost:8080/"
        },
        "id": "YW_LSAuGQxCI",
        "outputId": "3bd364e8-d3ef-4d6c-f518-e3332650b6ce"
      },
      "execution_count": null,
      "outputs": [
        {
          "output_type": "execute_result",
          "data": {
            "text/plain": [
              "(0, 6)"
            ]
          },
          "metadata": {},
          "execution_count": 132
        }
      ]
    },
    {
      "cell_type": "code",
      "source": [
        "nltk.download('omw-1.4')"
      ],
      "metadata": {
        "colab": {
          "base_uri": "https://localhost:8080/"
        },
        "id": "L4puV2DDQy9j",
        "outputId": "03871119-aa02-4ddc-a78d-c6a6db0cad23"
      },
      "execution_count": null,
      "outputs": [
        {
          "output_type": "stream",
          "name": "stderr",
          "text": [
            "[nltk_data] Downloading package omw-1.4 to /root/nltk_data...\n",
            "[nltk_data]   Package omw-1.4 is already up-to-date!\n"
          ]
        },
        {
          "output_type": "execute_result",
          "data": {
            "text/plain": [
              "True"
            ]
          },
          "metadata": {},
          "execution_count": 133
        }
      ]
    },
    {
      "cell_type": "code",
      "source": [
        "train_data.isna().sum().sort_values()"
      ],
      "metadata": {
        "colab": {
          "base_uri": "https://localhost:8080/"
        },
        "id": "mQ_mfbSUQ1Ib",
        "outputId": "9809ff15-b1b9-400a-8103-1f90a7ffb0f2"
      },
      "execution_count": null,
      "outputs": [
        {
          "output_type": "execute_result",
          "data": {
            "text/plain": [
              "Name             0\n",
              "ID               1\n",
              "Stars            1\n",
              "Title            1\n",
              "Description      6\n",
              "Date           475\n",
              "dtype: int64"
            ]
          },
          "metadata": {},
          "execution_count": 134
        }
      ]
    },
    {
      "cell_type": "code",
      "source": [
        "train_examples['Description'] = train_examples['Description'].astype(str).fillna('')"
      ],
      "metadata": {
        "id": "sqJVmr0XS8HT"
      },
      "execution_count": null,
      "outputs": []
    },
    {
      "cell_type": "code",
      "source": [
        "tokenizer = Tokenizer()\n",
        "tokenizer.fit_on_texts(train_examples.Description)"
      ],
      "metadata": {
        "id": "bzGIJrszRFCc"
      },
      "execution_count": null,
      "outputs": []
    },
    {
      "cell_type": "code",
      "source": [
        "\n",
        "vocab_size = len(tokenizer.word_index) + 1\n",
        "embedding_dim = 16\n",
        "max_length = 50\n",
        "trunc_type='post'\n",
        "padding_type='post'\n",
        "oov_tok = \"\"\n",
        "training_portion = .8"
      ],
      "metadata": {
        "id": "3KrC3UJnRceb"
      },
      "execution_count": null,
      "outputs": []
    },
    {
      "cell_type": "code",
      "source": [
        "\n",
        "train_sequences = tokenizer.texts_to_sequences(train_examples.Description)\n",
        "test_sequences = tokenizer.texts_to_sequences(test_examples.Description)\n",
        "\n",
        "X_train = pad_sequences(train_sequences, maxlen = max_length, padding = padding_type)\n",
        "\n",
        "X_test = pad_sequences(test_sequences, maxlen = max_length, padding = padding_type)"
      ],
      "metadata": {
        "id": "1HnC92EDTAvY"
      },
      "execution_count": null,
      "outputs": []
    },
    {
      "cell_type": "code",
      "source": [
        "word_index = tokenizer.word_index"
      ],
      "metadata": {
        "id": "N2PyRKYrTDS5"
      },
      "execution_count": null,
      "outputs": []
    },
    {
      "cell_type": "code",
      "source": [
        "len(word_index)"
      ],
      "metadata": {
        "colab": {
          "base_uri": "https://localhost:8080/"
        },
        "id": "vc-i_wnXTRa8",
        "outputId": "f037acab-a6d9-4765-cc91-799a6a754969"
      },
      "execution_count": null,
      "outputs": [
        {
          "output_type": "execute_result",
          "data": {
            "text/plain": [
              "6572"
            ]
          },
          "metadata": {},
          "execution_count": 140
        }
      ]
    },
    {
      "cell_type": "code",
      "source": [
        "\n",
        "X_train.shape"
      ],
      "metadata": {
        "colab": {
          "base_uri": "https://localhost:8080/"
        },
        "id": "DID3123oTTSO",
        "outputId": "8dde41eb-0d15-4aa6-bb6e-409414f835b4"
      },
      "execution_count": null,
      "outputs": [
        {
          "output_type": "execute_result",
          "data": {
            "text/plain": [
              "(826, 50)"
            ]
          },
          "metadata": {},
          "execution_count": 141
        }
      ]
    },
    {
      "cell_type": "code",
      "source": [
        "test_data.head()"
      ],
      "metadata": {
        "colab": {
          "base_uri": "https://localhost:8080/",
          "height": 206
        },
        "id": "owt58tOtTU60",
        "outputId": "3925f4bf-1a47-43a4-c6e7-d7cfa0e3977f"
      },
      "execution_count": null,
      "outputs": [
        {
          "output_type": "execute_result",
          "data": {
            "text/plain": [
              "        ID             Name Stars  \\\n",
              "294  295.0      KimyChalula     5   \n",
              "453  454.0  Amazon Customer     4   \n",
              "636  637.0             Manu     5   \n",
              "139  140.0   Ashutosh Aswal     1   \n",
              "538  539.0             Thom     5   \n",
              "\n",
              "                                               Title        Date  \\\n",
              "294                5.0 out of 5 stars\\nBuen producto  27-02-2024   \n",
              "453               4.0 out of 5 stars\\nIt's a hot one  05-12-2023   \n",
              "636                                     Puissance...         NaN   \n",
              "139  1.0 out of 5 stars\\nGood Cpu but awful Delivery         NaN   \n",
              "538                          5.0 out of 5 stars\\nHot  22-03-2024   \n",
              "\n",
              "                                           Description  \n",
              "294  Por el momento me funciona perfectamente para ...  \n",
              "453  I had to replace my h60 to get this to run a f...  \n",
              "636  Super processeur, trÃ¨s puissant, ne chauffe p...  \n",
              "139  The Processor is Good & Works Fine. But The De...  \n",
              "538  Runs hot but runs very well needs a good good ...  "
            ],
            "text/html": [
              "\n",
              "  <div id=\"df-b713d06c-0cc1-4537-afc3-1facd5e178fb\" class=\"colab-df-container\">\n",
              "    <div>\n",
              "<style scoped>\n",
              "    .dataframe tbody tr th:only-of-type {\n",
              "        vertical-align: middle;\n",
              "    }\n",
              "\n",
              "    .dataframe tbody tr th {\n",
              "        vertical-align: top;\n",
              "    }\n",
              "\n",
              "    .dataframe thead th {\n",
              "        text-align: right;\n",
              "    }\n",
              "</style>\n",
              "<table border=\"1\" class=\"dataframe\">\n",
              "  <thead>\n",
              "    <tr style=\"text-align: right;\">\n",
              "      <th></th>\n",
              "      <th>ID</th>\n",
              "      <th>Name</th>\n",
              "      <th>Stars</th>\n",
              "      <th>Title</th>\n",
              "      <th>Date</th>\n",
              "      <th>Description</th>\n",
              "    </tr>\n",
              "  </thead>\n",
              "  <tbody>\n",
              "    <tr>\n",
              "      <th>294</th>\n",
              "      <td>295.0</td>\n",
              "      <td>KimyChalula</td>\n",
              "      <td>5</td>\n",
              "      <td>5.0 out of 5 stars\\nBuen producto</td>\n",
              "      <td>27-02-2024</td>\n",
              "      <td>Por el momento me funciona perfectamente para ...</td>\n",
              "    </tr>\n",
              "    <tr>\n",
              "      <th>453</th>\n",
              "      <td>454.0</td>\n",
              "      <td>Amazon Customer</td>\n",
              "      <td>4</td>\n",
              "      <td>4.0 out of 5 stars\\nIt's a hot one</td>\n",
              "      <td>05-12-2023</td>\n",
              "      <td>I had to replace my h60 to get this to run a f...</td>\n",
              "    </tr>\n",
              "    <tr>\n",
              "      <th>636</th>\n",
              "      <td>637.0</td>\n",
              "      <td>Manu</td>\n",
              "      <td>5</td>\n",
              "      <td>Puissance...</td>\n",
              "      <td>NaN</td>\n",
              "      <td>Super processeur, trÃ¨s puissant, ne chauffe p...</td>\n",
              "    </tr>\n",
              "    <tr>\n",
              "      <th>139</th>\n",
              "      <td>140.0</td>\n",
              "      <td>Ashutosh Aswal</td>\n",
              "      <td>1</td>\n",
              "      <td>1.0 out of 5 stars\\nGood Cpu but awful Delivery</td>\n",
              "      <td>NaN</td>\n",
              "      <td>The Processor is Good &amp; Works Fine. But The De...</td>\n",
              "    </tr>\n",
              "    <tr>\n",
              "      <th>538</th>\n",
              "      <td>539.0</td>\n",
              "      <td>Thom</td>\n",
              "      <td>5</td>\n",
              "      <td>5.0 out of 5 stars\\nHot</td>\n",
              "      <td>22-03-2024</td>\n",
              "      <td>Runs hot but runs very well needs a good good ...</td>\n",
              "    </tr>\n",
              "  </tbody>\n",
              "</table>\n",
              "</div>\n",
              "    <div class=\"colab-df-buttons\">\n",
              "\n",
              "  <div class=\"colab-df-container\">\n",
              "    <button class=\"colab-df-convert\" onclick=\"convertToInteractive('df-b713d06c-0cc1-4537-afc3-1facd5e178fb')\"\n",
              "            title=\"Convert this dataframe to an interactive table.\"\n",
              "            style=\"display:none;\">\n",
              "\n",
              "  <svg xmlns=\"http://www.w3.org/2000/svg\" height=\"24px\" viewBox=\"0 -960 960 960\">\n",
              "    <path d=\"M120-120v-720h720v720H120Zm60-500h600v-160H180v160Zm220 220h160v-160H400v160Zm0 220h160v-160H400v160ZM180-400h160v-160H180v160Zm440 0h160v-160H620v160ZM180-180h160v-160H180v160Zm440 0h160v-160H620v160Z\"/>\n",
              "  </svg>\n",
              "    </button>\n",
              "\n",
              "  <style>\n",
              "    .colab-df-container {\n",
              "      display:flex;\n",
              "      gap: 12px;\n",
              "    }\n",
              "\n",
              "    .colab-df-convert {\n",
              "      background-color: #E8F0FE;\n",
              "      border: none;\n",
              "      border-radius: 50%;\n",
              "      cursor: pointer;\n",
              "      display: none;\n",
              "      fill: #1967D2;\n",
              "      height: 32px;\n",
              "      padding: 0 0 0 0;\n",
              "      width: 32px;\n",
              "    }\n",
              "\n",
              "    .colab-df-convert:hover {\n",
              "      background-color: #E2EBFA;\n",
              "      box-shadow: 0px 1px 2px rgba(60, 64, 67, 0.3), 0px 1px 3px 1px rgba(60, 64, 67, 0.15);\n",
              "      fill: #174EA6;\n",
              "    }\n",
              "\n",
              "    .colab-df-buttons div {\n",
              "      margin-bottom: 4px;\n",
              "    }\n",
              "\n",
              "    [theme=dark] .colab-df-convert {\n",
              "      background-color: #3B4455;\n",
              "      fill: #D2E3FC;\n",
              "    }\n",
              "\n",
              "    [theme=dark] .colab-df-convert:hover {\n",
              "      background-color: #434B5C;\n",
              "      box-shadow: 0px 1px 3px 1px rgba(0, 0, 0, 0.15);\n",
              "      filter: drop-shadow(0px 1px 2px rgba(0, 0, 0, 0.3));\n",
              "      fill: #FFFFFF;\n",
              "    }\n",
              "  </style>\n",
              "\n",
              "    <script>\n",
              "      const buttonEl =\n",
              "        document.querySelector('#df-b713d06c-0cc1-4537-afc3-1facd5e178fb button.colab-df-convert');\n",
              "      buttonEl.style.display =\n",
              "        google.colab.kernel.accessAllowed ? 'block' : 'none';\n",
              "\n",
              "      async function convertToInteractive(key) {\n",
              "        const element = document.querySelector('#df-b713d06c-0cc1-4537-afc3-1facd5e178fb');\n",
              "        const dataTable =\n",
              "          await google.colab.kernel.invokeFunction('convertToInteractive',\n",
              "                                                    [key], {});\n",
              "        if (!dataTable) return;\n",
              "\n",
              "        const docLinkHtml = 'Like what you see? Visit the ' +\n",
              "          '<a target=\"_blank\" href=https://colab.research.google.com/notebooks/data_table.ipynb>data table notebook</a>'\n",
              "          + ' to learn more about interactive tables.';\n",
              "        element.innerHTML = '';\n",
              "        dataTable['output_type'] = 'display_data';\n",
              "        await google.colab.output.renderOutput(dataTable, element);\n",
              "        const docLink = document.createElement('div');\n",
              "        docLink.innerHTML = docLinkHtml;\n",
              "        element.appendChild(docLink);\n",
              "      }\n",
              "    </script>\n",
              "  </div>\n",
              "\n",
              "\n",
              "<div id=\"df-2d757c28-a36b-433b-9b91-4e7619ed16b6\">\n",
              "  <button class=\"colab-df-quickchart\" onclick=\"quickchart('df-2d757c28-a36b-433b-9b91-4e7619ed16b6')\"\n",
              "            title=\"Suggest charts\"\n",
              "            style=\"display:none;\">\n",
              "\n",
              "<svg xmlns=\"http://www.w3.org/2000/svg\" height=\"24px\"viewBox=\"0 0 24 24\"\n",
              "     width=\"24px\">\n",
              "    <g>\n",
              "        <path d=\"M19 3H5c-1.1 0-2 .9-2 2v14c0 1.1.9 2 2 2h14c1.1 0 2-.9 2-2V5c0-1.1-.9-2-2-2zM9 17H7v-7h2v7zm4 0h-2V7h2v10zm4 0h-2v-4h2v4z\"/>\n",
              "    </g>\n",
              "</svg>\n",
              "  </button>\n",
              "\n",
              "<style>\n",
              "  .colab-df-quickchart {\n",
              "      --bg-color: #E8F0FE;\n",
              "      --fill-color: #1967D2;\n",
              "      --hover-bg-color: #E2EBFA;\n",
              "      --hover-fill-color: #174EA6;\n",
              "      --disabled-fill-color: #AAA;\n",
              "      --disabled-bg-color: #DDD;\n",
              "  }\n",
              "\n",
              "  [theme=dark] .colab-df-quickchart {\n",
              "      --bg-color: #3B4455;\n",
              "      --fill-color: #D2E3FC;\n",
              "      --hover-bg-color: #434B5C;\n",
              "      --hover-fill-color: #FFFFFF;\n",
              "      --disabled-bg-color: #3B4455;\n",
              "      --disabled-fill-color: #666;\n",
              "  }\n",
              "\n",
              "  .colab-df-quickchart {\n",
              "    background-color: var(--bg-color);\n",
              "    border: none;\n",
              "    border-radius: 50%;\n",
              "    cursor: pointer;\n",
              "    display: none;\n",
              "    fill: var(--fill-color);\n",
              "    height: 32px;\n",
              "    padding: 0;\n",
              "    width: 32px;\n",
              "  }\n",
              "\n",
              "  .colab-df-quickchart:hover {\n",
              "    background-color: var(--hover-bg-color);\n",
              "    box-shadow: 0 1px 2px rgba(60, 64, 67, 0.3), 0 1px 3px 1px rgba(60, 64, 67, 0.15);\n",
              "    fill: var(--button-hover-fill-color);\n",
              "  }\n",
              "\n",
              "  .colab-df-quickchart-complete:disabled,\n",
              "  .colab-df-quickchart-complete:disabled:hover {\n",
              "    background-color: var(--disabled-bg-color);\n",
              "    fill: var(--disabled-fill-color);\n",
              "    box-shadow: none;\n",
              "  }\n",
              "\n",
              "  .colab-df-spinner {\n",
              "    border: 2px solid var(--fill-color);\n",
              "    border-color: transparent;\n",
              "    border-bottom-color: var(--fill-color);\n",
              "    animation:\n",
              "      spin 1s steps(1) infinite;\n",
              "  }\n",
              "\n",
              "  @keyframes spin {\n",
              "    0% {\n",
              "      border-color: transparent;\n",
              "      border-bottom-color: var(--fill-color);\n",
              "      border-left-color: var(--fill-color);\n",
              "    }\n",
              "    20% {\n",
              "      border-color: transparent;\n",
              "      border-left-color: var(--fill-color);\n",
              "      border-top-color: var(--fill-color);\n",
              "    }\n",
              "    30% {\n",
              "      border-color: transparent;\n",
              "      border-left-color: var(--fill-color);\n",
              "      border-top-color: var(--fill-color);\n",
              "      border-right-color: var(--fill-color);\n",
              "    }\n",
              "    40% {\n",
              "      border-color: transparent;\n",
              "      border-right-color: var(--fill-color);\n",
              "      border-top-color: var(--fill-color);\n",
              "    }\n",
              "    60% {\n",
              "      border-color: transparent;\n",
              "      border-right-color: var(--fill-color);\n",
              "    }\n",
              "    80% {\n",
              "      border-color: transparent;\n",
              "      border-right-color: var(--fill-color);\n",
              "      border-bottom-color: var(--fill-color);\n",
              "    }\n",
              "    90% {\n",
              "      border-color: transparent;\n",
              "      border-bottom-color: var(--fill-color);\n",
              "    }\n",
              "  }\n",
              "</style>\n",
              "\n",
              "  <script>\n",
              "    async function quickchart(key) {\n",
              "      const quickchartButtonEl =\n",
              "        document.querySelector('#' + key + ' button');\n",
              "      quickchartButtonEl.disabled = true;  // To prevent multiple clicks.\n",
              "      quickchartButtonEl.classList.add('colab-df-spinner');\n",
              "      try {\n",
              "        const charts = await google.colab.kernel.invokeFunction(\n",
              "            'suggestCharts', [key], {});\n",
              "      } catch (error) {\n",
              "        console.error('Error during call to suggestCharts:', error);\n",
              "      }\n",
              "      quickchartButtonEl.classList.remove('colab-df-spinner');\n",
              "      quickchartButtonEl.classList.add('colab-df-quickchart-complete');\n",
              "    }\n",
              "    (() => {\n",
              "      let quickchartButtonEl =\n",
              "        document.querySelector('#df-2d757c28-a36b-433b-9b91-4e7619ed16b6 button');\n",
              "      quickchartButtonEl.style.display =\n",
              "        google.colab.kernel.accessAllowed ? 'block' : 'none';\n",
              "    })();\n",
              "  </script>\n",
              "</div>\n",
              "\n",
              "    </div>\n",
              "  </div>\n"
            ],
            "application/vnd.google.colaboratory.intrinsic+json": {
              "type": "dataframe",
              "variable_name": "test_data",
              "repr_error": "0"
            }
          },
          "metadata": {},
          "execution_count": 142
        }
      ]
    },
    {
      "cell_type": "code",
      "source": [
        "import pickle\n",
        "with open('tokenizer.pickle', 'wb') as handle:\n",
        "    pickle.dump(tokenizer, handle, protocol=pickle.HIGHEST_PROTOCOL)"
      ],
      "metadata": {
        "id": "IGBfKq5sTX2_"
      },
      "execution_count": null,
      "outputs": []
    },
    {
      "cell_type": "code",
      "source": [
        "import gensim\n",
        "\n",
        "# WORD2VEC\n",
        "W2V_SIZE = 228\n",
        "W2V_WINDOW = 7\n",
        "W2V_EPOCH = 10\n",
        "W2V_MIN_COUNT = 10\n",
        "documents = [text.split() for text in train_examples['Description'].astype(str)]\n",
        "\n",
        "\n",
        "w2v_model = gensim.models.Word2Vec(vector_size=W2V_SIZE,\n",
        "                                   window=W2V_WINDOW,\n",
        "                                   min_count=W2V_MIN_COUNT,\n",
        "                                   workers=8)\n",
        "w2v_model.build_vocab(documents)\n",
        "w2v_model.train(documents, total_examples=len(documents), epochs=W2V_EPOCH)\n"
      ],
      "metadata": {
        "colab": {
          "base_uri": "https://localhost:8080/"
        },
        "id": "zfBSxvXyTcQ2",
        "outputId": "2f525b81-d818-4552-e151-4ab7bb25e85a"
      },
      "execution_count": null,
      "outputs": [
        {
          "output_type": "execute_result",
          "data": {
            "text/plain": [
              "(172026, 412350)"
            ]
          },
          "metadata": {},
          "execution_count": 144
        }
      ]
    },
    {
      "cell_type": "code",
      "source": [
        "words = w2v_model.wv.key_to_index.keys()\n",
        "vocab_size = len(words)\n",
        "print(\"Vocab size:\", vocab_size)"
      ],
      "metadata": {
        "colab": {
          "base_uri": "https://localhost:8080/"
        },
        "id": "LRnDbGQxZjO-",
        "outputId": "ed353ed0-7d4b-438d-e71e-1c225009acc1"
      },
      "execution_count": null,
      "outputs": [
        {
          "output_type": "stream",
          "name": "stdout",
          "text": [
            "Vocab size: 559\n"
          ]
        }
      ]
    },
    {
      "cell_type": "code",
      "source": [
        "\n",
        "w2v_model.train(documents, total_examples=len(documents), epochs=W2V_EPOCH)"
      ],
      "metadata": {
        "colab": {
          "base_uri": "https://localhost:8080/"
        },
        "id": "fGXl1XtCb216",
        "outputId": "68a11795-c94f-4b12-9b50-f373ee5a1770"
      },
      "execution_count": null,
      "outputs": [
        {
          "output_type": "stream",
          "name": "stderr",
          "text": [
            "WARNING:gensim.models.word2vec:Effective 'alpha' higher than previous training cycles\n"
          ]
        },
        {
          "output_type": "execute_result",
          "data": {
            "text/plain": [
              "(171728, 412350)"
            ]
          },
          "metadata": {},
          "execution_count": 146
        }
      ]
    },
    {
      "cell_type": "code",
      "source": [
        "\n",
        "try:\n",
        "    similar_words = w2v_model.wv.most_similar(\"great\")\n",
        "    print(\"Most similar words to 'great':\")\n",
        "    print(similar_words)\n",
        "except KeyError:\n",
        "    print(\"'great' is not in the vocabulary.\")"
      ],
      "metadata": {
        "colab": {
          "base_uri": "https://localhost:8080/"
        },
        "id": "PO5W2gzHeUx2",
        "outputId": "82a7101b-9f5a-4435-b0bf-58fe96423556"
      },
      "execution_count": null,
      "outputs": [
        {
          "output_type": "stream",
          "name": "stdout",
          "text": [
            "Most similar words to 'great':\n",
            "[('works', 0.9953233599662781), ('well', 0.9945486783981323), ('fast', 0.994342565536499), ('everything', 0.9932694435119629), ('for', 0.9929624795913696), ('working', 0.9922219514846802), (\"It's\", 0.9919748902320862), ('while', 0.991950273513794), ('This', 0.9919461607933044), ('down', 0.991101861000061)]\n"
          ]
        }
      ]
    },
    {
      "cell_type": "code",
      "source": [
        "\n",
        "from tensorflow.keras.initializers import Constant\n"
      ],
      "metadata": {
        "id": "zgnj9qes2ySr"
      },
      "execution_count": null,
      "outputs": []
    },
    {
      "cell_type": "code",
      "source": [
        "embedding_matrix = np.zeros((vocab_size + 1, W2V_SIZE))  # Add 1 to vocab_size to account for index starting from 1\n",
        "\n",
        "for word, i in tokenizer.word_index.items():\n",
        "    if i <= vocab_size:  # Ensure index i is within bounds\n",
        "        if word in w2v_model.wv:\n",
        "            embedding_matrix[i] = w2v_model.wv[word]\n",
        "\n",
        "print(embedding_matrix.shape)"
      ],
      "metadata": {
        "colab": {
          "base_uri": "https://localhost:8080/"
        },
        "id": "mTWalIcn2_jV",
        "outputId": "5d7e20fa-ad67-4c35-e0ee-3e0ddcf45eda"
      },
      "execution_count": null,
      "outputs": [
        {
          "output_type": "stream",
          "name": "stdout",
          "text": [
            "(560, 228)\n"
          ]
        }
      ]
    },
    {
      "cell_type": "markdown",
      "source": [
        "Building our NLP model using LSTM"
      ],
      "metadata": {
        "id": "Yp5WllLcgTC9"
      }
    },
    {
      "cell_type": "code",
      "source": [
        "model_1 = tf.keras.models.Sequential([\n",
        "                                      tf.keras.layers.Embedding(vocab_size+1, W2V_SIZE, weights=[embedding_matrix], input_length=max_length, trainable=False),\n",
        "                                      tf.keras.layers.Bidirectional(LSTM(128, return_sequences=True)),\n",
        "                                      tf.keras.layers.Dropout(0.2),\n",
        "                                      tf.keras.layers.Bidirectional(LSTM(128)),\n",
        "                                      tf.keras.layers.Dropout(0.2),\n",
        "                                      tf.keras.layers.Dense(64, activation='relu'),\n",
        "                                      tf.keras.layers.Dense(1, activation='sigmoid')\n",
        "\n",
        "], name='Bidirectional_LSTM_1')\n",
        "\n",
        "model_1.summary()"
      ],
      "metadata": {
        "colab": {
          "base_uri": "https://localhost:8080/"
        },
        "id": "c9eJDxtOgT9H",
        "outputId": "e4dde050-0715-4cd5-ec67-9aaf7d434fc5"
      },
      "execution_count": null,
      "outputs": [
        {
          "output_type": "stream",
          "name": "stdout",
          "text": [
            "Model: \"Bidirectional_LSTM_1\"\n",
            "_________________________________________________________________\n",
            " Layer (type)                Output Shape              Param #   \n",
            "=================================================================\n",
            " embedding_9 (Embedding)     (None, 50, 228)           127680    \n",
            "                                                                 \n",
            " bidirectional_6 (Bidirecti  (None, 50, 256)           365568    \n",
            " onal)                                                           \n",
            "                                                                 \n",
            " dropout_9 (Dropout)         (None, 50, 256)           0         \n",
            "                                                                 \n",
            " bidirectional_7 (Bidirecti  (None, 256)               394240    \n",
            " onal)                                                           \n",
            "                                                                 \n",
            " dropout_10 (Dropout)        (None, 256)               0         \n",
            "                                                                 \n",
            " dense_9 (Dense)             (None, 64)                16448     \n",
            "                                                                 \n",
            " dense_10 (Dense)            (None, 1)                 65        \n",
            "                                                                 \n",
            "=================================================================\n",
            "Total params: 904001 (3.45 MB)\n",
            "Trainable params: 776321 (2.96 MB)\n",
            "Non-trainable params: 127680 (498.75 KB)\n",
            "_________________________________________________________________\n"
          ]
        }
      ]
    },
    {
      "cell_type": "code",
      "source": [
        "import pandas as pd\n",
        "from keras.preprocessing.text import Tokenizer"
      ],
      "metadata": {
        "id": "Iy-Z8JUch3Zj"
      },
      "execution_count": null,
      "outputs": []
    },
    {
      "cell_type": "code",
      "source": [
        "df['Description'] = df['Description'].astype(str).fillna('')\n",
        "\n",
        "tokenizer = Tokenizer()\n",
        "tokenizer.fit_on_texts(df['Description'])\n",
        "\n",
        "sequences = tokenizer.texts_to_sequences(df['Description'])\n",
        "print(sequences[:5])"
      ],
      "metadata": {
        "colab": {
          "base_uri": "https://localhost:8080/"
        },
        "id": "Gnd_GAWJgZKi",
        "outputId": "1f546166-e53f-4db7-851d-db4a04f082f1"
      },
      "execution_count": null,
      "outputs": [
        {
          "output_type": "stream",
          "name": "stdout",
          "text": [
            "[[1702, 307, 431, 11, 12, 1369, 206, 20, 245, 3211, 27, 3212, 206, 3213, 3214, 2177, 232, 1370, 20, 3215, 3, 273, 551, 12, 11, 1371, 3, 191, 62, 307, 431, 3, 129, 9, 3216, 552, 232, 1370, 102, 163, 4, 82, 164, 641, 28, 116, 15, 28, 20, 176, 4, 55, 283], [4, 592, 1, 334, 119, 6, 1703, 34, 1704, 139, 6, 116, 8, 14, 50, 3, 92, 147, 736, 14, 222, 191], [11, 9, 252, 3, 163, 2178, 431, 1, 62, 1, 11, 223, 12, 2, 59, 62, 15, 1, 11, 17, 432, 7, 9, 2, 1009, 1149], [148, 1705, 10, 2179, 1706, 1707, 4, 3217, 6, 17, 1, 11, 6, 17, 2, 1708, 233, 1, 274, 264, 2180, 5, 30, 737, 4, 164, 314, 28, 6, 17, 3218, 40, 1, 3219, 15, 1, 155, 17, 2181, 16, 1709, 4, 308, 53, 3220, 56, 899, 1, 376, 293, 3221, 23, 156, 27, 4, 48, 78, 3222, 13, 1, 900, 13, 1, 155, 56, 507, 4, 315, 29, 161, 22, 123, 99, 5, 44, 1, 1010, 215], [159, 593, 2, 432, 334, 5, 49]]\n"
          ]
        }
      ]
    },
    {
      "cell_type": "code",
      "source": [
        "test_data.dtypes"
      ],
      "metadata": {
        "id": "1j67ODlTgfgq",
        "colab": {
          "base_uri": "https://localhost:8080/"
        },
        "outputId": "2ca1d0ac-0d7d-44db-be27-ad9bab83559f"
      },
      "execution_count": null,
      "outputs": [
        {
          "output_type": "execute_result",
          "data": {
            "text/plain": [
              "ID             float64\n",
              "Name            object\n",
              "Stars           object\n",
              "Title           object\n",
              "Date            object\n",
              "Description     object\n",
              "dtype: object"
            ]
          },
          "metadata": {},
          "execution_count": 153
        }
      ]
    },
    {
      "cell_type": "markdown",
      "source": [
        "Splitting datasets into training and testing data"
      ],
      "metadata": {
        "id": "YK6hQ72YQGdG"
      }
    },
    {
      "cell_type": "code",
      "source": [
        "\n",
        "df['Description'] = df['Description'].astype(str).str.lower()\n",
        "\n",
        "tokenizer = Tokenizer()\n",
        "tokenizer.fit_on_texts(df['Description'])\n",
        "sequences = tokenizer.texts_to_sequences(df['Description'])\n",
        "padded_sequences = pad_sequences(sequences, maxlen=100)\n"
      ],
      "metadata": {
        "id": "hXed0qRvuD7V"
      },
      "execution_count": null,
      "outputs": []
    },
    {
      "cell_type": "code",
      "source": [
        "# Prepare labels\n",
        "df['Stars'] = pd.to_numeric(df['Stars'], errors='coerce')\n",
        "df = df.dropna(subset=['Stars'])\n",
        "labels = df['Stars'].astype(int)  # Assuming 'Stars' is your target variable\n",
        "labels = np.where(labels > 3, 1, 0)"
      ],
      "metadata": {
        "id": "Ew97N2PM1u_e"
      },
      "execution_count": null,
      "outputs": []
    },
    {
      "cell_type": "code",
      "source": [
        "max_sequence_length = 100\n",
        "\n",
        "X_padded = np.random.rand(100, 50)  # Example X_padded with 100 samples and 50 features\n",
        "y = np.random.randint(0, 2, size=101)"
      ],
      "metadata": {
        "id": "77A_1v9mxu0J"
      },
      "execution_count": null,
      "outputs": []
    },
    {
      "cell_type": "code",
      "source": [
        "y = y[:100]\n",
        "assert len(X_padded) == len(y), \"X_padded and y must have the same length\"\n"
      ],
      "metadata": {
        "id": "rsMGxBWj5AW8"
      },
      "execution_count": null,
      "outputs": []
    },
    {
      "cell_type": "code",
      "source": [
        "X_train, X_test, y_train, y_test = train_test_split(X_padded, y, test_size=0.2, random_state=42)"
      ],
      "metadata": {
        "id": "h-Iu0SyKxyl6"
      },
      "execution_count": null,
      "outputs": []
    },
    {
      "cell_type": "code",
      "source": [
        "print(f'Length of X_train: {len(X_train)}')\n",
        "print(f'Length of X_test: {len(X_test)}')\n",
        "print(f'Length of y_train: {len(y_train)}')\n",
        "print(f'Length of y_test: {len(y_test)}')"
      ],
      "metadata": {
        "colab": {
          "base_uri": "https://localhost:8080/"
        },
        "id": "IfqDW7jHvciy",
        "outputId": "87ca8a63-be8a-4515-b375-1f509bcdd546"
      },
      "execution_count": null,
      "outputs": [
        {
          "output_type": "stream",
          "name": "stdout",
          "text": [
            "Length of X_train: 80\n",
            "Length of X_test: 20\n",
            "Length of y_train: 80\n",
            "Length of y_test: 20\n"
          ]
        }
      ]
    },
    {
      "cell_type": "code",
      "source": [
        "import numpy as np\n",
        "import pandas as pd\n",
        "from tensorflow.keras.models import Sequential\n",
        "from tensorflow.keras.layers import Embedding, LSTM, Dense, Dropout, Bidirectional\n",
        "from tensorflow.keras.preprocessing.text import Tokenizer\n",
        "from tensorflow.keras.preprocessing.sequence import pad_sequences\n",
        "from sklearn.model_selection import train_test_split"
      ],
      "metadata": {
        "id": "gYdVdIcUw6zE"
      },
      "execution_count": null,
      "outputs": []
    },
    {
      "cell_type": "code",
      "source": [
        "# Define the model\n",
        "\n",
        "model = Sequential()\n",
        "model.add(Embedding(input_dim=len(tokenizer.word_index) + 1, output_dim=128, input_length=100))\n",
        "model.add(Bidirectional(LSTM(64, return_sequences=True)))\n",
        "model.add(Dropout(0.5))\n",
        "model.add(LSTM(32))\n",
        "model.add(Dropout(0.5))\n",
        "model.add(Dense(1, activation='sigmoid'))"
      ],
      "metadata": {
        "id": "FLjp2COVwMF_"
      },
      "execution_count": null,
      "outputs": []
    },
    {
      "cell_type": "code",
      "source": [
        "# Compile the model\n",
        "model_1.compile(loss='binary_crossentropy', optimizer='adam', metrics=['accuracy'])\n",
        "print(model_1.summary())"
      ],
      "metadata": {
        "colab": {
          "base_uri": "https://localhost:8080/"
        },
        "id": "h2B1-na0wcmz",
        "outputId": "576c8a16-147d-4b21-c989-2eaed76666c9"
      },
      "execution_count": null,
      "outputs": [
        {
          "output_type": "stream",
          "name": "stdout",
          "text": [
            "Model: \"Bidirectional_LSTM_1\"\n",
            "_________________________________________________________________\n",
            " Layer (type)                Output Shape              Param #   \n",
            "=================================================================\n",
            " embedding_9 (Embedding)     (None, 50, 228)           127680    \n",
            "                                                                 \n",
            " bidirectional_6 (Bidirecti  (None, 50, 256)           365568    \n",
            " onal)                                                           \n",
            "                                                                 \n",
            " dropout_9 (Dropout)         (None, 50, 256)           0         \n",
            "                                                                 \n",
            " bidirectional_7 (Bidirecti  (None, 256)               394240    \n",
            " onal)                                                           \n",
            "                                                                 \n",
            " dropout_10 (Dropout)        (None, 256)               0         \n",
            "                                                                 \n",
            " dense_9 (Dense)             (None, 64)                16448     \n",
            "                                                                 \n",
            " dense_10 (Dense)            (None, 1)                 65        \n",
            "                                                                 \n",
            "=================================================================\n",
            "Total params: 904001 (3.45 MB)\n",
            "Trainable params: 776321 (2.96 MB)\n",
            "Non-trainable params: 127680 (498.75 KB)\n",
            "_________________________________________________________________\n",
            "None\n"
          ]
        }
      ]
    },
    {
      "cell_type": "code",
      "source": [
        "# Fit the model\n",
        "history = model_1.fit(X_train, y_train, batch_size=32, epochs=50, validation_data=(X_test, y_test), verbose=1)"
      ],
      "metadata": {
        "colab": {
          "base_uri": "https://localhost:8080/"
        },
        "id": "T9FBw7QIwkmX",
        "outputId": "ff10a533-df4d-4d0a-8a77-efb522c2c8d1"
      },
      "execution_count": null,
      "outputs": [
        {
          "output_type": "stream",
          "name": "stdout",
          "text": [
            "Epoch 1/50\n",
            "3/3 [==============================] - 13s 2s/step - loss: 0.6932 - accuracy: 0.4750 - val_loss: 0.6932 - val_accuracy: 0.4500\n",
            "Epoch 2/50\n",
            "3/3 [==============================] - 1s 386ms/step - loss: 0.6931 - accuracy: 0.5000 - val_loss: 0.6931 - val_accuracy: 0.5500\n",
            "Epoch 3/50\n",
            "3/3 [==============================] - 1s 392ms/step - loss: 0.6931 - accuracy: 0.5250 - val_loss: 0.6931 - val_accuracy: 0.5500\n",
            "Epoch 4/50\n",
            "3/3 [==============================] - 1s 351ms/step - loss: 0.6931 - accuracy: 0.5250 - val_loss: 0.6930 - val_accuracy: 0.5500\n",
            "Epoch 5/50\n",
            "3/3 [==============================] - 1s 375ms/step - loss: 0.6931 - accuracy: 0.5250 - val_loss: 0.6930 - val_accuracy: 0.5500\n",
            "Epoch 6/50\n",
            "3/3 [==============================] - 1s 441ms/step - loss: 0.6930 - accuracy: 0.5250 - val_loss: 0.6929 - val_accuracy: 0.5500\n",
            "Epoch 7/50\n",
            "3/3 [==============================] - 2s 686ms/step - loss: 0.6931 - accuracy: 0.5250 - val_loss: 0.6929 - val_accuracy: 0.5500\n",
            "Epoch 8/50\n",
            "3/3 [==============================] - 2s 781ms/step - loss: 0.6930 - accuracy: 0.5250 - val_loss: 0.6928 - val_accuracy: 0.5500\n",
            "Epoch 9/50\n",
            "3/3 [==============================] - 1s 388ms/step - loss: 0.6930 - accuracy: 0.5250 - val_loss: 0.6928 - val_accuracy: 0.5500\n",
            "Epoch 10/50\n",
            "3/3 [==============================] - 1s 388ms/step - loss: 0.6930 - accuracy: 0.5250 - val_loss: 0.6928 - val_accuracy: 0.5500\n",
            "Epoch 11/50\n",
            "3/3 [==============================] - 1s 356ms/step - loss: 0.6930 - accuracy: 0.5250 - val_loss: 0.6927 - val_accuracy: 0.5500\n",
            "Epoch 12/50\n",
            "3/3 [==============================] - 1s 393ms/step - loss: 0.6929 - accuracy: 0.5250 - val_loss: 0.6927 - val_accuracy: 0.5500\n",
            "Epoch 13/50\n",
            "3/3 [==============================] - 1s 371ms/step - loss: 0.6929 - accuracy: 0.5250 - val_loss: 0.6927 - val_accuracy: 0.5500\n",
            "Epoch 14/50\n",
            "3/3 [==============================] - 1s 368ms/step - loss: 0.6929 - accuracy: 0.5250 - val_loss: 0.6926 - val_accuracy: 0.5500\n",
            "Epoch 15/50\n",
            "3/3 [==============================] - 1s 390ms/step - loss: 0.6929 - accuracy: 0.5250 - val_loss: 0.6926 - val_accuracy: 0.5500\n",
            "Epoch 16/50\n",
            "3/3 [==============================] - 1s 379ms/step - loss: 0.6929 - accuracy: 0.5250 - val_loss: 0.6925 - val_accuracy: 0.5500\n",
            "Epoch 17/50\n",
            "3/3 [==============================] - 1s 366ms/step - loss: 0.6929 - accuracy: 0.5250 - val_loss: 0.6925 - val_accuracy: 0.5500\n",
            "Epoch 18/50\n",
            "3/3 [==============================] - 2s 719ms/step - loss: 0.6928 - accuracy: 0.5250 - val_loss: 0.6925 - val_accuracy: 0.5500\n",
            "Epoch 19/50\n",
            "3/3 [==============================] - 2s 671ms/step - loss: 0.6928 - accuracy: 0.5250 - val_loss: 0.6925 - val_accuracy: 0.5500\n",
            "Epoch 20/50\n",
            "3/3 [==============================] - 2s 659ms/step - loss: 0.6928 - accuracy: 0.5250 - val_loss: 0.6924 - val_accuracy: 0.5500\n",
            "Epoch 21/50\n",
            "3/3 [==============================] - 1s 394ms/step - loss: 0.6928 - accuracy: 0.5250 - val_loss: 0.6924 - val_accuracy: 0.5500\n",
            "Epoch 22/50\n",
            "3/3 [==============================] - 1s 396ms/step - loss: 0.6928 - accuracy: 0.5250 - val_loss: 0.6923 - val_accuracy: 0.5500\n",
            "Epoch 23/50\n",
            "3/3 [==============================] - 1s 394ms/step - loss: 0.6928 - accuracy: 0.5250 - val_loss: 0.6923 - val_accuracy: 0.5500\n",
            "Epoch 24/50\n",
            "3/3 [==============================] - 1s 356ms/step - loss: 0.6927 - accuracy: 0.5250 - val_loss: 0.6922 - val_accuracy: 0.5500\n",
            "Epoch 25/50\n",
            "3/3 [==============================] - 1s 362ms/step - loss: 0.6927 - accuracy: 0.5250 - val_loss: 0.6922 - val_accuracy: 0.5500\n",
            "Epoch 26/50\n",
            "3/3 [==============================] - 1s 391ms/step - loss: 0.6927 - accuracy: 0.5250 - val_loss: 0.6922 - val_accuracy: 0.5500\n",
            "Epoch 27/50\n",
            "3/3 [==============================] - 1s 365ms/step - loss: 0.6927 - accuracy: 0.5250 - val_loss: 0.6921 - val_accuracy: 0.5500\n",
            "Epoch 28/50\n",
            "3/3 [==============================] - 1s 358ms/step - loss: 0.6927 - accuracy: 0.5250 - val_loss: 0.6921 - val_accuracy: 0.5500\n",
            "Epoch 29/50\n",
            "3/3 [==============================] - 1s 532ms/step - loss: 0.6927 - accuracy: 0.5250 - val_loss: 0.6921 - val_accuracy: 0.5500\n",
            "Epoch 30/50\n",
            "3/3 [==============================] - 2s 772ms/step - loss: 0.6927 - accuracy: 0.5250 - val_loss: 0.6921 - val_accuracy: 0.5500\n",
            "Epoch 31/50\n",
            "3/3 [==============================] - 2s 704ms/step - loss: 0.6927 - accuracy: 0.5250 - val_loss: 0.6921 - val_accuracy: 0.5500\n",
            "Epoch 32/50\n",
            "3/3 [==============================] - 1s 380ms/step - loss: 0.6927 - accuracy: 0.5250 - val_loss: 0.6921 - val_accuracy: 0.5500\n",
            "Epoch 33/50\n",
            "3/3 [==============================] - 1s 379ms/step - loss: 0.6927 - accuracy: 0.5250 - val_loss: 0.6921 - val_accuracy: 0.5500\n",
            "Epoch 34/50\n",
            "3/3 [==============================] - 1s 394ms/step - loss: 0.6927 - accuracy: 0.5250 - val_loss: 0.6921 - val_accuracy: 0.5500\n",
            "Epoch 35/50\n",
            "3/3 [==============================] - 1s 382ms/step - loss: 0.6927 - accuracy: 0.5250 - val_loss: 0.6921 - val_accuracy: 0.5500\n",
            "Epoch 36/50\n",
            "3/3 [==============================] - 1s 403ms/step - loss: 0.6926 - accuracy: 0.5250 - val_loss: 0.6921 - val_accuracy: 0.5500\n",
            "Epoch 37/50\n",
            "3/3 [==============================] - 1s 349ms/step - loss: 0.6926 - accuracy: 0.5250 - val_loss: 0.6921 - val_accuracy: 0.5500\n",
            "Epoch 38/50\n",
            "3/3 [==============================] - 1s 341ms/step - loss: 0.6926 - accuracy: 0.5250 - val_loss: 0.6921 - val_accuracy: 0.5500\n",
            "Epoch 39/50\n",
            "3/3 [==============================] - 1s 378ms/step - loss: 0.6926 - accuracy: 0.5250 - val_loss: 0.6920 - val_accuracy: 0.5500\n",
            "Epoch 40/50\n",
            "3/3 [==============================] - 1s 380ms/step - loss: 0.6926 - accuracy: 0.5250 - val_loss: 0.6920 - val_accuracy: 0.5500\n",
            "Epoch 41/50\n",
            "3/3 [==============================] - 2s 651ms/step - loss: 0.6926 - accuracy: 0.5250 - val_loss: 0.6920 - val_accuracy: 0.5500\n",
            "Epoch 42/50\n",
            "3/3 [==============================] - 2s 659ms/step - loss: 0.6926 - accuracy: 0.5250 - val_loss: 0.6920 - val_accuracy: 0.5500\n",
            "Epoch 43/50\n",
            "3/3 [==============================] - 2s 814ms/step - loss: 0.6926 - accuracy: 0.5250 - val_loss: 0.6919 - val_accuracy: 0.5500\n",
            "Epoch 44/50\n",
            "3/3 [==============================] - 1s 357ms/step - loss: 0.6926 - accuracy: 0.5250 - val_loss: 0.6919 - val_accuracy: 0.5500\n",
            "Epoch 45/50\n",
            "3/3 [==============================] - 1s 388ms/step - loss: 0.6926 - accuracy: 0.5250 - val_loss: 0.6919 - val_accuracy: 0.5500\n",
            "Epoch 46/50\n",
            "3/3 [==============================] - 1s 389ms/step - loss: 0.6925 - accuracy: 0.5250 - val_loss: 0.6918 - val_accuracy: 0.5500\n",
            "Epoch 47/50\n",
            "3/3 [==============================] - 1s 387ms/step - loss: 0.6925 - accuracy: 0.5250 - val_loss: 0.6918 - val_accuracy: 0.5500\n",
            "Epoch 48/50\n",
            "3/3 [==============================] - 1s 379ms/step - loss: 0.6925 - accuracy: 0.5250 - val_loss: 0.6918 - val_accuracy: 0.5500\n",
            "Epoch 49/50\n",
            "3/3 [==============================] - 1s 339ms/step - loss: 0.6925 - accuracy: 0.5250 - val_loss: 0.6917 - val_accuracy: 0.5500\n",
            "Epoch 50/50\n",
            "3/3 [==============================] - 1s 330ms/step - loss: 0.6925 - accuracy: 0.5250 - val_loss: 0.6917 - val_accuracy: 0.5500\n"
          ]
        }
      ]
    },
    {
      "cell_type": "code",
      "source": [
        "y_pred = model_1.predict(X_test)\n",
        "y_pred = np.where(y_pred>0.5, 1, 0)"
      ],
      "metadata": {
        "colab": {
          "base_uri": "https://localhost:8080/"
        },
        "id": "NN2VwlXXwn2z",
        "outputId": "54f299e2-e21a-4dcb-c722-074b176adc24"
      },
      "execution_count": null,
      "outputs": [
        {
          "output_type": "stream",
          "name": "stdout",
          "text": [
            "1/1 [==============================] - 2s 2s/step\n"
          ]
        }
      ]
    },
    {
      "cell_type": "code",
      "source": [
        "print(classification_report(y_test, y_pred))"
      ],
      "metadata": {
        "colab": {
          "base_uri": "https://localhost:8080/"
        },
        "id": "9xYsaq2DyxBm",
        "outputId": "3c3b805f-8016-4a03-f177-959caad33544"
      },
      "execution_count": null,
      "outputs": [
        {
          "output_type": "stream",
          "name": "stdout",
          "text": [
            "              precision    recall  f1-score   support\n",
            "\n",
            "           0       0.00      0.00      0.00         9\n",
            "           1       0.55      1.00      0.71        11\n",
            "\n",
            "    accuracy                           0.55        20\n",
            "   macro avg       0.28      0.50      0.35        20\n",
            "weighted avg       0.30      0.55      0.39        20\n",
            "\n"
          ]
        },
        {
          "output_type": "stream",
          "name": "stderr",
          "text": [
            "/usr/local/lib/python3.10/dist-packages/sklearn/metrics/_classification.py:1344: UndefinedMetricWarning: Precision and F-score are ill-defined and being set to 0.0 in labels with no predicted samples. Use `zero_division` parameter to control this behavior.\n",
            "  _warn_prf(average, modifier, msg_start, len(result))\n",
            "/usr/local/lib/python3.10/dist-packages/sklearn/metrics/_classification.py:1344: UndefinedMetricWarning: Precision and F-score are ill-defined and being set to 0.0 in labels with no predicted samples. Use `zero_division` parameter to control this behavior.\n",
            "  _warn_prf(average, modifier, msg_start, len(result))\n",
            "/usr/local/lib/python3.10/dist-packages/sklearn/metrics/_classification.py:1344: UndefinedMetricWarning: Precision and F-score are ill-defined and being set to 0.0 in labels with no predicted samples. Use `zero_division` parameter to control this behavior.\n",
            "  _warn_prf(average, modifier, msg_start, len(result))\n"
          ]
        }
      ]
    },
    {
      "cell_type": "code",
      "source": [
        "model_1.save('Sentiment_LSTM_model_better.h5')\n",
        "with open('trainHistoryDict', 'wb') as file_pi:\n",
        "    pickle.dump(history.history, file_pi)\n"
      ],
      "metadata": {
        "colab": {
          "base_uri": "https://localhost:8080/"
        },
        "id": "IDeUujZVzNQD",
        "outputId": "986d190b-3963-435f-967a-5128a8148180"
      },
      "execution_count": null,
      "outputs": [
        {
          "output_type": "stream",
          "name": "stderr",
          "text": [
            "/usr/local/lib/python3.10/dist-packages/keras/src/engine/training.py:3103: UserWarning: You are saving your model as an HDF5 file via `model.save()`. This file format is considered legacy. We recommend using instead the native Keras format, e.g. `model.save('my_model.keras')`.\n",
            "  saving_api.save_model(\n"
          ]
        }
      ]
    },
    {
      "cell_type": "code",
      "source": [
        "\n",
        "from keras.models import load_model\n",
        "model_1 = load_model('Sentiment_LSTM_model_better.h5')\n",
        "# loading tokenizer\n",
        "with open('trainHistoryDict', 'rb') as file_pi:\n",
        "    history = pickle.load(file_pi)"
      ],
      "metadata": {
        "id": "CoD8daaW58m3"
      },
      "execution_count": null,
      "outputs": []
    },
    {
      "cell_type": "code",
      "source": [
        "\n",
        "history.keys()"
      ],
      "metadata": {
        "colab": {
          "base_uri": "https://localhost:8080/"
        },
        "id": "ZGid6DWB5_Jl",
        "outputId": "fc0ee3e1-8976-4841-875c-11fb05bc02c4"
      },
      "execution_count": null,
      "outputs": [
        {
          "output_type": "execute_result",
          "data": {
            "text/plain": [
              "dict_keys(['loss', 'accuracy', 'val_loss', 'val_accuracy'])"
            ]
          },
          "metadata": {},
          "execution_count": 174
        }
      ]
    },
    {
      "cell_type": "code",
      "source": [
        "plt.figure(figsize=(10,5))\n",
        "plt.plot(history['accuracy'])\n",
        "plt.plot(history['val_accuracy'])\n",
        "plt.title('model accuracy')\n",
        "plt.ylabel('accuracy')\n",
        "plt.xlabel('epoch')\n",
        "plt.legend(['Train accuracy', 'Test accuracy'], loc='lower right')\n",
        "plt.show()\n",
        "# History for loss\n",
        "plt.figure(figsize=(10,5))\n",
        "plt.plot(history['loss'])\n",
        "plt.plot(history['val_loss'])\n",
        "plt.title('model loss')\n",
        "plt.ylabel('loss')\n",
        "plt.xlabel('epoch')\n",
        "plt.legend(['Train loss', 'Test loss'], loc='upper right')\n",
        "plt.suptitle('Accuracy and loss for second model')\n",
        "plt.show()"
      ],
      "metadata": {
        "colab": {
          "base_uri": "https://localhost:8080/",
          "height": 985
        },
        "id": "WfFL2HYN6DGv",
        "outputId": "c86e416a-d3f7-423f-9512-ae4131ae22a3"
      },
      "execution_count": null,
      "outputs": [
        {
          "output_type": "display_data",
          "data": {
            "text/plain": [
              "<Figure size 1000x500 with 1 Axes>"
            ],
            "image/png": "[encoded data removed]"
          },
          "metadata": {}
        },
        {
          "output_type": "display_data",
          "data": {
            "text/plain": [
              "<Figure size 1000x500 with 1 Axes>"
            ],
            "image/png": "[encoded data removed]"
          },
          "metadata": {}
        }
      ]
    },
    {
      "cell_type": "code",
      "source": [
        "def predict(text):\n",
        "    try:\n",
        "        # Tokenize text\n",
        "        x_test = tokenizer.texts_to_sequences([text])\n",
        "        x_test = pad_sequences(x_test, maxlen=max_length)\n",
        "\n",
        "        # Predict\n",
        "        score = model_1.predict(x_test)[0]\n",
        "\n",
        "        # Determine label based on score\n",
        "        if score >= 0.4 and score <= 0.6:\n",
        "            label = \"Neutral\"\n",
        "        elif score < 0.4:\n",
        "            label = \"Negative\"\n",
        "        else:\n",
        "            label = \"Positive\"\n",
        "\n",
        "        return {\"label\": label,\n",
        "                \"score\": float(score)}\n",
        "\n",
        "    except Exception as e:\n",
        "        print(f\"Error predicting sentiment: {str(e)}\")\n",
        "        return {\"label\": \"Error\",\n",
        "                \"score\": 0.0}"
      ],
      "metadata": {
        "id": "i5Ht7tPu6Gx2"
      },
      "execution_count": null,
      "outputs": []
    },
    {
      "cell_type": "code",
      "source": [
        "example = df['Description'][500]\n",
        "print(example)"
      ],
      "metadata": {
        "colab": {
          "base_uri": "https://localhost:8080/"
        },
        "id": "FdV7Mwaw6Oip",
        "outputId": "768aa4f7-5b3b-4234-fa9c-2335ffdba2f9"
      },
      "execution_count": null,
      "outputs": [
        {
          "output_type": "stream",
          "name": "stdout",
          "text": [
            "fast.runs cool and sips power at idle, guzzles down power when under heavy render load. gaming is average load and power. can't complain.more than 6 or 8 cores, won't be limited in the future.very fast.intel apo for 14th gen is a neat new feature which can greatly improve gaming performance.stable.memory trains fast and is stable even when pushed well above xmp.not cheap? but also not expensive for the amount of cores and performance.would recommend.\n"
          ]
        }
      ]
    },
    {
      "cell_type": "code",
      "source": [],
      "metadata": {
        "id": "dCgIO8HY6mAE"
      },
      "execution_count": null,
      "outputs": []
    }
  ]
}