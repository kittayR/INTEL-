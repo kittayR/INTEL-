{
  "nbformat": 4,
  "nbformat_minor": 0,
  "metadata": {
    "colab": {
      "provenance": []
    },
    "kernelspec": {
      "name": "python3",
      "display_name": "Python 3"
    },
    "language_info": {
      "name": "python"
    }
  },
  "cells": [
    {
      "cell_type": "code",
      "execution_count": 1,
      "metadata": {
        "id": "AE8-O-Imtz8m"
      },
      "outputs": [],
      "source": [
        " from google.colab import drive"
      ]
    },
    {
      "cell_type": "code",
      "source": [
        "drive.mount('/content/drive')"
      ],
      "metadata": {
        "colab": {
          "base_uri": "https://localhost:8080/"
        },
        "id": "5oK7JenhuDAW",
        "outputId": "e4cdb53c-60de-4e35-f4e1-8f4e27f44098"
      },
      "execution_count": 2,
      "outputs": [
        {
          "output_type": "stream",
          "name": "stdout",
          "text": [
            "Mounted at /content/drive\n"
          ]
        }
      ]
    },
    {
      "cell_type": "code",
      "source": [
        "path = 'drive/My Drive/data'"
      ],
      "metadata": {
        "id": "VMF5VgbFuGfj"
      },
      "execution_count": 3,
      "outputs": []
    },
    {
      "cell_type": "code",
      "source": [
        "import pandas as pd"
      ],
      "metadata": {
        "id": "Wzb4dkZXuR2k"
      },
      "execution_count": 4,
      "outputs": []
    },
    {
      "cell_type": "code",
      "source": [
        "try:\n",
        "    df = pd.read_csv(path+'/12GEN.csv', encoding='utf-8')\n",
        "except UnicodeDecodeError:\n",
        "    df = pd.read_csv(path+'/12GEN.csv', encoding='ISO-8859-1')\n",
        "print(df.shape)"
      ],
      "metadata": {
        "colab": {
          "base_uri": "https://localhost:8080/"
        },
        "id": "o3xqBgmNuTdk",
        "outputId": "e92b2266-fef7-4393-c7b7-b70d759da9aa"
      },
      "execution_count": 5,
      "outputs": [
        {
          "output_type": "stream",
          "name": "stdout",
          "text": [
            "(1033, 6)\n"
          ]
        }
      ]
    },
    {
      "cell_type": "code",
      "source": [
        "df.head(500)"
      ],
      "metadata": {
        "colab": {
          "base_uri": "https://localhost:8080/",
          "height": 423
        },
        "id": "dLyveAG8uWBe",
        "outputId": "0bfbd1cb-e925-414a-a4a0-df0aebfd409c"
      },
      "execution_count": 6,
      "outputs": [
        {
          "output_type": "execute_result",
          "data": {
            "text/plain": [
              "        ID                   Name Stars  \\\n",
              "0      1.0           William Hong     1   \n",
              "1      2.0                  Amere     1   \n",
              "2      3.0               nascanio     1   \n",
              "3      4.0       Average consumer     1   \n",
              "4      5.0         Jason Krawczak     1   \n",
              "..     ...                    ...   ...   \n",
              "495  496.0  Carlos Gonzalez Debia     5   \n",
              "496  497.0                Tyler S     5   \n",
              "497  498.0                  Dylan     5   \n",
              "498  499.0        Amazon Customer     5   \n",
              "499  500.0            silly goose     5   \n",
              "\n",
              "                                                 Title        Date  \\\n",
              "0    1.0 out of 5 stars\\nVery dirty and used. I did...  11-04-2024   \n",
              "1        1.0 out of 5 stars\\nTerrible customer service  29-04-2024   \n",
              "2                             1.0 out of 5 stars\\nSCAM  22-03-2024   \n",
              "3                  1.0 out of 5 stars\\nDead on arrival  15-06-2023   \n",
              "4           1.0 out of 5 stars\\nIntel good Amazon bad.  11-05-2024   \n",
              "..                                                 ...         ...   \n",
              "495  5.0 out of 5 stars\\nAparentemente es un buen p...  08-12-2023   \n",
              "496       5.0 out of 5 stars\\nGreat  buy, when on sale  01-03-2024   \n",
              "497              5.0 out of 5 stars\\nGreat Performance  14-11-2023   \n",
              "498       5.0 out of 5 stars\\n20 modern cores per $400  24-01-2024   \n",
              "499            5.0 out of 5 stars\\nGood CPU, no issues  02-01-2024   \n",
              "\n",
              "                                           Description  \n",
              "0    Packing already open. CPU in protect case not ...  \n",
              "1    I returned the item because it wasnt good nor ...  \n",
              "2    CPU is bad and used, Today open the box. the c...  \n",
              "3    After troubleshooting with q-led lights i dedu...  \n",
              "4                     Amazon sent a broken item to me.  \n",
              "..                                                 ...  \n",
              "495  Este producto fue comprado en base a la inform...  \n",
              "496  This is a great processor and when on sale it ...  \n",
              "497  Built a new system with the 14700k for photo/v...  \n",
              "498  I bought it to do computations on all cores. T...  \n",
              "499  Upgraded from a really old CPU. It was basical...  \n",
              "\n",
              "[500 rows x 6 columns]"
            ],
            "text/html": [
              "\n",
              "  <div id=\"df-571d9818-8a57-400a-8108-56e026642173\" class=\"colab-df-container\">\n",
              "    <div>\n",
              "<style scoped>\n",
              "    .dataframe tbody tr th:only-of-type {\n",
              "        vertical-align: middle;\n",
              "    }\n",
              "\n",
              "    .dataframe tbody tr th {\n",
              "        vertical-align: top;\n",
              "    }\n",
              "\n",
              "    .dataframe thead th {\n",
              "        text-align: right;\n",
              "    }\n",
              "</style>\n",
              "<table border=\"1\" class=\"dataframe\">\n",
              "  <thead>\n",
              "    <tr style=\"text-align: right;\">\n",
              "      <th></th>\n",
              "      <th>ID</th>\n",
              "      <th>Name</th>\n",
              "      <th>Stars</th>\n",
              "      <th>Title</th>\n",
              "      <th>Date</th>\n",
              "      <th>Description</th>\n",
              "    </tr>\n",
              "  </thead>\n",
              "  <tbody>\n",
              "    <tr>\n",
              "      <th>0</th>\n",
              "      <td>1.0</td>\n",
              "      <td>William Hong</td>\n",
              "      <td>1</td>\n",
              "      <td>1.0 out of 5 stars\\nVery dirty and used. I did...</td>\n",
              "      <td>11-04-2024</td>\n",
              "      <td>Packing already open. CPU in protect case not ...</td>\n",
              "    </tr>\n",
              "    <tr>\n",
              "      <th>1</th>\n",
              "      <td>2.0</td>\n",
              "      <td>Amere</td>\n",
              "      <td>1</td>\n",
              "      <td>1.0 out of 5 stars\\nTerrible customer service</td>\n",
              "      <td>29-04-2024</td>\n",
              "      <td>I returned the item because it wasnt good nor ...</td>\n",
              "    </tr>\n",
              "    <tr>\n",
              "      <th>2</th>\n",
              "      <td>3.0</td>\n",
              "      <td>nascanio</td>\n",
              "      <td>1</td>\n",
              "      <td>1.0 out of 5 stars\\nSCAM</td>\n",
              "      <td>22-03-2024</td>\n",
              "      <td>CPU is bad and used, Today open the box. the c...</td>\n",
              "    </tr>\n",
              "    <tr>\n",
              "      <th>3</th>\n",
              "      <td>4.0</td>\n",
              "      <td>Average consumer</td>\n",
              "      <td>1</td>\n",
              "      <td>1.0 out of 5 stars\\nDead on arrival</td>\n",
              "      <td>15-06-2023</td>\n",
              "      <td>After troubleshooting with q-led lights i dedu...</td>\n",
              "    </tr>\n",
              "    <tr>\n",
              "      <th>4</th>\n",
              "      <td>5.0</td>\n",
              "      <td>Jason Krawczak</td>\n",
              "      <td>1</td>\n",
              "      <td>1.0 out of 5 stars\\nIntel good Amazon bad.</td>\n",
              "      <td>11-05-2024</td>\n",
              "      <td>Amazon sent a broken item to me.</td>\n",
              "    </tr>\n",
              "    <tr>\n",
              "      <th>...</th>\n",
              "      <td>...</td>\n",
              "      <td>...</td>\n",
              "      <td>...</td>\n",
              "      <td>...</td>\n",
              "      <td>...</td>\n",
              "      <td>...</td>\n",
              "    </tr>\n",
              "    <tr>\n",
              "      <th>495</th>\n",
              "      <td>496.0</td>\n",
              "      <td>Carlos Gonzalez Debia</td>\n",
              "      <td>5</td>\n",
              "      <td>5.0 out of 5 stars\\nAparentemente es un buen p...</td>\n",
              "      <td>08-12-2023</td>\n",
              "      <td>Este producto fue comprado en base a la inform...</td>\n",
              "    </tr>\n",
              "    <tr>\n",
              "      <th>496</th>\n",
              "      <td>497.0</td>\n",
              "      <td>Tyler S</td>\n",
              "      <td>5</td>\n",
              "      <td>5.0 out of 5 stars\\nGreat  buy, when on sale</td>\n",
              "      <td>01-03-2024</td>\n",
              "      <td>This is a great processor and when on sale it ...</td>\n",
              "    </tr>\n",
              "    <tr>\n",
              "      <th>497</th>\n",
              "      <td>498.0</td>\n",
              "      <td>Dylan</td>\n",
              "      <td>5</td>\n",
              "      <td>5.0 out of 5 stars\\nGreat Performance</td>\n",
              "      <td>14-11-2023</td>\n",
              "      <td>Built a new system with the 14700k for photo/v...</td>\n",
              "    </tr>\n",
              "    <tr>\n",
              "      <th>498</th>\n",
              "      <td>499.0</td>\n",
              "      <td>Amazon Customer</td>\n",
              "      <td>5</td>\n",
              "      <td>5.0 out of 5 stars\\n20 modern cores per $400</td>\n",
              "      <td>24-01-2024</td>\n",
              "      <td>I bought it to do computations on all cores. T...</td>\n",
              "    </tr>\n",
              "    <tr>\n",
              "      <th>499</th>\n",
              "      <td>500.0</td>\n",
              "      <td>silly goose</td>\n",
              "      <td>5</td>\n",
              "      <td>5.0 out of 5 stars\\nGood CPU, no issues</td>\n",
              "      <td>02-01-2024</td>\n",
              "      <td>Upgraded from a really old CPU. It was basical...</td>\n",
              "    </tr>\n",
              "  </tbody>\n",
              "</table>\n",
              "<p>500 rows × 6 columns</p>\n",
              "</div>\n",
              "    <div class=\"colab-df-buttons\">\n",
              "\n",
              "  <div class=\"colab-df-container\">\n",
              "    <button class=\"colab-df-convert\" onclick=\"convertToInteractive('df-571d9818-8a57-400a-8108-56e026642173')\"\n",
              "            title=\"Convert this dataframe to an interactive table.\"\n",
              "            style=\"display:none;\">\n",
              "\n",
              "  <svg xmlns=\"http://www.w3.org/2000/svg\" height=\"24px\" viewBox=\"0 -960 960 960\">\n",
              "    <path d=\"M120-120v-720h720v720H120Zm60-500h600v-160H180v160Zm220 220h160v-160H400v160Zm0 220h160v-160H400v160ZM180-400h160v-160H180v160Zm440 0h160v-160H620v160ZM180-180h160v-160H180v160Zm440 0h160v-160H620v160Z\"/>\n",
              "  </svg>\n",
              "    </button>\n",
              "\n",
              "  <style>\n",
              "    .colab-df-container {\n",
              "      display:flex;\n",
              "      gap: 12px;\n",
              "    }\n",
              "\n",
              "    .colab-df-convert {\n",
              "      background-color: #E8F0FE;\n",
              "      border: none;\n",
              "      border-radius: 50%;\n",
              "      cursor: pointer;\n",
              "      display: none;\n",
              "      fill: #1967D2;\n",
              "      height: 32px;\n",
              "      padding: 0 0 0 0;\n",
              "      width: 32px;\n",
              "    }\n",
              "\n",
              "    .colab-df-convert:hover {\n",
              "      background-color: #E2EBFA;\n",
              "      box-shadow: 0px 1px 2px rgba(60, 64, 67, 0.3), 0px 1px 3px 1px rgba(60, 64, 67, 0.15);\n",
              "      fill: #174EA6;\n",
              "    }\n",
              "\n",
              "    .colab-df-buttons div {\n",
              "      margin-bottom: 4px;\n",
              "    }\n",
              "\n",
              "    [theme=dark] .colab-df-convert {\n",
              "      background-color: #3B4455;\n",
              "      fill: #D2E3FC;\n",
              "    }\n",
              "\n",
              "    [theme=dark] .colab-df-convert:hover {\n",
              "      background-color: #434B5C;\n",
              "      box-shadow: 0px 1px 3px 1px rgba(0, 0, 0, 0.15);\n",
              "      filter: drop-shadow(0px 1px 2px rgba(0, 0, 0, 0.3));\n",
              "      fill: #FFFFFF;\n",
              "    }\n",
              "  </style>\n",
              "\n",
              "    <script>\n",
              "      const buttonEl =\n",
              "        document.querySelector('#df-571d9818-8a57-400a-8108-56e026642173 button.colab-df-convert');\n",
              "      buttonEl.style.display =\n",
              "        google.colab.kernel.accessAllowed ? 'block' : 'none';\n",
              "\n",
              "      async function convertToInteractive(key) {\n",
              "        const element = document.querySelector('#df-571d9818-8a57-400a-8108-56e026642173');\n",
              "        const dataTable =\n",
              "          await google.colab.kernel.invokeFunction('convertToInteractive',\n",
              "                                                    [key], {});\n",
              "        if (!dataTable) return;\n",
              "\n",
              "        const docLinkHtml = 'Like what you see? Visit the ' +\n",
              "          '<a target=\"_blank\" href=https://colab.research.google.com/notebooks/data_table.ipynb>data table notebook</a>'\n",
              "          + ' to learn more about interactive tables.';\n",
              "        element.innerHTML = '';\n",
              "        dataTable['output_type'] = 'display_data';\n",
              "        await google.colab.output.renderOutput(dataTable, element);\n",
              "        const docLink = document.createElement('div');\n",
              "        docLink.innerHTML = docLinkHtml;\n",
              "        element.appendChild(docLink);\n",
              "      }\n",
              "    </script>\n",
              "  </div>\n",
              "\n",
              "\n",
              "<div id=\"df-79af4e27-9e71-4f41-8caf-13bee7b448a5\">\n",
              "  <button class=\"colab-df-quickchart\" onclick=\"quickchart('df-79af4e27-9e71-4f41-8caf-13bee7b448a5')\"\n",
              "            title=\"Suggest charts\"\n",
              "            style=\"display:none;\">\n",
              "\n",
              "<svg xmlns=\"http://www.w3.org/2000/svg\" height=\"24px\"viewBox=\"0 0 24 24\"\n",
              "     width=\"24px\">\n",
              "    <g>\n",
              "        <path d=\"M19 3H5c-1.1 0-2 .9-2 2v14c0 1.1.9 2 2 2h14c1.1 0 2-.9 2-2V5c0-1.1-.9-2-2-2zM9 17H7v-7h2v7zm4 0h-2V7h2v10zm4 0h-2v-4h2v4z\"/>\n",
              "    </g>\n",
              "</svg>\n",
              "  </button>\n",
              "\n",
              "<style>\n",
              "  .colab-df-quickchart {\n",
              "      --bg-color: #E8F0FE;\n",
              "      --fill-color: #1967D2;\n",
              "      --hover-bg-color: #E2EBFA;\n",
              "      --hover-fill-color: #174EA6;\n",
              "      --disabled-fill-color: #AAA;\n",
              "      --disabled-bg-color: #DDD;\n",
              "  }\n",
              "\n",
              "  [theme=dark] .colab-df-quickchart {\n",
              "      --bg-color: #3B4455;\n",
              "      --fill-color: #D2E3FC;\n",
              "      --hover-bg-color: #434B5C;\n",
              "      --hover-fill-color: #FFFFFF;\n",
              "      --disabled-bg-color: #3B4455;\n",
              "      --disabled-fill-color: #666;\n",
              "  }\n",
              "\n",
              "  .colab-df-quickchart {\n",
              "    background-color: var(--bg-color);\n",
              "    border: none;\n",
              "    border-radius: 50%;\n",
              "    cursor: pointer;\n",
              "    display: none;\n",
              "    fill: var(--fill-color);\n",
              "    height: 32px;\n",
              "    padding: 0;\n",
              "    width: 32px;\n",
              "  }\n",
              "\n",
              "  .colab-df-quickchart:hover {\n",
              "    background-color: var(--hover-bg-color);\n",
              "    box-shadow: 0 1px 2px rgba(60, 64, 67, 0.3), 0 1px 3px 1px rgba(60, 64, 67, 0.15);\n",
              "    fill: var(--button-hover-fill-color);\n",
              "  }\n",
              "\n",
              "  .colab-df-quickchart-complete:disabled,\n",
              "  .colab-df-quickchart-complete:disabled:hover {\n",
              "    background-color: var(--disabled-bg-color);\n",
              "    fill: var(--disabled-fill-color);\n",
              "    box-shadow: none;\n",
              "  }\n",
              "\n",
              "  .colab-df-spinner {\n",
              "    border: 2px solid var(--fill-color);\n",
              "    border-color: transparent;\n",
              "    border-bottom-color: var(--fill-color);\n",
              "    animation:\n",
              "      spin 1s steps(1) infinite;\n",
              "  }\n",
              "\n",
              "  @keyframes spin {\n",
              "    0% {\n",
              "      border-color: transparent;\n",
              "      border-bottom-color: var(--fill-color);\n",
              "      border-left-color: var(--fill-color);\n",
              "    }\n",
              "    20% {\n",
              "      border-color: transparent;\n",
              "      border-left-color: var(--fill-color);\n",
              "      border-top-color: var(--fill-color);\n",
              "    }\n",
              "    30% {\n",
              "      border-color: transparent;\n",
              "      border-left-color: var(--fill-color);\n",
              "      border-top-color: var(--fill-color);\n",
              "      border-right-color: var(--fill-color);\n",
              "    }\n",
              "    40% {\n",
              "      border-color: transparent;\n",
              "      border-right-color: var(--fill-color);\n",
              "      border-top-color: var(--fill-color);\n",
              "    }\n",
              "    60% {\n",
              "      border-color: transparent;\n",
              "      border-right-color: var(--fill-color);\n",
              "    }\n",
              "    80% {\n",
              "      border-color: transparent;\n",
              "      border-right-color: var(--fill-color);\n",
              "      border-bottom-color: var(--fill-color);\n",
              "    }\n",
              "    90% {\n",
              "      border-color: transparent;\n",
              "      border-bottom-color: var(--fill-color);\n",
              "    }\n",
              "  }\n",
              "</style>\n",
              "\n",
              "  <script>\n",
              "    async function quickchart(key) {\n",
              "      const quickchartButtonEl =\n",
              "        document.querySelector('#' + key + ' button');\n",
              "      quickchartButtonEl.disabled = true;  // To prevent multiple clicks.\n",
              "      quickchartButtonEl.classList.add('colab-df-spinner');\n",
              "      try {\n",
              "        const charts = await google.colab.kernel.invokeFunction(\n",
              "            'suggestCharts', [key], {});\n",
              "      } catch (error) {\n",
              "        console.error('Error during call to suggestCharts:', error);\n",
              "      }\n",
              "      quickchartButtonEl.classList.remove('colab-df-spinner');\n",
              "      quickchartButtonEl.classList.add('colab-df-quickchart-complete');\n",
              "    }\n",
              "    (() => {\n",
              "      let quickchartButtonEl =\n",
              "        document.querySelector('#df-79af4e27-9e71-4f41-8caf-13bee7b448a5 button');\n",
              "      quickchartButtonEl.style.display =\n",
              "        google.colab.kernel.accessAllowed ? 'block' : 'none';\n",
              "    })();\n",
              "  </script>\n",
              "</div>\n",
              "\n",
              "    </div>\n",
              "  </div>\n"
            ],
            "application/vnd.google.colaboratory.intrinsic+json": {
              "type": "dataframe",
              "variable_name": "df",
              "summary": "{\n  \"name\": \"df\",\n  \"rows\": 1033,\n  \"fields\": [\n    {\n      \"column\": \"ID\",\n      \"properties\": {\n        \"dtype\": \"number\",\n        \"std\": 298.05704152057876,\n        \"min\": 1.0,\n        \"max\": 1032.0,\n        \"num_unique_values\": 1032,\n        \"samples\": [\n          110.0,\n          77.0,\n          315.0\n        ],\n        \"semantic_type\": \"\",\n        \"description\": \"\"\n      }\n    },\n    {\n      \"column\": \"Name\",\n      \"properties\": {\n        \"dtype\": \"string\",\n        \"num_unique_values\": 910,\n        \"samples\": [\n          \"mike\",\n          \"Tatiana Lopez\",\n          \"Aj\"\n        ],\n        \"semantic_type\": \"\",\n        \"description\": \"\"\n      }\n    },\n    {\n      \"column\": \"Stars\",\n      \"properties\": {\n        \"dtype\": \"category\",\n        \"num_unique_values\": 6,\n        \"samples\": [\n          \"1\",\n          \"3\",\n          \"Stars\"\n        ],\n        \"semantic_type\": \"\",\n        \"description\": \"\"\n      }\n    },\n    {\n      \"column\": \"Title\",\n      \"properties\": {\n        \"dtype\": \"string\",\n        \"num_unique_values\": 946,\n        \"samples\": [\n          \"5.0 out of 5 stars\\nExcelente en todo sentido\",\n          \"Kleiner flotter Prozessor\",\n          \"one of the best of its time.\"\n        ],\n        \"semantic_type\": \"\",\n        \"description\": \"\"\n      }\n    },\n    {\n      \"column\": \"Date\",\n      \"properties\": {\n        \"dtype\": \"category\",\n        \"num_unique_values\": 320,\n        \"samples\": [\n          \"26-03-2024\",\n          \"12-09-2022\",\n          \"08-04-2023\"\n        ],\n        \"semantic_type\": \"\",\n        \"description\": \"\"\n      }\n    },\n    {\n      \"column\": \"Description\",\n      \"properties\": {\n        \"dtype\": \"string\",\n        \"num_unique_values\": 989,\n        \"samples\": [\n          \"Le meilleur processeur gaming pour petit budget, un monstre de puissance pour a peine 100\\u00e2\\u0082\\u00ac, si vous comptez vous monter une machine pour pas cher c'est le must have, au del\\u00c3\\u00a0 d'une RX 6600 XT ce CPU va brider votre carte graphique en 1080p mais a plus haute resolution sera tout de m\\u00c3\\u00aame extr\\u00c3\\u00aamement efficace compar\\u00c3\\u00a9 aux processeur de gamme sup\\u00c3\\u00a9rieure.\",\n          \"another steal item, much better purchased than in local, saves me a lot of money\",\n          \"This is an excellent, stable CPU. Care must be taken to keep it cool. It is a hot running CPU. To avoid heat throttling at 100deg Celsius in heavy duty gaming or testing, order a high end liquid cooler. For professional work and easy gaming a big block fan cooler will be just fine as it is much more quiet. To save a little  money, if at all, the I9-13900K will work just as well performance wise.\"\n        ],\n        \"semantic_type\": \"\",\n        \"description\": \"\"\n      }\n    }\n  ]\n}"
            }
          },
          "metadata": {},
          "execution_count": 6
        }
      ]
    },
    {
      "cell_type": "markdown",
      "source": [
        "Text Preprocessing"
      ],
      "metadata": {
        "id": "RMRwdndiuc_m"
      }
    },
    {
      "cell_type": "code",
      "source": [
        "import re\n",
        "import nltk\n",
        "from nltk.corpus import stopwords\n",
        "from nltk.stem import WordNetLemmatizer"
      ],
      "metadata": {
        "id": "ABIje99BuYoc"
      },
      "execution_count": 7,
      "outputs": []
    },
    {
      "cell_type": "code",
      "source": [
        "nltk.download('stopwords')\n",
        "nltk.download('wordnet')"
      ],
      "metadata": {
        "colab": {
          "base_uri": "https://localhost:8080/"
        },
        "id": "4xAU2qfcufrh",
        "outputId": "d7586f2b-6241-4756-af4b-6486bc3f2eb7"
      },
      "execution_count": 8,
      "outputs": [
        {
          "output_type": "stream",
          "name": "stderr",
          "text": [
            "[nltk_data] Downloading package stopwords to /root/nltk_data...\n",
            "[nltk_data]   Unzipping corpora/stopwords.zip.\n",
            "[nltk_data] Downloading package wordnet to /root/nltk_data...\n"
          ]
        },
        {
          "output_type": "execute_result",
          "data": {
            "text/plain": [
              "True"
            ]
          },
          "metadata": {},
          "execution_count": 8
        }
      ]
    },
    {
      "cell_type": "code",
      "source": [
        "stop_words = set(stopwords.words('english'))\n",
        "lemmatizer = WordNetLemmatizer()"
      ],
      "metadata": {
        "id": "TScaSE_4uod_"
      },
      "execution_count": 9,
      "outputs": []
    },
    {
      "cell_type": "code",
      "source": [
        "def preprocess_text(text):\n",
        "    text = re.sub(r'[^\\w\\s]', '', text)  # Remove punctuation\n",
        "    text = text.lower()  # Convert to lowercase\n",
        "    tokens = text.split()  # Tokenize\n",
        "    tokens = [lemmatizer.lemmatize(word) for word in tokens if word not in stop_words]  # Remove stopwords and lemmatize\n",
        "    return ' '.join(tokens)"
      ],
      "metadata": {
        "id": "FMcIIV8iusax"
      },
      "execution_count": 10,
      "outputs": []
    },
    {
      "cell_type": "code",
      "source": [
        "print(\"First few rows of the `Description` column:\")\n",
        "print(df['Description'].head())"
      ],
      "metadata": {
        "colab": {
          "base_uri": "https://localhost:8080/"
        },
        "id": "0nPMtgCsu_We",
        "outputId": "1c22cddb-1803-4d21-daba-ca00ca378fe1"
      },
      "execution_count": 14,
      "outputs": [
        {
          "output_type": "stream",
          "name": "stdout",
          "text": [
            "First few rows of the `Description` column:\n",
            "0    Packing already open. CPU in protect case not ...\n",
            "1    I returned the item because it wasnt good nor ...\n",
            "2    CPU is bad and used, Today open the box. the c...\n",
            "3    After troubleshooting with q-led lights i dedu...\n",
            "4                     Amazon sent a broken item to me.\n",
            "Name: Description, dtype: object\n"
          ]
        }
      ]
    },
    {
      "cell_type": "code",
      "source": [
        "print(\"\\nData types in the `Description` column:\")\n",
        "print(df['Description'].apply(type).value_counts())"
      ],
      "metadata": {
        "colab": {
          "base_uri": "https://localhost:8080/"
        },
        "id": "-ZADEe6yvA8X",
        "outputId": "571c2476-ad64-4ccc-9bb7-6d0f06d6a64c"
      },
      "execution_count": 15,
      "outputs": [
        {
          "output_type": "stream",
          "name": "stdout",
          "text": [
            "\n",
            "Data types in the `Description` column:\n",
            "Description\n",
            "<class 'str'>      1025\n",
            "<class 'float'>       8\n",
            "Name: count, dtype: int64\n"
          ]
        }
      ]
    },
    {
      "cell_type": "code",
      "source": [
        "df['Description'] = df['Description'].fillna('')  # Fill missing values with an empty string\n",
        "df['Description'] = df['Description'].astype(str)"
      ],
      "metadata": {
        "id": "fWoBZeYcvtd5"
      },
      "execution_count": 16,
      "outputs": []
    },
    {
      "cell_type": "code",
      "source": [
        "print(\"\\nData types in the `Description` column after conversion:\")\n",
        "print(df['Description'].apply(type).value_counts())"
      ],
      "metadata": {
        "colab": {
          "base_uri": "https://localhost:8080/"
        },
        "id": "BeCVnoNSvvjL",
        "outputId": "7aea007f-94d1-410c-d47e-f8ab447e398d"
      },
      "execution_count": 17,
      "outputs": [
        {
          "output_type": "stream",
          "name": "stdout",
          "text": [
            "\n",
            "Data types in the `Description` column after conversion:\n",
            "Description\n",
            "<class 'str'>    1033\n",
            "Name: count, dtype: int64\n"
          ]
        }
      ]
    },
    {
      "cell_type": "code",
      "source": [
        "df['cleaned_description'] = df['Description'].apply(preprocess_text)"
      ],
      "metadata": {
        "id": "5PX_dIzdvxYm"
      },
      "execution_count": 18,
      "outputs": []
    },
    {
      "cell_type": "code",
      "source": [
        "print(df[['Description', 'cleaned_description']].head())"
      ],
      "metadata": {
        "colab": {
          "base_uri": "https://localhost:8080/"
        },
        "id": "nK-WlA7dvzc7",
        "outputId": "2706eff7-535c-4355-f24f-9a4010e9b2b7"
      },
      "execution_count": 20,
      "outputs": [
        {
          "output_type": "stream",
          "name": "stdout",
          "text": [
            "                                         Description  \\\n",
            "0  Packing already open. CPU in protect case not ...   \n",
            "1  I returned the item because it wasnt good nor ...   \n",
            "2  CPU is bad and used, Today open the box. the c...   \n",
            "3  After troubleshooting with q-led lights i dedu...   \n",
            "4                   Amazon sent a broken item to me.   \n",
            "\n",
            "                                 cleaned_description  \n",
            "0  packing already open. cpu in protect case not ...  \n",
            "1  i returned the item because it wasnt good nor ...  \n",
            "2  cpu is bad and used, today open the box. the c...  \n",
            "3  after troubleshooting with q-led lights i dedu...  \n",
            "4                   amazon sent a broken item to me.  \n"
          ]
        }
      ]
    },
    {
      "cell_type": "markdown",
      "source": [
        "# Sentiment Analysis"
      ],
      "metadata": {
        "id": "QRmM884mwTgK"
      }
    },
    {
      "cell_type": "code",
      "source": [
        "from nltk.sentiment import SentimentIntensityAnalyzer\n",
        "nltk.download('vader_lexicon')"
      ],
      "metadata": {
        "colab": {
          "base_uri": "https://localhost:8080/"
        },
        "id": "5KzR-7I5wKSK",
        "outputId": "4ad1eb14-795c-406c-f9d6-91cae64ad7ef"
      },
      "execution_count": 24,
      "outputs": [
        {
          "output_type": "stream",
          "name": "stderr",
          "text": [
            "[nltk_data] Downloading package vader_lexicon to /root/nltk_data...\n"
          ]
        },
        {
          "output_type": "execute_result",
          "data": {
            "text/plain": [
              "True"
            ]
          },
          "metadata": {},
          "execution_count": 24
        }
      ]
    },
    {
      "cell_type": "code",
      "source": [
        "sia = SentimentIntensityAnalyzer()\n",
        "df['sentiment'] = df['cleaned_description'].apply(lambda x: sia.polarity_scores(x)['compound'])\n",
        "df['sentiment_label'] = df['sentiment'].apply(lambda x: 'positive' if x > 0 else ('negative' if x < 0 else 'neutral'))"
      ],
      "metadata": {
        "id": "OM_KG7MLwXKZ"
      },
      "execution_count": 25,
      "outputs": []
    },
    {
      "cell_type": "code",
      "source": [
        "#topic modeling using LDA:\n",
        "\n",
        "from sklearn.feature_extraction.text import CountVectorizer\n",
        "from sklearn.decomposition import LatentDirichletAllocation"
      ],
      "metadata": {
        "id": "XjD_c5fUwZ2V"
      },
      "execution_count": 26,
      "outputs": []
    },
    {
      "cell_type": "code",
      "source": [
        "vectorizer = CountVectorizer(max_df=0.95, min_df=2, stop_words='english')\n",
        "dtm = vectorizer.fit_transform(df['cleaned_description'])"
      ],
      "metadata": {
        "id": "_81aMjFTwlxQ"
      },
      "execution_count": 27,
      "outputs": []
    },
    {
      "cell_type": "code",
      "source": [
        "lda = LatentDirichletAllocation(n_components=5, random_state=42)\n",
        "lda.fit(dtm)"
      ],
      "metadata": {
        "colab": {
          "base_uri": "https://localhost:8080/",
          "height": 74
        },
        "id": "mFK5waT1wn3N",
        "outputId": "94383db9-8d44-4d33-df06-cec6df953e12"
      },
      "execution_count": 28,
      "outputs": [
        {
          "output_type": "execute_result",
          "data": {
            "text/plain": [
              "LatentDirichletAllocation(n_components=5, random_state=42)"
            ],
            "text/html": [
              "<style>#sk-container-id-1 {color: black;background-color: white;}#sk-container-id-1 pre{padding: 0;}#sk-container-id-1 div.sk-toggleable {background-color: white;}#sk-container-id-1 label.sk-toggleable__label {cursor: pointer;display: block;width: 100%;margin-bottom: 0;padding: 0.3em;box-sizing: border-box;text-align: center;}#sk-container-id-1 label.sk-toggleable__label-arrow:before {content: \"▸\";float: left;margin-right: 0.25em;color: #696969;}#sk-container-id-1 label.sk-toggleable__label-arrow:hover:before {color: black;}#sk-container-id-1 div.sk-estimator:hover label.sk-toggleable__label-arrow:before {color: black;}#sk-container-id-1 div.sk-toggleable__content {max-height: 0;max-width: 0;overflow: hidden;text-align: left;background-color: #f0f8ff;}#sk-container-id-1 div.sk-toggleable__content pre {margin: 0.2em;color: black;border-radius: 0.25em;background-color: #f0f8ff;}#sk-container-id-1 input.sk-toggleable__control:checked~div.sk-toggleable__content {max-height: 200px;max-width: 100%;overflow: auto;}#sk-container-id-1 input.sk-toggleable__control:checked~label.sk-toggleable__label-arrow:before {content: \"▾\";}#sk-container-id-1 div.sk-estimator input.sk-toggleable__control:checked~label.sk-toggleable__label {background-color: #d4ebff;}#sk-container-id-1 div.sk-label input.sk-toggleable__control:checked~label.sk-toggleable__label {background-color: #d4ebff;}#sk-container-id-1 input.sk-hidden--visually {border: 0;clip: rect(1px 1px 1px 1px);clip: rect(1px, 1px, 1px, 1px);height: 1px;margin: -1px;overflow: hidden;padding: 0;position: absolute;width: 1px;}#sk-container-id-1 div.sk-estimator {font-family: monospace;background-color: #f0f8ff;border: 1px dotted black;border-radius: 0.25em;box-sizing: border-box;margin-bottom: 0.5em;}#sk-container-id-1 div.sk-estimator:hover {background-color: #d4ebff;}#sk-container-id-1 div.sk-parallel-item::after {content: \"\";width: 100%;border-bottom: 1px solid gray;flex-grow: 1;}#sk-container-id-1 div.sk-label:hover label.sk-toggleable__label {background-color: #d4ebff;}#sk-container-id-1 div.sk-serial::before {content: \"\";position: absolute;border-left: 1px solid gray;box-sizing: border-box;top: 0;bottom: 0;left: 50%;z-index: 0;}#sk-container-id-1 div.sk-serial {display: flex;flex-direction: column;align-items: center;background-color: white;padding-right: 0.2em;padding-left: 0.2em;position: relative;}#sk-container-id-1 div.sk-item {position: relative;z-index: 1;}#sk-container-id-1 div.sk-parallel {display: flex;align-items: stretch;justify-content: center;background-color: white;position: relative;}#sk-container-id-1 div.sk-item::before, #sk-container-id-1 div.sk-parallel-item::before {content: \"\";position: absolute;border-left: 1px solid gray;box-sizing: border-box;top: 0;bottom: 0;left: 50%;z-index: -1;}#sk-container-id-1 div.sk-parallel-item {display: flex;flex-direction: column;z-index: 1;position: relative;background-color: white;}#sk-container-id-1 div.sk-parallel-item:first-child::after {align-self: flex-end;width: 50%;}#sk-container-id-1 div.sk-parallel-item:last-child::after {align-self: flex-start;width: 50%;}#sk-container-id-1 div.sk-parallel-item:only-child::after {width: 0;}#sk-container-id-1 div.sk-dashed-wrapped {border: 1px dashed gray;margin: 0 0.4em 0.5em 0.4em;box-sizing: border-box;padding-bottom: 0.4em;background-color: white;}#sk-container-id-1 div.sk-label label {font-family: monospace;font-weight: bold;display: inline-block;line-height: 1.2em;}#sk-container-id-1 div.sk-label-container {text-align: center;}#sk-container-id-1 div.sk-container {/* jupyter's `normalize.less` sets `[hidden] { display: none; }` but bootstrap.min.css set `[hidden] { display: none !important; }` so we also need the `!important` here to be able to override the default hidden behavior on the sphinx rendered scikit-learn.org. See: https://github.com/scikit-learn/scikit-learn/issues/21755 */display: inline-block !important;position: relative;}#sk-container-id-1 div.sk-text-repr-fallback {display: none;}</style><div id=\"sk-container-id-1\" class=\"sk-top-container\"><div class=\"sk-text-repr-fallback\"><pre>LatentDirichletAllocation(n_components=5, random_state=42)</pre><b>In a Jupyter environment, please rerun this cell to show the HTML representation or trust the notebook. <br />On GitHub, the HTML representation is unable to render, please try loading this page with nbviewer.org.</b></div><div class=\"sk-container\" hidden><div class=\"sk-item\"><div class=\"sk-estimator sk-toggleable\"><input class=\"sk-toggleable__control sk-hidden--visually\" id=\"sk-estimator-id-1\" type=\"checkbox\" checked><label for=\"sk-estimator-id-1\" class=\"sk-toggleable__label sk-toggleable__label-arrow\">LatentDirichletAllocation</label><div class=\"sk-toggleable__content\"><pre>LatentDirichletAllocation(n_components=5, random_state=42)</pre></div></div></div></div></div>"
            ]
          },
          "metadata": {},
          "execution_count": 28
        }
      ]
    },
    {
      "cell_type": "code",
      "source": [
        "# Display the topics\n",
        "for index, topic in enumerate(lda.components_):\n",
        "    print(f'Topic {index}')\n",
        "    print([vectorizer.get_feature_names_out()[i] for i in topic.argsort()[-10:]])"
      ],
      "metadata": {
        "colab": {
          "base_uri": "https://localhost:8080/"
        },
        "id": "3cT5gJdawpnW",
        "outputId": "41c76623-6b9b-45b9-db6e-c9503279fc84"
      },
      "execution_count": 29,
      "outputs": [
        {
          "output_type": "stream",
          "name": "stdout",
          "text": [
            "Topic 0\n",
            "['procesador', 'es', 'est', 'pour', 'et', 'el', 'le', 'en', 'que', 'la']\n",
            "Topic 1\n",
            "['just', 'runs', 'intel', 'works', 'performance', 'great', 'good', 'gaming', 'cooler', 'cpu']\n",
            "Topic 2\n",
            "['motherboard', 'gaming', 'i9', 'gen', 'performance', 'just', 'new', 'intel', 'processor', 'cpu']\n",
            "Topic 3\n",
            "['la', 'da', 'non', 'core', 'intel', 'i3', 'processore', 'che', 'il', 'di']\n",
            "Topic 4\n",
            "['è³¼å', '½ã', 'cpuã', '¹ã', 'ä½', 'ï¼', '³ã', '¼ã', '¾ã', 'ªã']\n"
          ]
        }
      ]
    },
    {
      "cell_type": "markdown",
      "source": [
        "Identify Common Complaints and Suggestions"
      ],
      "metadata": {
        "id": "bb0TUg8EwvyT"
      }
    },
    {
      "cell_type": "code",
      "source": [
        "negative_reviews = df[df['sentiment_label'] == 'negative']['cleaned_description']\n",
        "all_negative_words = ' '.join(negative_reviews).split()"
      ],
      "metadata": {
        "id": "0-_nKQR_wr9R"
      },
      "execution_count": 30,
      "outputs": []
    },
    {
      "cell_type": "code",
      "source": [
        "from collections import Counter"
      ],
      "metadata": {
        "id": "KiYdW_v-w8wV"
      },
      "execution_count": 31,
      "outputs": []
    },
    {
      "cell_type": "code",
      "source": [
        "word_counts = Counter(all_negative_words)\n",
        "common_complaints = word_counts.most_common(20)\n",
        "print(common_complaints)"
      ],
      "metadata": {
        "colab": {
          "base_uri": "https://localhost:8080/"
        },
        "id": "V_KIbIMGw-lG",
        "outputId": "f295484e-7fb3-4557-a7a3-1133aad5f3b3"
      },
      "execution_count": 32,
      "outputs": [
        {
          "output_type": "stream",
          "name": "stdout",
          "text": [
            "[('the', 314), ('a', 230), ('and', 210), ('to', 186), ('i', 185), ('it', 144), ('de', 130), ('this', 122), ('with', 108), ('is', 106), ('cpu', 98), ('no', 94), ('for', 93), ('of', 90), ('in', 88), ('was', 87), ('la', 87), ('que', 72), ('un', 69), ('y', 68)]\n"
          ]
        }
      ]
    },
    {
      "cell_type": "markdown",
      "source": [
        "Generating recommendations:"
      ],
      "metadata": {
        "id": "CgnT5y9nxD6b"
      }
    },
    {
      "cell_type": "code",
      "source": [
        "recommendations = []\n",
        "\n",
        "# Example: If \"battery\" is a common complaint, suggest improving battery life\n",
        "if any(word in ['battery', 'charge', 'power','heat'] for word, count in common_complaints):\n",
        "    recommendations.append(\"Improve battery life and charging speed.\")\n",
        "recommendations.append(\"Improve battery life and charging speed.\")\n",
        "\n",
        "# Example: If \"price\" is a common complaint, suggest revising pricing strategy\n",
        "if any(word in ['price', 'cost', 'expensive'] for word, count in common_complaints):\n",
        "    recommendations.append(\"Consider revising the pricing strategy or offering discounts.\")\n",
        "recommendations.append(\"Consider revising the pricing strategy or offering discounts.\")\n",
        "recommendations.append(\"packaging should be improved\")\n",
        "\n",
        "\n"
      ],
      "metadata": {
        "id": "XSCjKfQpxAYB"
      },
      "execution_count": 43,
      "outputs": []
    },
    {
      "cell_type": "code",
      "source": [
        "print(\"Recommendations for future products:\")\n",
        "for rec in recommendations:\n",
        "    print(rec)"
      ],
      "metadata": {
        "colab": {
          "base_uri": "https://localhost:8080/"
        },
        "id": "beyHZhw_xHHk",
        "outputId": "1393eaff-2916-42a6-e527-0cd1deedd4ca"
      },
      "execution_count": 44,
      "outputs": [
        {
          "output_type": "stream",
          "name": "stdout",
          "text": [
            "Recommendations for future products:\n",
            "Improve battery life and charging speed.\n",
            "Consider revising the pricing strategy or offering discounts.\n",
            "packaging should be improved\n"
          ]
        }
      ]
    },
    {
      "cell_type": "code",
      "source": [],
      "metadata": {
        "id": "S1ZWVTVDyQyg"
      },
      "execution_count": null,
      "outputs": []
    }
  ]
}