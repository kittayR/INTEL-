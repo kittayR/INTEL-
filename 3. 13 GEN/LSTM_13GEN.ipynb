{
  "nbformat": 4,
  "nbformat_minor": 0,
  "metadata": {
    "colab": {
      "provenance": []
    },
    "kernelspec": {
      "name": "python3",
      "display_name": "Python 3"
    },
    "language_info": {
      "name": "python"
    }
  },
  "cells": [
    {
      "cell_type": "code",
      "execution_count": 1,
      "metadata": {
        "id": "mrkQmRN6I7tF"
      },
      "outputs": [],
      "source": [
        "import pandas as pd\n",
        "import numpy as np\n",
        "import tensorflow as tf"
      ]
    },
    {
      "cell_type": "code",
      "source": [
        "from tensorflow.keras.preprocessing.sequence import pad_sequences\n",
        "from tensorflow.keras.layers import Embedding, LSTM, Dense, Dropout, Bidirectional\n",
        "from tensorflow.keras.preprocessing.text import Tokenizer"
      ],
      "metadata": {
        "id": "O-Nubfp2I8f2"
      },
      "execution_count": 2,
      "outputs": []
    },
    {
      "cell_type": "code",
      "source": [
        "from sklearn.metrics import classification_report"
      ],
      "metadata": {
        "id": "w3WNegz9Jzzl"
      },
      "execution_count": 3,
      "outputs": []
    },
    {
      "cell_type": "code",
      "source": [
        "import nltk\n",
        "nltk.download('stopwords')\n",
        "nltk.download('wordnet')\n",
        "from nltk.corpus import stopwords\n",
        "from nltk.stem.wordnet import WordNetLemmatizer\n",
        "# Visualization\n",
        "from wordcloud import WordCloud\n",
        "import matplotlib.pyplot as plt"
      ],
      "metadata": {
        "colab": {
          "base_uri": "https://localhost:8080/"
        },
        "id": "8Sx1m-guJ1ij",
        "outputId": "b6a2fabe-60e7-4aa9-bbdb-10182c9e58a9"
      },
      "execution_count": 4,
      "outputs": [
        {
          "output_type": "stream",
          "name": "stderr",
          "text": [
            "[nltk_data] Downloading package stopwords to /root/nltk_data...\n",
            "[nltk_data]   Unzipping corpora/stopwords.zip.\n",
            "[nltk_data] Downloading package wordnet to /root/nltk_data...\n"
          ]
        }
      ]
    },
    {
      "cell_type": "code",
      "source": [
        "from google.colab import drive\n",
        "drive.mount('/content/drive')"
      ],
      "metadata": {
        "colab": {
          "base_uri": "https://localhost:8080/"
        },
        "id": "IcYCJX-WJ3Mb",
        "outputId": "3c4ca4f0-7207-4d77-c405-467819f11d7c"
      },
      "execution_count": 5,
      "outputs": [
        {
          "output_type": "stream",
          "name": "stdout",
          "text": [
            "Mounted at /content/drive\n"
          ]
        }
      ]
    },
    {
      "cell_type": "code",
      "source": [
        "path = 'drive/My Drive/data'"
      ],
      "metadata": {
        "id": "M6LncmSRJ5i6"
      },
      "execution_count": 6,
      "outputs": []
    },
    {
      "cell_type": "code",
      "source": [
        "try:\n",
        "    df = pd.read_csv(path+'/13GEN.csv', encoding='utf-8')\n",
        "except UnicodeDecodeError:\n",
        "    df = pd.read_csv(path+'/13GEN.csv', encoding='ISO-8859-1')\n",
        "print(df.shape)"
      ],
      "metadata": {
        "colab": {
          "base_uri": "https://localhost:8080/"
        },
        "id": "5a_fGsc3KBUn",
        "outputId": "cb106134-99b4-4335-e80a-309873b03ea7"
      },
      "execution_count": 7,
      "outputs": [
        {
          "output_type": "stream",
          "name": "stdout",
          "text": [
            "(778, 6)\n"
          ]
        }
      ]
    },
    {
      "cell_type": "markdown",
      "source": [
        "SPLITTING DATASET INTO TRAINING DATA AND TESTING DATA"
      ],
      "metadata": {
        "id": "WLiRPZ_zKRIj"
      }
    },
    {
      "cell_type": "code",
      "source": [
        "from sklearn.model_selection import train_test_split\n",
        "\n",
        "# Split the data\n",
        "train_data, test_data = train_test_split(df, test_size=0.2, random_state=42)\n",
        "\n",
        "# Print the size of the splits\n",
        "print(f\"Training data size: {len(train_data)}\")\n",
        "print(f\"Testing data size: {len(test_data)}\")"
      ],
      "metadata": {
        "colab": {
          "base_uri": "https://localhost:8080/"
        },
        "id": "43rCHDxbKDhg",
        "outputId": "c197406e-a2a4-4346-95ce-c47e27dfa384"
      },
      "execution_count": 8,
      "outputs": [
        {
          "output_type": "stream",
          "name": "stdout",
          "text": [
            "Training data size: 622\n",
            "Testing data size: 156\n"
          ]
        }
      ]
    },
    {
      "cell_type": "code",
      "source": [
        "train_data.head()"
      ],
      "metadata": {
        "colab": {
          "base_uri": "https://localhost:8080/",
          "height": 206
        },
        "id": "TUEd0_OjKFoI",
        "outputId": "51f1300e-587f-44e7-bf64-35306a8887ad"
      },
      "execution_count": 9,
      "outputs": [
        {
          "output_type": "execute_result",
          "data": {
            "text/plain": [
              "        ID             Name Stars  \\\n",
              "694  695.0        Ryan Peck     5   \n",
              "638  639.0      IndyToronto     3   \n",
              "133  134.0         Nifnorts     1   \n",
              "355  356.0  Amazon Customer     1   \n",
              "55    56.0       Technopaul     5   \n",
              "\n",
              "                                                 Title Date  \\\n",
              "694                                          Very good  NaN   \n",
              "638  Surprisingly Fast but watch out for corner chi...  NaN   \n",
              "133                                            Damaged  NaN   \n",
              "355             CPU received appears to have been used  NaN   \n",
              "55                       Exelent rapport qualitÃ© prix  NaN   \n",
              "\n",
              "                                           Description  \n",
              "694  A great processer for Blender and gaming. 24 c...  \n",
              "638  We set up multiple computing servers to run he...  \n",
              "133  Damaged box and mobo can't read processor. Ret...  \n",
              "355  Received relatively quick. The issue was there...  \n",
              "55   Also serves my MSI MPG B760I EDGE WIFI PC Inte...  "
            ],
            "text/html": [
              "\n",
              "  <div id=\"df-84b8b36a-8975-49b8-949d-e131a3828cb9\" class=\"colab-df-container\">\n",
              "    <div>\n",
              "<style scoped>\n",
              "    .dataframe tbody tr th:only-of-type {\n",
              "        vertical-align: middle;\n",
              "    }\n",
              "\n",
              "    .dataframe tbody tr th {\n",
              "        vertical-align: top;\n",
              "    }\n",
              "\n",
              "    .dataframe thead th {\n",
              "        text-align: right;\n",
              "    }\n",
              "</style>\n",
              "<table border=\"1\" class=\"dataframe\">\n",
              "  <thead>\n",
              "    <tr style=\"text-align: right;\">\n",
              "      <th></th>\n",
              "      <th>ID</th>\n",
              "      <th>Name</th>\n",
              "      <th>Stars</th>\n",
              "      <th>Title</th>\n",
              "      <th>Date</th>\n",
              "      <th>Description</th>\n",
              "    </tr>\n",
              "  </thead>\n",
              "  <tbody>\n",
              "    <tr>\n",
              "      <th>694</th>\n",
              "      <td>695.0</td>\n",
              "      <td>Ryan Peck</td>\n",
              "      <td>5</td>\n",
              "      <td>Very good</td>\n",
              "      <td>NaN</td>\n",
              "      <td>A great processer for Blender and gaming. 24 c...</td>\n",
              "    </tr>\n",
              "    <tr>\n",
              "      <th>638</th>\n",
              "      <td>639.0</td>\n",
              "      <td>IndyToronto</td>\n",
              "      <td>3</td>\n",
              "      <td>Surprisingly Fast but watch out for corner chi...</td>\n",
              "      <td>NaN</td>\n",
              "      <td>We set up multiple computing servers to run he...</td>\n",
              "    </tr>\n",
              "    <tr>\n",
              "      <th>133</th>\n",
              "      <td>134.0</td>\n",
              "      <td>Nifnorts</td>\n",
              "      <td>1</td>\n",
              "      <td>Damaged</td>\n",
              "      <td>NaN</td>\n",
              "      <td>Damaged box and mobo can't read processor. Ret...</td>\n",
              "    </tr>\n",
              "    <tr>\n",
              "      <th>355</th>\n",
              "      <td>356.0</td>\n",
              "      <td>Amazon Customer</td>\n",
              "      <td>1</td>\n",
              "      <td>CPU received appears to have been used</td>\n",
              "      <td>NaN</td>\n",
              "      <td>Received relatively quick. The issue was there...</td>\n",
              "    </tr>\n",
              "    <tr>\n",
              "      <th>55</th>\n",
              "      <td>56.0</td>\n",
              "      <td>Technopaul</td>\n",
              "      <td>5</td>\n",
              "      <td>Exelent rapport qualitÃ© prix</td>\n",
              "      <td>NaN</td>\n",
              "      <td>Also serves my MSI MPG B760I EDGE WIFI PC Inte...</td>\n",
              "    </tr>\n",
              "  </tbody>\n",
              "</table>\n",
              "</div>\n",
              "    <div class=\"colab-df-buttons\">\n",
              "\n",
              "  <div class=\"colab-df-container\">\n",
              "    <button class=\"colab-df-convert\" onclick=\"convertToInteractive('df-84b8b36a-8975-49b8-949d-e131a3828cb9')\"\n",
              "            title=\"Convert this dataframe to an interactive table.\"\n",
              "            style=\"display:none;\">\n",
              "\n",
              "  <svg xmlns=\"http://www.w3.org/2000/svg\" height=\"24px\" viewBox=\"0 -960 960 960\">\n",
              "    <path d=\"M120-120v-720h720v720H120Zm60-500h600v-160H180v160Zm220 220h160v-160H400v160Zm0 220h160v-160H400v160ZM180-400h160v-160H180v160Zm440 0h160v-160H620v160ZM180-180h160v-160H180v160Zm440 0h160v-160H620v160Z\"/>\n",
              "  </svg>\n",
              "    </button>\n",
              "\n",
              "  <style>\n",
              "    .colab-df-container {\n",
              "      display:flex;\n",
              "      gap: 12px;\n",
              "    }\n",
              "\n",
              "    .colab-df-convert {\n",
              "      background-color: #E8F0FE;\n",
              "      border: none;\n",
              "      border-radius: 50%;\n",
              "      cursor: pointer;\n",
              "      display: none;\n",
              "      fill: #1967D2;\n",
              "      height: 32px;\n",
              "      padding: 0 0 0 0;\n",
              "      width: 32px;\n",
              "    }\n",
              "\n",
              "    .colab-df-convert:hover {\n",
              "      background-color: #E2EBFA;\n",
              "      box-shadow: 0px 1px 2px rgba(60, 64, 67, 0.3), 0px 1px 3px 1px rgba(60, 64, 67, 0.15);\n",
              "      fill: #174EA6;\n",
              "    }\n",
              "\n",
              "    .colab-df-buttons div {\n",
              "      margin-bottom: 4px;\n",
              "    }\n",
              "\n",
              "    [theme=dark] .colab-df-convert {\n",
              "      background-color: #3B4455;\n",
              "      fill: #D2E3FC;\n",
              "    }\n",
              "\n",
              "    [theme=dark] .colab-df-convert:hover {\n",
              "      background-color: #434B5C;\n",
              "      box-shadow: 0px 1px 3px 1px rgba(0, 0, 0, 0.15);\n",
              "      filter: drop-shadow(0px 1px 2px rgba(0, 0, 0, 0.3));\n",
              "      fill: #FFFFFF;\n",
              "    }\n",
              "  </style>\n",
              "\n",
              "    <script>\n",
              "      const buttonEl =\n",
              "        document.querySelector('#df-84b8b36a-8975-49b8-949d-e131a3828cb9 button.colab-df-convert');\n",
              "      buttonEl.style.display =\n",
              "        google.colab.kernel.accessAllowed ? 'block' : 'none';\n",
              "\n",
              "      async function convertToInteractive(key) {\n",
              "        const element = document.querySelector('#df-84b8b36a-8975-49b8-949d-e131a3828cb9');\n",
              "        const dataTable =\n",
              "          await google.colab.kernel.invokeFunction('convertToInteractive',\n",
              "                                                    [key], {});\n",
              "        if (!dataTable) return;\n",
              "\n",
              "        const docLinkHtml = 'Like what you see? Visit the ' +\n",
              "          '<a target=\"_blank\" href=https://colab.research.google.com/notebooks/data_table.ipynb>data table notebook</a>'\n",
              "          + ' to learn more about interactive tables.';\n",
              "        element.innerHTML = '';\n",
              "        dataTable['output_type'] = 'display_data';\n",
              "        await google.colab.output.renderOutput(dataTable, element);\n",
              "        const docLink = document.createElement('div');\n",
              "        docLink.innerHTML = docLinkHtml;\n",
              "        element.appendChild(docLink);\n",
              "      }\n",
              "    </script>\n",
              "  </div>\n",
              "\n",
              "\n",
              "<div id=\"df-dc1fea68-6492-47b4-9a4e-cb50ad9a4afc\">\n",
              "  <button class=\"colab-df-quickchart\" onclick=\"quickchart('df-dc1fea68-6492-47b4-9a4e-cb50ad9a4afc')\"\n",
              "            title=\"Suggest charts\"\n",
              "            style=\"display:none;\">\n",
              "\n",
              "<svg xmlns=\"http://www.w3.org/2000/svg\" height=\"24px\"viewBox=\"0 0 24 24\"\n",
              "     width=\"24px\">\n",
              "    <g>\n",
              "        <path d=\"M19 3H5c-1.1 0-2 .9-2 2v14c0 1.1.9 2 2 2h14c1.1 0 2-.9 2-2V5c0-1.1-.9-2-2-2zM9 17H7v-7h2v7zm4 0h-2V7h2v10zm4 0h-2v-4h2v4z\"/>\n",
              "    </g>\n",
              "</svg>\n",
              "  </button>\n",
              "\n",
              "<style>\n",
              "  .colab-df-quickchart {\n",
              "      --bg-color: #E8F0FE;\n",
              "      --fill-color: #1967D2;\n",
              "      --hover-bg-color: #E2EBFA;\n",
              "      --hover-fill-color: #174EA6;\n",
              "      --disabled-fill-color: #AAA;\n",
              "      --disabled-bg-color: #DDD;\n",
              "  }\n",
              "\n",
              "  [theme=dark] .colab-df-quickchart {\n",
              "      --bg-color: #3B4455;\n",
              "      --fill-color: #D2E3FC;\n",
              "      --hover-bg-color: #434B5C;\n",
              "      --hover-fill-color: #FFFFFF;\n",
              "      --disabled-bg-color: #3B4455;\n",
              "      --disabled-fill-color: #666;\n",
              "  }\n",
              "\n",
              "  .colab-df-quickchart {\n",
              "    background-color: var(--bg-color);\n",
              "    border: none;\n",
              "    border-radius: 50%;\n",
              "    cursor: pointer;\n",
              "    display: none;\n",
              "    fill: var(--fill-color);\n",
              "    height: 32px;\n",
              "    padding: 0;\n",
              "    width: 32px;\n",
              "  }\n",
              "\n",
              "  .colab-df-quickchart:hover {\n",
              "    background-color: var(--hover-bg-color);\n",
              "    box-shadow: 0 1px 2px rgba(60, 64, 67, 0.3), 0 1px 3px 1px rgba(60, 64, 67, 0.15);\n",
              "    fill: var(--button-hover-fill-color);\n",
              "  }\n",
              "\n",
              "  .colab-df-quickchart-complete:disabled,\n",
              "  .colab-df-quickchart-complete:disabled:hover {\n",
              "    background-color: var(--disabled-bg-color);\n",
              "    fill: var(--disabled-fill-color);\n",
              "    box-shadow: none;\n",
              "  }\n",
              "\n",
              "  .colab-df-spinner {\n",
              "    border: 2px solid var(--fill-color);\n",
              "    border-color: transparent;\n",
              "    border-bottom-color: var(--fill-color);\n",
              "    animation:\n",
              "      spin 1s steps(1) infinite;\n",
              "  }\n",
              "\n",
              "  @keyframes spin {\n",
              "    0% {\n",
              "      border-color: transparent;\n",
              "      border-bottom-color: var(--fill-color);\n",
              "      border-left-color: var(--fill-color);\n",
              "    }\n",
              "    20% {\n",
              "      border-color: transparent;\n",
              "      border-left-color: var(--fill-color);\n",
              "      border-top-color: var(--fill-color);\n",
              "    }\n",
              "    30% {\n",
              "      border-color: transparent;\n",
              "      border-left-color: var(--fill-color);\n",
              "      border-top-color: var(--fill-color);\n",
              "      border-right-color: var(--fill-color);\n",
              "    }\n",
              "    40% {\n",
              "      border-color: transparent;\n",
              "      border-right-color: var(--fill-color);\n",
              "      border-top-color: var(--fill-color);\n",
              "    }\n",
              "    60% {\n",
              "      border-color: transparent;\n",
              "      border-right-color: var(--fill-color);\n",
              "    }\n",
              "    80% {\n",
              "      border-color: transparent;\n",
              "      border-right-color: var(--fill-color);\n",
              "      border-bottom-color: var(--fill-color);\n",
              "    }\n",
              "    90% {\n",
              "      border-color: transparent;\n",
              "      border-bottom-color: var(--fill-color);\n",
              "    }\n",
              "  }\n",
              "</style>\n",
              "\n",
              "  <script>\n",
              "    async function quickchart(key) {\n",
              "      const quickchartButtonEl =\n",
              "        document.querySelector('#' + key + ' button');\n",
              "      quickchartButtonEl.disabled = true;  // To prevent multiple clicks.\n",
              "      quickchartButtonEl.classList.add('colab-df-spinner');\n",
              "      try {\n",
              "        const charts = await google.colab.kernel.invokeFunction(\n",
              "            'suggestCharts', [key], {});\n",
              "      } catch (error) {\n",
              "        console.error('Error during call to suggestCharts:', error);\n",
              "      }\n",
              "      quickchartButtonEl.classList.remove('colab-df-spinner');\n",
              "      quickchartButtonEl.classList.add('colab-df-quickchart-complete');\n",
              "    }\n",
              "    (() => {\n",
              "      let quickchartButtonEl =\n",
              "        document.querySelector('#df-dc1fea68-6492-47b4-9a4e-cb50ad9a4afc button');\n",
              "      quickchartButtonEl.style.display =\n",
              "        google.colab.kernel.accessAllowed ? 'block' : 'none';\n",
              "    })();\n",
              "  </script>\n",
              "</div>\n",
              "\n",
              "    </div>\n",
              "  </div>\n"
            ],
            "application/vnd.google.colaboratory.intrinsic+json": {
              "type": "dataframe",
              "variable_name": "train_data",
              "summary": "{\n  \"name\": \"train_data\",\n  \"rows\": 622,\n  \"fields\": [\n    {\n      \"column\": \"ID\",\n      \"properties\": {\n        \"dtype\": \"number\",\n        \"std\": 223.3204774070617,\n        \"min\": 1.0,\n        \"max\": 777.0,\n        \"num_unique_values\": 621,\n        \"samples\": [\n          141.0,\n          476.0,\n          364.0\n        ],\n        \"semantic_type\": \"\",\n        \"description\": \"\"\n      }\n    },\n    {\n      \"column\": \"Name\",\n      \"properties\": {\n        \"dtype\": \"string\",\n        \"num_unique_values\": 575,\n        \"samples\": [\n          \"RubberCheese\",\n          \"Cameron Lichtenwald\",\n          \"R.Capatina\"\n        ],\n        \"semantic_type\": \"\",\n        \"description\": \"\"\n      }\n    },\n    {\n      \"column\": \"Stars\",\n      \"properties\": {\n        \"dtype\": \"category\",\n        \"num_unique_values\": 6,\n        \"samples\": [\n          \"5\",\n          \"3\",\n          \"Stars\"\n        ],\n        \"semantic_type\": \"\",\n        \"description\": \"\"\n      }\n    },\n    {\n      \"column\": \"Title\",\n      \"properties\": {\n        \"dtype\": \"string\",\n        \"num_unique_values\": 586,\n        \"samples\": [\n          \"For those who are on the fence about upgrading from 12th generation Intel\",\n          \"Ordered new but received open and used\",\n          \"Montage vid\\u00c3\\u00a9o, Gaming, Montage photo, Design, un i7 \\u00c3\\u00a0 tout faire !\"\n        ],\n        \"semantic_type\": \"\",\n        \"description\": \"\"\n      }\n    },\n    {\n      \"column\": \"Date\",\n      \"properties\": {\n        \"dtype\": \"category\",\n        \"num_unique_values\": 1,\n        \"samples\": [\n          \"Date\"\n        ],\n        \"semantic_type\": \"\",\n        \"description\": \"\"\n      }\n    },\n    {\n      \"column\": \"Description\",\n      \"properties\": {\n        \"dtype\": \"string\",\n        \"num_unique_values\": 605,\n        \"samples\": [\n          \"thank you\"\n        ],\n        \"semantic_type\": \"\",\n        \"description\": \"\"\n      }\n    }\n  ]\n}"
            }
          },
          "metadata": {},
          "execution_count": 9
        }
      ]
    },
    {
      "cell_type": "code",
      "source": [
        "test_data.head()"
      ],
      "metadata": {
        "colab": {
          "base_uri": "https://localhost:8080/",
          "height": 206
        },
        "id": "4ttpH4bFKI8Z",
        "outputId": "e588eba1-ee97-4117-fcb5-7f66c609f7ed"
      },
      "execution_count": 10,
      "outputs": [
        {
          "output_type": "execute_result",
          "data": {
            "text/plain": [
              "        ID             Name Stars  \\\n",
              "595  596.0           sergio     1   \n",
              "587  588.0  Amazon Customer     1   \n",
              "543  544.0  Wolfgang Werner     5   \n",
              "644  645.0   John M. Macros     4   \n",
              "487  488.0       Fortnite89     5   \n",
              "\n",
              "                                                 Title Date  \\\n",
              "595                              Imballaggio i9 13900k  NaN   \n",
              "587  It's junk, don't buy this. It won't boot up my...  NaN   \n",
              "543                                       As described  NaN   \n",
              "644                               Faster than expected  NaN   \n",
              "487                                 Una bella Bombetta  NaN   \n",
              "\n",
              "                                           Description  \n",
              "595                     The media could not be loaded.  \n",
              "587  Not even worth throwing away money to buy. Sta...  \n",
              "543  I was close to give them a bad review but then...  \n",
              "644  Havent used intel in a long time, glad I went ...  \n",
              "487  Excellent CPU performing, quick I recommend th...  "
            ],
            "text/html": [
              "\n",
              "  <div id=\"df-914107b9-d112-49e6-957f-31da25d87f67\" class=\"colab-df-container\">\n",
              "    <div>\n",
              "<style scoped>\n",
              "    .dataframe tbody tr th:only-of-type {\n",
              "        vertical-align: middle;\n",
              "    }\n",
              "\n",
              "    .dataframe tbody tr th {\n",
              "        vertical-align: top;\n",
              "    }\n",
              "\n",
              "    .dataframe thead th {\n",
              "        text-align: right;\n",
              "    }\n",
              "</style>\n",
              "<table border=\"1\" class=\"dataframe\">\n",
              "  <thead>\n",
              "    <tr style=\"text-align: right;\">\n",
              "      <th></th>\n",
              "      <th>ID</th>\n",
              "      <th>Name</th>\n",
              "      <th>Stars</th>\n",
              "      <th>Title</th>\n",
              "      <th>Date</th>\n",
              "      <th>Description</th>\n",
              "    </tr>\n",
              "  </thead>\n",
              "  <tbody>\n",
              "    <tr>\n",
              "      <th>595</th>\n",
              "      <td>596.0</td>\n",
              "      <td>sergio</td>\n",
              "      <td>1</td>\n",
              "      <td>Imballaggio i9 13900k</td>\n",
              "      <td>NaN</td>\n",
              "      <td>The media could not be loaded.</td>\n",
              "    </tr>\n",
              "    <tr>\n",
              "      <th>587</th>\n",
              "      <td>588.0</td>\n",
              "      <td>Amazon Customer</td>\n",
              "      <td>1</td>\n",
              "      <td>It's junk, don't buy this. It won't boot up my...</td>\n",
              "      <td>NaN</td>\n",
              "      <td>Not even worth throwing away money to buy. Sta...</td>\n",
              "    </tr>\n",
              "    <tr>\n",
              "      <th>543</th>\n",
              "      <td>544.0</td>\n",
              "      <td>Wolfgang Werner</td>\n",
              "      <td>5</td>\n",
              "      <td>As described</td>\n",
              "      <td>NaN</td>\n",
              "      <td>I was close to give them a bad review but then...</td>\n",
              "    </tr>\n",
              "    <tr>\n",
              "      <th>644</th>\n",
              "      <td>645.0</td>\n",
              "      <td>John M. Macros</td>\n",
              "      <td>4</td>\n",
              "      <td>Faster than expected</td>\n",
              "      <td>NaN</td>\n",
              "      <td>Havent used intel in a long time, glad I went ...</td>\n",
              "    </tr>\n",
              "    <tr>\n",
              "      <th>487</th>\n",
              "      <td>488.0</td>\n",
              "      <td>Fortnite89</td>\n",
              "      <td>5</td>\n",
              "      <td>Una bella Bombetta</td>\n",
              "      <td>NaN</td>\n",
              "      <td>Excellent CPU performing, quick I recommend th...</td>\n",
              "    </tr>\n",
              "  </tbody>\n",
              "</table>\n",
              "</div>\n",
              "    <div class=\"colab-df-buttons\">\n",
              "\n",
              "  <div class=\"colab-df-container\">\n",
              "    <button class=\"colab-df-convert\" onclick=\"convertToInteractive('df-914107b9-d112-49e6-957f-31da25d87f67')\"\n",
              "            title=\"Convert this dataframe to an interactive table.\"\n",
              "            style=\"display:none;\">\n",
              "\n",
              "  <svg xmlns=\"http://www.w3.org/2000/svg\" height=\"24px\" viewBox=\"0 -960 960 960\">\n",
              "    <path d=\"M120-120v-720h720v720H120Zm60-500h600v-160H180v160Zm220 220h160v-160H400v160Zm0 220h160v-160H400v160ZM180-400h160v-160H180v160Zm440 0h160v-160H620v160ZM180-180h160v-160H180v160Zm440 0h160v-160H620v160Z\"/>\n",
              "  </svg>\n",
              "    </button>\n",
              "\n",
              "  <style>\n",
              "    .colab-df-container {\n",
              "      display:flex;\n",
              "      gap: 12px;\n",
              "    }\n",
              "\n",
              "    .colab-df-convert {\n",
              "      background-color: #E8F0FE;\n",
              "      border: none;\n",
              "      border-radius: 50%;\n",
              "      cursor: pointer;\n",
              "      display: none;\n",
              "      fill: #1967D2;\n",
              "      height: 32px;\n",
              "      padding: 0 0 0 0;\n",
              "      width: 32px;\n",
              "    }\n",
              "\n",
              "    .colab-df-convert:hover {\n",
              "      background-color: #E2EBFA;\n",
              "      box-shadow: 0px 1px 2px rgba(60, 64, 67, 0.3), 0px 1px 3px 1px rgba(60, 64, 67, 0.15);\n",
              "      fill: #174EA6;\n",
              "    }\n",
              "\n",
              "    .colab-df-buttons div {\n",
              "      margin-bottom: 4px;\n",
              "    }\n",
              "\n",
              "    [theme=dark] .colab-df-convert {\n",
              "      background-color: #3B4455;\n",
              "      fill: #D2E3FC;\n",
              "    }\n",
              "\n",
              "    [theme=dark] .colab-df-convert:hover {\n",
              "      background-color: #434B5C;\n",
              "      box-shadow: 0px 1px 3px 1px rgba(0, 0, 0, 0.15);\n",
              "      filter: drop-shadow(0px 1px 2px rgba(0, 0, 0, 0.3));\n",
              "      fill: #FFFFFF;\n",
              "    }\n",
              "  </style>\n",
              "\n",
              "    <script>\n",
              "      const buttonEl =\n",
              "        document.querySelector('#df-914107b9-d112-49e6-957f-31da25d87f67 button.colab-df-convert');\n",
              "      buttonEl.style.display =\n",
              "        google.colab.kernel.accessAllowed ? 'block' : 'none';\n",
              "\n",
              "      async function convertToInteractive(key) {\n",
              "        const element = document.querySelector('#df-914107b9-d112-49e6-957f-31da25d87f67');\n",
              "        const dataTable =\n",
              "          await google.colab.kernel.invokeFunction('convertToInteractive',\n",
              "                                                    [key], {});\n",
              "        if (!dataTable) return;\n",
              "\n",
              "        const docLinkHtml = 'Like what you see? Visit the ' +\n",
              "          '<a target=\"_blank\" href=https://colab.research.google.com/notebooks/data_table.ipynb>data table notebook</a>'\n",
              "          + ' to learn more about interactive tables.';\n",
              "        element.innerHTML = '';\n",
              "        dataTable['output_type'] = 'display_data';\n",
              "        await google.colab.output.renderOutput(dataTable, element);\n",
              "        const docLink = document.createElement('div');\n",
              "        docLink.innerHTML = docLinkHtml;\n",
              "        element.appendChild(docLink);\n",
              "      }\n",
              "    </script>\n",
              "  </div>\n",
              "\n",
              "\n",
              "<div id=\"df-ef104190-8cdd-4ed6-878f-5fb9c0a8617b\">\n",
              "  <button class=\"colab-df-quickchart\" onclick=\"quickchart('df-ef104190-8cdd-4ed6-878f-5fb9c0a8617b')\"\n",
              "            title=\"Suggest charts\"\n",
              "            style=\"display:none;\">\n",
              "\n",
              "<svg xmlns=\"http://www.w3.org/2000/svg\" height=\"24px\"viewBox=\"0 0 24 24\"\n",
              "     width=\"24px\">\n",
              "    <g>\n",
              "        <path d=\"M19 3H5c-1.1 0-2 .9-2 2v14c0 1.1.9 2 2 2h14c1.1 0 2-.9 2-2V5c0-1.1-.9-2-2-2zM9 17H7v-7h2v7zm4 0h-2V7h2v10zm4 0h-2v-4h2v4z\"/>\n",
              "    </g>\n",
              "</svg>\n",
              "  </button>\n",
              "\n",
              "<style>\n",
              "  .colab-df-quickchart {\n",
              "      --bg-color: #E8F0FE;\n",
              "      --fill-color: #1967D2;\n",
              "      --hover-bg-color: #E2EBFA;\n",
              "      --hover-fill-color: #174EA6;\n",
              "      --disabled-fill-color: #AAA;\n",
              "      --disabled-bg-color: #DDD;\n",
              "  }\n",
              "\n",
              "  [theme=dark] .colab-df-quickchart {\n",
              "      --bg-color: #3B4455;\n",
              "      --fill-color: #D2E3FC;\n",
              "      --hover-bg-color: #434B5C;\n",
              "      --hover-fill-color: #FFFFFF;\n",
              "      --disabled-bg-color: #3B4455;\n",
              "      --disabled-fill-color: #666;\n",
              "  }\n",
              "\n",
              "  .colab-df-quickchart {\n",
              "    background-color: var(--bg-color);\n",
              "    border: none;\n",
              "    border-radius: 50%;\n",
              "    cursor: pointer;\n",
              "    display: none;\n",
              "    fill: var(--fill-color);\n",
              "    height: 32px;\n",
              "    padding: 0;\n",
              "    width: 32px;\n",
              "  }\n",
              "\n",
              "  .colab-df-quickchart:hover {\n",
              "    background-color: var(--hover-bg-color);\n",
              "    box-shadow: 0 1px 2px rgba(60, 64, 67, 0.3), 0 1px 3px 1px rgba(60, 64, 67, 0.15);\n",
              "    fill: var(--button-hover-fill-color);\n",
              "  }\n",
              "\n",
              "  .colab-df-quickchart-complete:disabled,\n",
              "  .colab-df-quickchart-complete:disabled:hover {\n",
              "    background-color: var(--disabled-bg-color);\n",
              "    fill: var(--disabled-fill-color);\n",
              "    box-shadow: none;\n",
              "  }\n",
              "\n",
              "  .colab-df-spinner {\n",
              "    border: 2px solid var(--fill-color);\n",
              "    border-color: transparent;\n",
              "    border-bottom-color: var(--fill-color);\n",
              "    animation:\n",
              "      spin 1s steps(1) infinite;\n",
              "  }\n",
              "\n",
              "  @keyframes spin {\n",
              "    0% {\n",
              "      border-color: transparent;\n",
              "      border-bottom-color: var(--fill-color);\n",
              "      border-left-color: var(--fill-color);\n",
              "    }\n",
              "    20% {\n",
              "      border-color: transparent;\n",
              "      border-left-color: var(--fill-color);\n",
              "      border-top-color: var(--fill-color);\n",
              "    }\n",
              "    30% {\n",
              "      border-color: transparent;\n",
              "      border-left-color: var(--fill-color);\n",
              "      border-top-color: var(--fill-color);\n",
              "      border-right-color: var(--fill-color);\n",
              "    }\n",
              "    40% {\n",
              "      border-color: transparent;\n",
              "      border-right-color: var(--fill-color);\n",
              "      border-top-color: var(--fill-color);\n",
              "    }\n",
              "    60% {\n",
              "      border-color: transparent;\n",
              "      border-right-color: var(--fill-color);\n",
              "    }\n",
              "    80% {\n",
              "      border-color: transparent;\n",
              "      border-right-color: var(--fill-color);\n",
              "      border-bottom-color: var(--fill-color);\n",
              "    }\n",
              "    90% {\n",
              "      border-color: transparent;\n",
              "      border-bottom-color: var(--fill-color);\n",
              "    }\n",
              "  }\n",
              "</style>\n",
              "\n",
              "  <script>\n",
              "    async function quickchart(key) {\n",
              "      const quickchartButtonEl =\n",
              "        document.querySelector('#' + key + ' button');\n",
              "      quickchartButtonEl.disabled = true;  // To prevent multiple clicks.\n",
              "      quickchartButtonEl.classList.add('colab-df-spinner');\n",
              "      try {\n",
              "        const charts = await google.colab.kernel.invokeFunction(\n",
              "            'suggestCharts', [key], {});\n",
              "      } catch (error) {\n",
              "        console.error('Error during call to suggestCharts:', error);\n",
              "      }\n",
              "      quickchartButtonEl.classList.remove('colab-df-spinner');\n",
              "      quickchartButtonEl.classList.add('colab-df-quickchart-complete');\n",
              "    }\n",
              "    (() => {\n",
              "      let quickchartButtonEl =\n",
              "        document.querySelector('#df-ef104190-8cdd-4ed6-878f-5fb9c0a8617b button');\n",
              "      quickchartButtonEl.style.display =\n",
              "        google.colab.kernel.accessAllowed ? 'block' : 'none';\n",
              "    })();\n",
              "  </script>\n",
              "</div>\n",
              "\n",
              "    </div>\n",
              "  </div>\n"
            ],
            "application/vnd.google.colaboratory.intrinsic+json": {
              "type": "dataframe",
              "variable_name": "test_data",
              "repr_error": "0"
            }
          },
          "metadata": {},
          "execution_count": 10
        }
      ]
    },
    {
      "cell_type": "code",
      "source": [
        "print(stopwords.words('english'))\n",
        "emoticons = [\":)\", ':-)', ': )', ':D', '=)', ':(', ':-(', ': (']\n",
        "stpwrd = nltk.corpus.stopwords.words('english')\n",
        "stpwrd.extend(emoticons)"
      ],
      "metadata": {
        "colab": {
          "base_uri": "https://localhost:8080/"
        },
        "id": "b5koxLuZKK67",
        "outputId": "ab4b6f81-cdb7-40cc-ae68-8b9585b8042d"
      },
      "execution_count": 11,
      "outputs": [
        {
          "output_type": "stream",
          "name": "stdout",
          "text": [
            "['i', 'me', 'my', 'myself', 'we', 'our', 'ours', 'ourselves', 'you', \"you're\", \"you've\", \"you'll\", \"you'd\", 'your', 'yours', 'yourself', 'yourselves', 'he', 'him', 'his', 'himself', 'she', \"she's\", 'her', 'hers', 'herself', 'it', \"it's\", 'its', 'itself', 'they', 'them', 'their', 'theirs', 'themselves', 'what', 'which', 'who', 'whom', 'this', 'that', \"that'll\", 'these', 'those', 'am', 'is', 'are', 'was', 'were', 'be', 'been', 'being', 'have', 'has', 'had', 'having', 'do', 'does', 'did', 'doing', 'a', 'an', 'the', 'and', 'but', 'if', 'or', 'because', 'as', 'until', 'while', 'of', 'at', 'by', 'for', 'with', 'about', 'against', 'between', 'into', 'through', 'during', 'before', 'after', 'above', 'below', 'to', 'from', 'up', 'down', 'in', 'out', 'on', 'off', 'over', 'under', 'again', 'further', 'then', 'once', 'here', 'there', 'when', 'where', 'why', 'how', 'all', 'any', 'both', 'each', 'few', 'more', 'most', 'other', 'some', 'such', 'no', 'nor', 'not', 'only', 'own', 'same', 'so', 'than', 'too', 'very', 's', 't', 'can', 'will', 'just', 'don', \"don't\", 'should', \"should've\", 'now', 'd', 'll', 'm', 'o', 're', 've', 'y', 'ain', 'aren', \"aren't\", 'couldn', \"couldn't\", 'didn', \"didn't\", 'doesn', \"doesn't\", 'hadn', \"hadn't\", 'hasn', \"hasn't\", 'haven', \"haven't\", 'isn', \"isn't\", 'ma', 'mightn', \"mightn't\", 'mustn', \"mustn't\", 'needn', \"needn't\", 'shan', \"shan't\", 'shouldn', \"shouldn't\", 'wasn', \"wasn't\", 'weren', \"weren't\", 'won', \"won't\", 'wouldn', \"wouldn't\"]\n"
          ]
        }
      ]
    },
    {
      "cell_type": "markdown",
      "source": [
        "Cleaning the data/ Preprocessing"
      ],
      "metadata": {
        "id": "n8IM123EKhHp"
      }
    },
    {
      "cell_type": "code",
      "source": [
        "import re # import regex\n",
        "\n",
        "def preprocess_data(data):\n",
        "  data = data.drop_duplicates(subset=['Description'], keep='first')\n",
        "\n",
        "  # Remove emojis from data\n",
        "  data = data.astype(str).apply(lambda x: x.str.encode('ascii', 'ignore').str.decode('ascii'))\n",
        "\n",
        "  # Remove emoticons as stopwords so it will happen when tokenizing our sentences hence not needed here\n",
        "\n",
        "  # Remove urls\n",
        "  def remove_username_link_nums(Description):\n",
        "    Description = re.sub('@[^\\s]+', '', Description)\n",
        "    Description = re.sub('http[^\\s]+', '',Description)\n",
        "    Description = re.sub(r'\\d+', '', Description)\n",
        "    return Description\n",
        "\n",
        "  data['Description'] = data['Description'].apply(remove_username_link_nums)\n",
        "\n",
        "  # # turn text to lowercase\n",
        "  data['Description'] = data['Description'].map(lambda x: x.lower())\n",
        "\n",
        "  # Remove stopwords and lemmatize the text\n",
        "  lem = WordNetLemmatizer()\n",
        "  def remove_stopwords(Description):\n",
        "    tokens = []\n",
        "    for token in text.split():\n",
        "      if token not in stpwrd:\n",
        "        tokens.append(lem.lemmatize(token, \"v\"))\n",
        "\n",
        "    return  \" \".join(tokens)\n",
        "\n",
        "  data.Description = data.Description.apply(lambda x: remove_stopwords(x))\n",
        "\n",
        "\n",
        "  return data"
      ],
      "metadata": {
        "id": "06e3lyERKO2I"
      },
      "execution_count": 12,
      "outputs": []
    },
    {
      "cell_type": "code",
      "source": [
        "train_neg = train_data[:10000]\n",
        "train_pos = train_data[1590000:]"
      ],
      "metadata": {
        "id": "VLF_AGR_KmD8"
      },
      "execution_count": 13,
      "outputs": []
    },
    {
      "cell_type": "code",
      "source": [
        "\n",
        "test_neg = train_data[10000:12000]\n",
        "test_pos = train_data[1588000:1590000]"
      ],
      "metadata": {
        "id": "Fp-k2u1eKoLh"
      },
      "execution_count": 14,
      "outputs": []
    },
    {
      "cell_type": "code",
      "source": [
        "train_neg.shape"
      ],
      "metadata": {
        "colab": {
          "base_uri": "https://localhost:8080/"
        },
        "id": "aURWZ-CAKp72",
        "outputId": "0a8e93ca-6544-4f5c-d194-26153878018f"
      },
      "execution_count": 15,
      "outputs": [
        {
          "output_type": "execute_result",
          "data": {
            "text/plain": [
              "(622, 6)"
            ]
          },
          "metadata": {},
          "execution_count": 15
        }
      ]
    },
    {
      "cell_type": "code",
      "source": [
        "train_examples =pd.concat([train_neg, train_pos])\n",
        "test_examples =pd.concat([test_neg, test_pos])"
      ],
      "metadata": {
        "id": "CelS2f6zKrtY"
      },
      "execution_count": 16,
      "outputs": []
    },
    {
      "cell_type": "code",
      "source": [
        "train_examples.shape"
      ],
      "metadata": {
        "colab": {
          "base_uri": "https://localhost:8080/"
        },
        "id": "lXpPGo3RKt9p",
        "outputId": "f748de88-76a5-4537-f592-47666fd1921e"
      },
      "execution_count": 17,
      "outputs": [
        {
          "output_type": "execute_result",
          "data": {
            "text/plain": [
              "(622, 6)"
            ]
          },
          "metadata": {},
          "execution_count": 17
        }
      ]
    },
    {
      "cell_type": "code",
      "source": [
        "test_examples.shape"
      ],
      "metadata": {
        "colab": {
          "base_uri": "https://localhost:8080/"
        },
        "id": "X7V-iz9tKv0Z",
        "outputId": "9fd283cc-f3c2-4429-f566-1fcf33f565de"
      },
      "execution_count": 18,
      "outputs": [
        {
          "output_type": "execute_result",
          "data": {
            "text/plain": [
              "(0, 6)"
            ]
          },
          "metadata": {},
          "execution_count": 18
        }
      ]
    },
    {
      "cell_type": "code",
      "source": [
        "nltk.download('omw-1.4')"
      ],
      "metadata": {
        "colab": {
          "base_uri": "https://localhost:8080/"
        },
        "id": "bIDa2UuIKxkd",
        "outputId": "ca42ad5b-e95f-4283-c95a-7f5ff9438a46"
      },
      "execution_count": 19,
      "outputs": [
        {
          "output_type": "stream",
          "name": "stderr",
          "text": [
            "[nltk_data] Downloading package omw-1.4 to /root/nltk_data...\n"
          ]
        },
        {
          "output_type": "execute_result",
          "data": {
            "text/plain": [
              "True"
            ]
          },
          "metadata": {},
          "execution_count": 19
        }
      ]
    },
    {
      "cell_type": "code",
      "source": [
        "train_data.isna().sum().sort_values()"
      ],
      "metadata": {
        "colab": {
          "base_uri": "https://localhost:8080/"
        },
        "id": "GOidnK7jKzTT",
        "outputId": "8896de21-8b22-456c-fe54-988009b28f86"
      },
      "execution_count": 20,
      "outputs": [
        {
          "output_type": "execute_result",
          "data": {
            "text/plain": [
              "Name             0\n",
              "ID               1\n",
              "Stars            1\n",
              "Title            1\n",
              "Description      1\n",
              "Date           620\n",
              "dtype: int64"
            ]
          },
          "metadata": {},
          "execution_count": 20
        }
      ]
    },
    {
      "cell_type": "code",
      "source": [
        "train_examples['Description'] = train_examples['Description'].astype(str).fillna('')"
      ],
      "metadata": {
        "id": "6u0m0ZaaK00p"
      },
      "execution_count": 21,
      "outputs": []
    },
    {
      "cell_type": "code",
      "source": [
        "tokenizer = Tokenizer()\n",
        "tokenizer.fit_on_texts(train_examples.Description)"
      ],
      "metadata": {
        "id": "94mVqLG3K2kT"
      },
      "execution_count": 22,
      "outputs": []
    },
    {
      "cell_type": "code",
      "source": [
        "vocab_size = len(tokenizer.word_index) + 1\n",
        "embedding_dim = 16\n",
        "max_length = 50\n",
        "trunc_type='post'\n",
        "padding_type='post'\n",
        "oov_tok = \"\"\n",
        "training_portion = .8"
      ],
      "metadata": {
        "id": "eAvbdAmvK5D8"
      },
      "execution_count": 23,
      "outputs": []
    },
    {
      "cell_type": "code",
      "source": [
        "train_sequences = tokenizer.texts_to_sequences(train_examples.Description)\n",
        "test_sequences = tokenizer.texts_to_sequences(test_examples.Description)\n",
        "\n",
        "X_train = pad_sequences(train_sequences, maxlen = max_length, padding = padding_type)\n",
        "\n",
        "X_test = pad_sequences(test_sequences, maxlen = max_length, padding = padding_type)"
      ],
      "metadata": {
        "id": "Oc1hj9MbK75V"
      },
      "execution_count": 24,
      "outputs": []
    },
    {
      "cell_type": "code",
      "source": [
        "word_index = tokenizer.word_index"
      ],
      "metadata": {
        "id": "ou_f5zsjK_sn"
      },
      "execution_count": 27,
      "outputs": []
    },
    {
      "cell_type": "code",
      "source": [
        "len(word_index)"
      ],
      "metadata": {
        "colab": {
          "base_uri": "https://localhost:8080/"
        },
        "id": "Z9OwgComLBgO",
        "outputId": "adef8b00-cc59-4c58-f6f8-4be5b1d250a6"
      },
      "execution_count": 28,
      "outputs": [
        {
          "output_type": "execute_result",
          "data": {
            "text/plain": [
              "4418"
            ]
          },
          "metadata": {},
          "execution_count": 28
        }
      ]
    },
    {
      "cell_type": "code",
      "source": [
        "X_train.shape"
      ],
      "metadata": {
        "colab": {
          "base_uri": "https://localhost:8080/"
        },
        "id": "InTvZChvLH_S",
        "outputId": "e33c3864-75cb-4afd-8067-f07befe7fc73"
      },
      "execution_count": 29,
      "outputs": [
        {
          "output_type": "execute_result",
          "data": {
            "text/plain": [
              "(622, 50)"
            ]
          },
          "metadata": {},
          "execution_count": 29
        }
      ]
    },
    {
      "cell_type": "code",
      "source": [
        "test_data.head()"
      ],
      "metadata": {
        "colab": {
          "base_uri": "https://localhost:8080/",
          "height": 206
        },
        "id": "1WPGaCnaLJ2l",
        "outputId": "a87c2321-688c-4a15-9086-048e6006cadf"
      },
      "execution_count": 30,
      "outputs": [
        {
          "output_type": "execute_result",
          "data": {
            "text/plain": [
              "        ID             Name Stars  \\\n",
              "595  596.0           sergio     1   \n",
              "587  588.0  Amazon Customer     1   \n",
              "543  544.0  Wolfgang Werner     5   \n",
              "644  645.0   John M. Macros     4   \n",
              "487  488.0       Fortnite89     5   \n",
              "\n",
              "                                                 Title Date  \\\n",
              "595                              Imballaggio i9 13900k  NaN   \n",
              "587  It's junk, don't buy this. It won't boot up my...  NaN   \n",
              "543                                       As described  NaN   \n",
              "644                               Faster than expected  NaN   \n",
              "487                                 Una bella Bombetta  NaN   \n",
              "\n",
              "                                           Description  \n",
              "595                     The media could not be loaded.  \n",
              "587  Not even worth throwing away money to buy. Sta...  \n",
              "543  I was close to give them a bad review but then...  \n",
              "644  Havent used intel in a long time, glad I went ...  \n",
              "487  Excellent CPU performing, quick I recommend th...  "
            ],
            "text/html": [
              "\n",
              "  <div id=\"df-17e44148-1dfa-44d7-a57d-8fb4ea74795b\" class=\"colab-df-container\">\n",
              "    <div>\n",
              "<style scoped>\n",
              "    .dataframe tbody tr th:only-of-type {\n",
              "        vertical-align: middle;\n",
              "    }\n",
              "\n",
              "    .dataframe tbody tr th {\n",
              "        vertical-align: top;\n",
              "    }\n",
              "\n",
              "    .dataframe thead th {\n",
              "        text-align: right;\n",
              "    }\n",
              "</style>\n",
              "<table border=\"1\" class=\"dataframe\">\n",
              "  <thead>\n",
              "    <tr style=\"text-align: right;\">\n",
              "      <th></th>\n",
              "      <th>ID</th>\n",
              "      <th>Name</th>\n",
              "      <th>Stars</th>\n",
              "      <th>Title</th>\n",
              "      <th>Date</th>\n",
              "      <th>Description</th>\n",
              "    </tr>\n",
              "  </thead>\n",
              "  <tbody>\n",
              "    <tr>\n",
              "      <th>595</th>\n",
              "      <td>596.0</td>\n",
              "      <td>sergio</td>\n",
              "      <td>1</td>\n",
              "      <td>Imballaggio i9 13900k</td>\n",
              "      <td>NaN</td>\n",
              "      <td>The media could not be loaded.</td>\n",
              "    </tr>\n",
              "    <tr>\n",
              "      <th>587</th>\n",
              "      <td>588.0</td>\n",
              "      <td>Amazon Customer</td>\n",
              "      <td>1</td>\n",
              "      <td>It's junk, don't buy this. It won't boot up my...</td>\n",
              "      <td>NaN</td>\n",
              "      <td>Not even worth throwing away money to buy. Sta...</td>\n",
              "    </tr>\n",
              "    <tr>\n",
              "      <th>543</th>\n",
              "      <td>544.0</td>\n",
              "      <td>Wolfgang Werner</td>\n",
              "      <td>5</td>\n",
              "      <td>As described</td>\n",
              "      <td>NaN</td>\n",
              "      <td>I was close to give them a bad review but then...</td>\n",
              "    </tr>\n",
              "    <tr>\n",
              "      <th>644</th>\n",
              "      <td>645.0</td>\n",
              "      <td>John M. Macros</td>\n",
              "      <td>4</td>\n",
              "      <td>Faster than expected</td>\n",
              "      <td>NaN</td>\n",
              "      <td>Havent used intel in a long time, glad I went ...</td>\n",
              "    </tr>\n",
              "    <tr>\n",
              "      <th>487</th>\n",
              "      <td>488.0</td>\n",
              "      <td>Fortnite89</td>\n",
              "      <td>5</td>\n",
              "      <td>Una bella Bombetta</td>\n",
              "      <td>NaN</td>\n",
              "      <td>Excellent CPU performing, quick I recommend th...</td>\n",
              "    </tr>\n",
              "  </tbody>\n",
              "</table>\n",
              "</div>\n",
              "    <div class=\"colab-df-buttons\">\n",
              "\n",
              "  <div class=\"colab-df-container\">\n",
              "    <button class=\"colab-df-convert\" onclick=\"convertToInteractive('df-17e44148-1dfa-44d7-a57d-8fb4ea74795b')\"\n",
              "            title=\"Convert this dataframe to an interactive table.\"\n",
              "            style=\"display:none;\">\n",
              "\n",
              "  <svg xmlns=\"http://www.w3.org/2000/svg\" height=\"24px\" viewBox=\"0 -960 960 960\">\n",
              "    <path d=\"M120-120v-720h720v720H120Zm60-500h600v-160H180v160Zm220 220h160v-160H400v160Zm0 220h160v-160H400v160ZM180-400h160v-160H180v160Zm440 0h160v-160H620v160ZM180-180h160v-160H180v160Zm440 0h160v-160H620v160Z\"/>\n",
              "  </svg>\n",
              "    </button>\n",
              "\n",
              "  <style>\n",
              "    .colab-df-container {\n",
              "      display:flex;\n",
              "      gap: 12px;\n",
              "    }\n",
              "\n",
              "    .colab-df-convert {\n",
              "      background-color: #E8F0FE;\n",
              "      border: none;\n",
              "      border-radius: 50%;\n",
              "      cursor: pointer;\n",
              "      display: none;\n",
              "      fill: #1967D2;\n",
              "      height: 32px;\n",
              "      padding: 0 0 0 0;\n",
              "      width: 32px;\n",
              "    }\n",
              "\n",
              "    .colab-df-convert:hover {\n",
              "      background-color: #E2EBFA;\n",
              "      box-shadow: 0px 1px 2px rgba(60, 64, 67, 0.3), 0px 1px 3px 1px rgba(60, 64, 67, 0.15);\n",
              "      fill: #174EA6;\n",
              "    }\n",
              "\n",
              "    .colab-df-buttons div {\n",
              "      margin-bottom: 4px;\n",
              "    }\n",
              "\n",
              "    [theme=dark] .colab-df-convert {\n",
              "      background-color: #3B4455;\n",
              "      fill: #D2E3FC;\n",
              "    }\n",
              "\n",
              "    [theme=dark] .colab-df-convert:hover {\n",
              "      background-color: #434B5C;\n",
              "      box-shadow: 0px 1px 3px 1px rgba(0, 0, 0, 0.15);\n",
              "      filter: drop-shadow(0px 1px 2px rgba(0, 0, 0, 0.3));\n",
              "      fill: #FFFFFF;\n",
              "    }\n",
              "  </style>\n",
              "\n",
              "    <script>\n",
              "      const buttonEl =\n",
              "        document.querySelector('#df-17e44148-1dfa-44d7-a57d-8fb4ea74795b button.colab-df-convert');\n",
              "      buttonEl.style.display =\n",
              "        google.colab.kernel.accessAllowed ? 'block' : 'none';\n",
              "\n",
              "      async function convertToInteractive(key) {\n",
              "        const element = document.querySelector('#df-17e44148-1dfa-44d7-a57d-8fb4ea74795b');\n",
              "        const dataTable =\n",
              "          await google.colab.kernel.invokeFunction('convertToInteractive',\n",
              "                                                    [key], {});\n",
              "        if (!dataTable) return;\n",
              "\n",
              "        const docLinkHtml = 'Like what you see? Visit the ' +\n",
              "          '<a target=\"_blank\" href=https://colab.research.google.com/notebooks/data_table.ipynb>data table notebook</a>'\n",
              "          + ' to learn more about interactive tables.';\n",
              "        element.innerHTML = '';\n",
              "        dataTable['output_type'] = 'display_data';\n",
              "        await google.colab.output.renderOutput(dataTable, element);\n",
              "        const docLink = document.createElement('div');\n",
              "        docLink.innerHTML = docLinkHtml;\n",
              "        element.appendChild(docLink);\n",
              "      }\n",
              "    </script>\n",
              "  </div>\n",
              "\n",
              "\n",
              "<div id=\"df-673dfc8a-4f56-4c38-9877-f480093f3ec3\">\n",
              "  <button class=\"colab-df-quickchart\" onclick=\"quickchart('df-673dfc8a-4f56-4c38-9877-f480093f3ec3')\"\n",
              "            title=\"Suggest charts\"\n",
              "            style=\"display:none;\">\n",
              "\n",
              "<svg xmlns=\"http://www.w3.org/2000/svg\" height=\"24px\"viewBox=\"0 0 24 24\"\n",
              "     width=\"24px\">\n",
              "    <g>\n",
              "        <path d=\"M19 3H5c-1.1 0-2 .9-2 2v14c0 1.1.9 2 2 2h14c1.1 0 2-.9 2-2V5c0-1.1-.9-2-2-2zM9 17H7v-7h2v7zm4 0h-2V7h2v10zm4 0h-2v-4h2v4z\"/>\n",
              "    </g>\n",
              "</svg>\n",
              "  </button>\n",
              "\n",
              "<style>\n",
              "  .colab-df-quickchart {\n",
              "      --bg-color: #E8F0FE;\n",
              "      --fill-color: #1967D2;\n",
              "      --hover-bg-color: #E2EBFA;\n",
              "      --hover-fill-color: #174EA6;\n",
              "      --disabled-fill-color: #AAA;\n",
              "      --disabled-bg-color: #DDD;\n",
              "  }\n",
              "\n",
              "  [theme=dark] .colab-df-quickchart {\n",
              "      --bg-color: #3B4455;\n",
              "      --fill-color: #D2E3FC;\n",
              "      --hover-bg-color: #434B5C;\n",
              "      --hover-fill-color: #FFFFFF;\n",
              "      --disabled-bg-color: #3B4455;\n",
              "      --disabled-fill-color: #666;\n",
              "  }\n",
              "\n",
              "  .colab-df-quickchart {\n",
              "    background-color: var(--bg-color);\n",
              "    border: none;\n",
              "    border-radius: 50%;\n",
              "    cursor: pointer;\n",
              "    display: none;\n",
              "    fill: var(--fill-color);\n",
              "    height: 32px;\n",
              "    padding: 0;\n",
              "    width: 32px;\n",
              "  }\n",
              "\n",
              "  .colab-df-quickchart:hover {\n",
              "    background-color: var(--hover-bg-color);\n",
              "    box-shadow: 0 1px 2px rgba(60, 64, 67, 0.3), 0 1px 3px 1px rgba(60, 64, 67, 0.15);\n",
              "    fill: var(--button-hover-fill-color);\n",
              "  }\n",
              "\n",
              "  .colab-df-quickchart-complete:disabled,\n",
              "  .colab-df-quickchart-complete:disabled:hover {\n",
              "    background-color: var(--disabled-bg-color);\n",
              "    fill: var(--disabled-fill-color);\n",
              "    box-shadow: none;\n",
              "  }\n",
              "\n",
              "  .colab-df-spinner {\n",
              "    border: 2px solid var(--fill-color);\n",
              "    border-color: transparent;\n",
              "    border-bottom-color: var(--fill-color);\n",
              "    animation:\n",
              "      spin 1s steps(1) infinite;\n",
              "  }\n",
              "\n",
              "  @keyframes spin {\n",
              "    0% {\n",
              "      border-color: transparent;\n",
              "      border-bottom-color: var(--fill-color);\n",
              "      border-left-color: var(--fill-color);\n",
              "    }\n",
              "    20% {\n",
              "      border-color: transparent;\n",
              "      border-left-color: var(--fill-color);\n",
              "      border-top-color: var(--fill-color);\n",
              "    }\n",
              "    30% {\n",
              "      border-color: transparent;\n",
              "      border-left-color: var(--fill-color);\n",
              "      border-top-color: var(--fill-color);\n",
              "      border-right-color: var(--fill-color);\n",
              "    }\n",
              "    40% {\n",
              "      border-color: transparent;\n",
              "      border-right-color: var(--fill-color);\n",
              "      border-top-color: var(--fill-color);\n",
              "    }\n",
              "    60% {\n",
              "      border-color: transparent;\n",
              "      border-right-color: var(--fill-color);\n",
              "    }\n",
              "    80% {\n",
              "      border-color: transparent;\n",
              "      border-right-color: var(--fill-color);\n",
              "      border-bottom-color: var(--fill-color);\n",
              "    }\n",
              "    90% {\n",
              "      border-color: transparent;\n",
              "      border-bottom-color: var(--fill-color);\n",
              "    }\n",
              "  }\n",
              "</style>\n",
              "\n",
              "  <script>\n",
              "    async function quickchart(key) {\n",
              "      const quickchartButtonEl =\n",
              "        document.querySelector('#' + key + ' button');\n",
              "      quickchartButtonEl.disabled = true;  // To prevent multiple clicks.\n",
              "      quickchartButtonEl.classList.add('colab-df-spinner');\n",
              "      try {\n",
              "        const charts = await google.colab.kernel.invokeFunction(\n",
              "            'suggestCharts', [key], {});\n",
              "      } catch (error) {\n",
              "        console.error('Error during call to suggestCharts:', error);\n",
              "      }\n",
              "      quickchartButtonEl.classList.remove('colab-df-spinner');\n",
              "      quickchartButtonEl.classList.add('colab-df-quickchart-complete');\n",
              "    }\n",
              "    (() => {\n",
              "      let quickchartButtonEl =\n",
              "        document.querySelector('#df-673dfc8a-4f56-4c38-9877-f480093f3ec3 button');\n",
              "      quickchartButtonEl.style.display =\n",
              "        google.colab.kernel.accessAllowed ? 'block' : 'none';\n",
              "    })();\n",
              "  </script>\n",
              "</div>\n",
              "\n",
              "    </div>\n",
              "  </div>\n"
            ],
            "application/vnd.google.colaboratory.intrinsic+json": {
              "type": "dataframe",
              "variable_name": "test_data",
              "repr_error": "0"
            }
          },
          "metadata": {},
          "execution_count": 30
        }
      ]
    },
    {
      "cell_type": "code",
      "source": [
        "import pickle\n",
        "with open('tokenizer.pickle', 'wb') as handle:\n",
        "    pickle.dump(tokenizer, handle, protocol=pickle.HIGHEST_PROTOCOL)"
      ],
      "metadata": {
        "id": "VR5o8Tv8LMdq"
      },
      "execution_count": 31,
      "outputs": []
    },
    {
      "cell_type": "code",
      "source": [
        "import gensim\n",
        "\n",
        "# WORD2VEC\n",
        "W2V_SIZE = 228\n",
        "W2V_WINDOW = 7\n",
        "W2V_EPOCH = 10\n",
        "W2V_MIN_COUNT = 10\n",
        "documents = [text.split() for text in train_examples['Description'].astype(str)]\n",
        "\n",
        "\n",
        "w2v_model = gensim.models.Word2Vec(vector_size=W2V_SIZE,\n",
        "                                   window=W2V_WINDOW,\n",
        "                                   min_count=W2V_MIN_COUNT,\n",
        "                                   workers=8)\n",
        "w2v_model.build_vocab(documents)\n",
        "w2v_model.train(documents, total_examples=len(documents), epochs=W2V_EPOCH)"
      ],
      "metadata": {
        "colab": {
          "base_uri": "https://localhost:8080/"
        },
        "id": "UtiL1jrQNioO",
        "outputId": "dddd1fd2-25dd-4953-e53c-29a289031ae8"
      },
      "execution_count": 32,
      "outputs": [
        {
          "output_type": "execute_result",
          "data": {
            "text/plain": [
              "(108548, 287350)"
            ]
          },
          "metadata": {},
          "execution_count": 32
        }
      ]
    },
    {
      "cell_type": "code",
      "source": [
        "words = w2v_model.wv.key_to_index.keys()\n",
        "vocab_size = len(words)\n",
        "print(\"Vocab size:\", vocab_size)"
      ],
      "metadata": {
        "colab": {
          "base_uri": "https://localhost:8080/"
        },
        "id": "n4xy8_AtOGKj",
        "outputId": "78dbbcc8-aeb8-4cd3-eb78-3dfa94606e2f"
      },
      "execution_count": 33,
      "outputs": [
        {
          "output_type": "stream",
          "name": "stdout",
          "text": [
            "Vocab size: 396\n"
          ]
        }
      ]
    },
    {
      "cell_type": "code",
      "source": [
        "w2v_model.train(documents, total_examples=len(documents), epochs=W2V_EPOCH)"
      ],
      "metadata": {
        "colab": {
          "base_uri": "https://localhost:8080/"
        },
        "id": "VD9ynNlIOI-9",
        "outputId": "984fcf1a-1df4-4ebb-9124-b26b3b5f8878"
      },
      "execution_count": 34,
      "outputs": [
        {
          "output_type": "stream",
          "name": "stderr",
          "text": [
            "WARNING:gensim.models.word2vec:Effective 'alpha' higher than previous training cycles\n"
          ]
        },
        {
          "output_type": "execute_result",
          "data": {
            "text/plain": [
              "(108682, 287350)"
            ]
          },
          "metadata": {},
          "execution_count": 34
        }
      ]
    },
    {
      "cell_type": "code",
      "source": [
        "try:\n",
        "    similar_words = w2v_model.wv.most_similar(\"great\")\n",
        "    print(\"Most similar words to 'great':\")\n",
        "    print(similar_words)\n",
        "except KeyError:\n",
        "    print(\"'great' is not in the vocabulary.\")"
      ],
      "metadata": {
        "colab": {
          "base_uri": "https://localhost:8080/"
        },
        "id": "PVXrIO8XPjas",
        "outputId": "1406f588-0f16-44ce-9e86-0d6832e28bff"
      },
      "execution_count": 35,
      "outputs": [
        {
          "output_type": "stream",
          "name": "stdout",
          "text": [
            "Most similar words to 'great':\n",
            "[('performance.', 0.9981948137283325), ('fast', 0.9980400204658508), ('performance,', 0.9980177879333496), ('money.', 0.997850775718689), ('Excellent', 0.9978246688842773), ('Great', 0.9978062510490417), ('Very', 0.9977878928184509), ('choice', 0.9977783560752869), ('perfect', 0.9977499842643738), ('powerful', 0.997712254524231)]\n"
          ]
        }
      ]
    },
    {
      "cell_type": "code",
      "source": [
        "from tensorflow.keras.initializers import Constant"
      ],
      "metadata": {
        "id": "ZKYU17OSPlTs"
      },
      "execution_count": 36,
      "outputs": []
    },
    {
      "cell_type": "code",
      "source": [
        "embedding_matrix = np.zeros((vocab_size + 1, W2V_SIZE))  # Add 1 to vocab_size to account for index starting from 1\n",
        "\n",
        "for word, i in tokenizer.word_index.items():\n",
        "    if i <= vocab_size:  # Ensure index i is within bounds\n",
        "        if word in w2v_model.wv:\n",
        "            embedding_matrix[i] = w2v_model.wv[word]\n",
        "\n",
        "print(embedding_matrix.shape)"
      ],
      "metadata": {
        "colab": {
          "base_uri": "https://localhost:8080/"
        },
        "id": "xij8JKJaPnFM",
        "outputId": "a538a3d3-436d-4a9f-aba0-71501ada57f5"
      },
      "execution_count": 37,
      "outputs": [
        {
          "output_type": "stream",
          "name": "stdout",
          "text": [
            "(397, 228)\n"
          ]
        }
      ]
    },
    {
      "cell_type": "markdown",
      "source": [
        "# Building our NLP model using LSTM"
      ],
      "metadata": {
        "id": "srm8pbjaPtGi"
      }
    },
    {
      "cell_type": "code",
      "source": [
        "model_1 = tf.keras.models.Sequential([\n",
        "                                      tf.keras.layers.Embedding(vocab_size+1, W2V_SIZE, weights=[embedding_matrix], input_length=max_length, trainable=False),\n",
        "                                      tf.keras.layers.Bidirectional(LSTM(128, return_sequences=True)),\n",
        "                                      tf.keras.layers.Dropout(0.2),\n",
        "                                      tf.keras.layers.Bidirectional(LSTM(128)),\n",
        "                                      tf.keras.layers.Dropout(0.2),\n",
        "                                      tf.keras.layers.Dense(64, activation='relu'),\n",
        "                                      tf.keras.layers.Dense(1, activation='sigmoid')\n",
        "\n",
        "], name='Bidirectional_LSTM_1')\n",
        "\n",
        "model_1.summary()"
      ],
      "metadata": {
        "colab": {
          "base_uri": "https://localhost:8080/"
        },
        "id": "Y1QZ_rohPos8",
        "outputId": "0c44772d-3227-4a5f-a23c-18a10e727503"
      },
      "execution_count": 38,
      "outputs": [
        {
          "output_type": "stream",
          "name": "stdout",
          "text": [
            "Model: \"Bidirectional_LSTM_1\"\n",
            "_________________________________________________________________\n",
            " Layer (type)                Output Shape              Param #   \n",
            "=================================================================\n",
            " embedding (Embedding)       (None, 50, 228)           90516     \n",
            "                                                                 \n",
            " bidirectional (Bidirection  (None, 50, 256)           365568    \n",
            " al)                                                             \n",
            "                                                                 \n",
            " dropout (Dropout)           (None, 50, 256)           0         \n",
            "                                                                 \n",
            " bidirectional_1 (Bidirecti  (None, 256)               394240    \n",
            " onal)                                                           \n",
            "                                                                 \n",
            " dropout_1 (Dropout)         (None, 256)               0         \n",
            "                                                                 \n",
            " dense (Dense)               (None, 64)                16448     \n",
            "                                                                 \n",
            " dense_1 (Dense)             (None, 1)                 65        \n",
            "                                                                 \n",
            "=================================================================\n",
            "Total params: 866837 (3.31 MB)\n",
            "Trainable params: 776321 (2.96 MB)\n",
            "Non-trainable params: 90516 (353.58 KB)\n",
            "_________________________________________________________________\n"
          ]
        }
      ]
    },
    {
      "cell_type": "code",
      "source": [
        "import pandas as pd\n",
        "from keras.preprocessing.text import Tokenizer"
      ],
      "metadata": {
        "id": "HGJQEDnUPwnc"
      },
      "execution_count": 39,
      "outputs": []
    },
    {
      "cell_type": "code",
      "source": [
        "df['Description'] = df['Description'].astype(str).fillna('')\n",
        "\n",
        "tokenizer = Tokenizer()\n",
        "tokenizer.fit_on_texts(df['Description'])\n",
        "\n",
        "sequences = tokenizer.texts_to_sequences(df['Description'])\n",
        "print(sequences[:5])"
      ],
      "metadata": {
        "colab": {
          "base_uri": "https://localhost:8080/"
        },
        "id": "hmHypCjhPzML",
        "outputId": "78556ec1-4a39-431d-f01a-f63af7dc49d6"
      },
      "execution_count": 40,
      "outputs": [
        {
          "output_type": "stream",
          "name": "stdout",
          "text": [
            "[[470, 182, 599, 48, 7, 369, 15, 119, 78, 11, 5, 252, 749, 3, 294, 4, 666, 53, 231, 155, 2, 6, 439, 18, 749, 7, 294, 4, 143, 512, 1244, 12, 1556, 2, 14, 91, 513, 600, 54, 12, 2329, 308, 37, 857, 1034, 2330, 16, 127, 153, 20, 144, 31, 4, 1245, 6, 5, 1, 1035, 2, 127, 370, 3, 1036, 667, 5, 750, 54, 1, 210, 127, 1246, 72, 94, 71, 183, 2, 61, 127, 858, 1, 11, 10, 3, 350, 55, 6, 211, 2, 1246, 72, 7, 9, 1, 232, 83, 13, 177, 132, 8, 1037, 5, 400, 54, 18, 3, 11, 81, 668, 54, 1557, 34, 194, 39, 40, 13, 859, 2, 4, 860, 159, 351, 14, 11, 31, 1247, 7, 2, 106, 8, 3, 350, 55, 2, 172, 160, 51, 401, 2331, 369, 4, 35, 48, 371, 55, 8, 309, 1038, 4, 861, 32, 1558, 14, 862], [11, 1559, 1560, 17, 14, 168, 471, 402, 169, 95, 669, 8, 128, 5, 2332, 3, 372, 8, 3, 472, 403, 554, 195, 44, 111, 161, 21, 3, 1561, 2, 1562, 1248], [1, 139, 25, 751, 1, 68, 1249, 25, 1250, 1, 11, 50, 116, 12, 1, 140, 1563, 2333, 2334, 17, 6, 1, 752, 153, 20, 182, 162, 39, 555, 139, 133, 5, 1251, 2335, 5, 2336, 4, 22, 5, 473, 6, 352, 21, 3, 1252, 1248, 440, 2337, 556, 1, 69, 61, 46, 31, 96, 4, 48, 5, 1039, 18, 310, 155, 8, 3, 1038, 4, 441, 79], [70, 159, 211, 102, 328, 329, 98, 233, 5, 73, 129, 161, 371, 102, 1253, 8, 404, 18, 55, 211, 234, 4, 557, 22, 1254, 2338, 373, 403], [4, 558, 6, 2, 753, 8, 3, 372, 1, 196, 12, 1564, 2, 4, 442, 212, 353]]\n"
          ]
        }
      ]
    },
    {
      "cell_type": "code",
      "source": [
        "test_data.dtypes"
      ],
      "metadata": {
        "colab": {
          "base_uri": "https://localhost:8080/"
        },
        "id": "enjT99TxP0yI",
        "outputId": "64151c34-22fd-40ac-e384-a495838f41bd"
      },
      "execution_count": 41,
      "outputs": [
        {
          "output_type": "execute_result",
          "data": {
            "text/plain": [
              "ID             float64\n",
              "Name            object\n",
              "Stars           object\n",
              "Title           object\n",
              "Date            object\n",
              "Description     object\n",
              "dtype: object"
            ]
          },
          "metadata": {},
          "execution_count": 41
        }
      ]
    },
    {
      "cell_type": "markdown",
      "source": [
        "Splitting datasets into training and testing data"
      ],
      "metadata": {
        "id": "sp8SYX_uQAAS"
      }
    },
    {
      "cell_type": "code",
      "source": [
        "df['Description'] = df['Description'].astype(str).str.lower()\n",
        "\n",
        "tokenizer = Tokenizer()\n",
        "tokenizer.fit_on_texts(df['Description'])\n",
        "sequences = tokenizer.texts_to_sequences(df['Description'])\n",
        "padded_sequences = pad_sequences(sequences, maxlen=100)"
      ],
      "metadata": {
        "id": "j4xCfpTUP2VA"
      },
      "execution_count": 42,
      "outputs": []
    },
    {
      "cell_type": "code",
      "source": [
        "# Prepare labels\n",
        "df['Stars'] = pd.to_numeric(df['Stars'], errors='coerce')\n",
        "df = df.dropna(subset=['Stars'])\n",
        "labels = df['Stars'].astype(int)  # Assuming 'Stars' is your target variable\n",
        "labels = np.where(labels > 3, 1, 0)"
      ],
      "metadata": {
        "id": "MAysXl9nP4iN"
      },
      "execution_count": 43,
      "outputs": []
    },
    {
      "cell_type": "code",
      "source": [
        "max_sequence_length = 100\n",
        "\n",
        "X_padded = np.random.rand(100, 50)  # Example X_padded with 100 samples and 50 features\n",
        "y = np.random.randint(0, 2, size=101)"
      ],
      "metadata": {
        "id": "KS_a8y9OP6JC"
      },
      "execution_count": 44,
      "outputs": []
    },
    {
      "cell_type": "code",
      "source": [
        "y = y[:100]\n",
        "assert len(X_padded) == len(y), \"X_padded and y must have the same length\""
      ],
      "metadata": {
        "id": "yE8h8hLSP7tX"
      },
      "execution_count": 45,
      "outputs": []
    },
    {
      "cell_type": "code",
      "source": [
        "X_train, X_test, y_train, y_test = train_test_split(X_padded, y, test_size=0.2, random_state=42)"
      ],
      "metadata": {
        "id": "XeDslaB7P-Ap"
      },
      "execution_count": 47,
      "outputs": []
    },
    {
      "cell_type": "code",
      "source": [
        "print(f'Length of X_train: {len(X_train)}')\n",
        "print(f'Length of X_test: {len(X_test)}')\n",
        "print(f'Length of y_train: {len(y_train)}')\n",
        "print(f'Length of y_test: {len(y_test)}')"
      ],
      "metadata": {
        "colab": {
          "base_uri": "https://localhost:8080/"
        },
        "id": "RFIh-5EtQK0Y",
        "outputId": "6c9aa025-a060-4a44-acc4-8bfed7bcbccf"
      },
      "execution_count": 48,
      "outputs": [
        {
          "output_type": "stream",
          "name": "stdout",
          "text": [
            "Length of X_train: 80\n",
            "Length of X_test: 20\n",
            "Length of y_train: 80\n",
            "Length of y_test: 20\n"
          ]
        }
      ]
    },
    {
      "cell_type": "code",
      "source": [
        "import numpy as np\n",
        "import pandas as pd\n",
        "from tensorflow.keras.models import Sequential\n",
        "from tensorflow.keras.layers import Embedding, LSTM, Dense, Dropout, Bidirectional\n",
        "from tensorflow.keras.preprocessing.text import Tokenizer\n",
        "from tensorflow.keras.preprocessing.sequence import pad_sequences\n",
        "from sklearn.model_selection import train_test_split"
      ],
      "metadata": {
        "id": "mMM5WeU6QPCS"
      },
      "execution_count": 49,
      "outputs": []
    },
    {
      "cell_type": "code",
      "source": [
        "# Define the model\n",
        "\n",
        "model = Sequential()\n",
        "model.add(Embedding(input_dim=len(tokenizer.word_index) + 1, output_dim=128, input_length=100))\n",
        "model.add(Bidirectional(LSTM(64, return_sequences=True)))\n",
        "model.add(Dropout(0.5))\n",
        "model.add(LSTM(32))\n",
        "model.add(Dropout(0.5))\n",
        "model.add(Dense(1, activation='sigmoid'))"
      ],
      "metadata": {
        "id": "BChdHPQhQRYT"
      },
      "execution_count": 50,
      "outputs": []
    },
    {
      "cell_type": "code",
      "source": [
        "# Compile the model\n",
        "model_1.compile(loss='binary_crossentropy', optimizer='adam', metrics=['accuracy'])\n",
        "print(model_1.summary())"
      ],
      "metadata": {
        "colab": {
          "base_uri": "https://localhost:8080/"
        },
        "id": "7n9cd6RZQTaQ",
        "outputId": "edb60d9d-4322-44e9-80ec-1c88bcc7c12f"
      },
      "execution_count": 51,
      "outputs": [
        {
          "output_type": "stream",
          "name": "stdout",
          "text": [
            "Model: \"Bidirectional_LSTM_1\"\n",
            "_________________________________________________________________\n",
            " Layer (type)                Output Shape              Param #   \n",
            "=================================================================\n",
            " embedding (Embedding)       (None, 50, 228)           90516     \n",
            "                                                                 \n",
            " bidirectional (Bidirection  (None, 50, 256)           365568    \n",
            " al)                                                             \n",
            "                                                                 \n",
            " dropout (Dropout)           (None, 50, 256)           0         \n",
            "                                                                 \n",
            " bidirectional_1 (Bidirecti  (None, 256)               394240    \n",
            " onal)                                                           \n",
            "                                                                 \n",
            " dropout_1 (Dropout)         (None, 256)               0         \n",
            "                                                                 \n",
            " dense (Dense)               (None, 64)                16448     \n",
            "                                                                 \n",
            " dense_1 (Dense)             (None, 1)                 65        \n",
            "                                                                 \n",
            "=================================================================\n",
            "Total params: 866837 (3.31 MB)\n",
            "Trainable params: 776321 (2.96 MB)\n",
            "Non-trainable params: 90516 (353.58 KB)\n",
            "_________________________________________________________________\n",
            "None\n"
          ]
        }
      ]
    },
    {
      "cell_type": "code",
      "source": [
        "# Fit the model\n",
        "history = model_1.fit(X_train, y_train, batch_size=32, epochs=50, validation_data=(X_test, y_test), verbose=1)"
      ],
      "metadata": {
        "colab": {
          "base_uri": "https://localhost:8080/"
        },
        "id": "g-xU9V6NQVKH",
        "outputId": "4d17590a-372b-4dd1-d556-cf0c519dd581"
      },
      "execution_count": 52,
      "outputs": [
        {
          "output_type": "stream",
          "name": "stdout",
          "text": [
            "Epoch 1/50\n",
            "3/3 [==============================] - 14s 2s/step - loss: 0.6931 - accuracy: 0.5750 - val_loss: 0.6933 - val_accuracy: 0.4500\n",
            "Epoch 2/50\n",
            "3/3 [==============================] - 1s 539ms/step - loss: 0.6930 - accuracy: 0.5750 - val_loss: 0.6933 - val_accuracy: 0.4500\n",
            "Epoch 3/50\n",
            "3/3 [==============================] - 1s 347ms/step - loss: 0.6929 - accuracy: 0.5750 - val_loss: 0.6934 - val_accuracy: 0.4500\n",
            "Epoch 4/50\n",
            "3/3 [==============================] - 1s 341ms/step - loss: 0.6928 - accuracy: 0.5750 - val_loss: 0.6935 - val_accuracy: 0.4500\n",
            "Epoch 5/50\n",
            "3/3 [==============================] - 1s 343ms/step - loss: 0.6927 - accuracy: 0.5750 - val_loss: 0.6935 - val_accuracy: 0.4500\n",
            "Epoch 6/50\n",
            "3/3 [==============================] - 1s 347ms/step - loss: 0.6926 - accuracy: 0.5750 - val_loss: 0.6936 - val_accuracy: 0.4500\n",
            "Epoch 7/50\n",
            "3/3 [==============================] - 1s 326ms/step - loss: 0.6925 - accuracy: 0.5750 - val_loss: 0.6937 - val_accuracy: 0.4500\n",
            "Epoch 8/50\n",
            "3/3 [==============================] - 1s 294ms/step - loss: 0.6924 - accuracy: 0.5750 - val_loss: 0.6938 - val_accuracy: 0.4500\n",
            "Epoch 9/50\n",
            "3/3 [==============================] - 1s 469ms/step - loss: 0.6922 - accuracy: 0.5750 - val_loss: 0.6939 - val_accuracy: 0.4500\n",
            "Epoch 10/50\n",
            "3/3 [==============================] - 2s 559ms/step - loss: 0.6921 - accuracy: 0.5750 - val_loss: 0.6940 - val_accuracy: 0.4500\n",
            "Epoch 11/50\n",
            "3/3 [==============================] - 2s 587ms/step - loss: 0.6920 - accuracy: 0.5750 - val_loss: 0.6940 - val_accuracy: 0.4500\n",
            "Epoch 12/50\n",
            "3/3 [==============================] - 2s 539ms/step - loss: 0.6918 - accuracy: 0.5750 - val_loss: 0.6941 - val_accuracy: 0.4500\n",
            "Epoch 13/50\n",
            "3/3 [==============================] - 1s 306ms/step - loss: 0.6918 - accuracy: 0.5750 - val_loss: 0.6942 - val_accuracy: 0.4500\n",
            "Epoch 14/50\n",
            "3/3 [==============================] - 1s 300ms/step - loss: 0.6916 - accuracy: 0.5750 - val_loss: 0.6943 - val_accuracy: 0.4500\n",
            "Epoch 15/50\n",
            "3/3 [==============================] - 1s 526ms/step - loss: 0.6916 - accuracy: 0.5750 - val_loss: 0.6944 - val_accuracy: 0.4500\n",
            "Epoch 16/50\n",
            "3/3 [==============================] - 1s 302ms/step - loss: 0.6914 - accuracy: 0.5750 - val_loss: 0.6945 - val_accuracy: 0.4500\n",
            "Epoch 17/50\n",
            "3/3 [==============================] - 1s 294ms/step - loss: 0.6913 - accuracy: 0.5750 - val_loss: 0.6946 - val_accuracy: 0.4500\n",
            "Epoch 18/50\n",
            "3/3 [==============================] - 1s 295ms/step - loss: 0.6912 - accuracy: 0.5750 - val_loss: 0.6947 - val_accuracy: 0.4500\n",
            "Epoch 19/50\n",
            "3/3 [==============================] - 1s 299ms/step - loss: 0.6911 - accuracy: 0.5750 - val_loss: 0.6947 - val_accuracy: 0.4500\n",
            "Epoch 20/50\n",
            "3/3 [==============================] - 1s 303ms/step - loss: 0.6910 - accuracy: 0.5750 - val_loss: 0.6948 - val_accuracy: 0.4500\n",
            "Epoch 21/50\n",
            "3/3 [==============================] - 1s 384ms/step - loss: 0.6909 - accuracy: 0.5750 - val_loss: 0.6949 - val_accuracy: 0.4500\n",
            "Epoch 22/50\n",
            "3/3 [==============================] - 2s 560ms/step - loss: 0.6908 - accuracy: 0.5750 - val_loss: 0.6950 - val_accuracy: 0.4500\n",
            "Epoch 23/50\n",
            "3/3 [==============================] - 2s 606ms/step - loss: 0.6907 - accuracy: 0.5750 - val_loss: 0.6951 - val_accuracy: 0.4500\n",
            "Epoch 24/50\n",
            "3/3 [==============================] - 2s 617ms/step - loss: 0.6905 - accuracy: 0.5750 - val_loss: 0.6952 - val_accuracy: 0.4500\n",
            "Epoch 25/50\n",
            "3/3 [==============================] - 2s 595ms/step - loss: 0.6904 - accuracy: 0.5750 - val_loss: 0.6953 - val_accuracy: 0.4500\n",
            "Epoch 26/50\n",
            "3/3 [==============================] - 2s 718ms/step - loss: 0.6904 - accuracy: 0.5750 - val_loss: 0.6955 - val_accuracy: 0.4500\n",
            "Epoch 27/50\n",
            "3/3 [==============================] - 2s 670ms/step - loss: 0.6902 - accuracy: 0.5750 - val_loss: 0.6956 - val_accuracy: 0.4500\n",
            "Epoch 28/50\n",
            "3/3 [==============================] - 2s 544ms/step - loss: 0.6901 - accuracy: 0.5750 - val_loss: 0.6957 - val_accuracy: 0.4500\n",
            "Epoch 29/50\n",
            "3/3 [==============================] - 2s 731ms/step - loss: 0.6900 - accuracy: 0.5750 - val_loss: 0.6958 - val_accuracy: 0.4500\n",
            "Epoch 30/50\n",
            "3/3 [==============================] - 3s 908ms/step - loss: 0.6899 - accuracy: 0.5750 - val_loss: 0.6959 - val_accuracy: 0.4500\n",
            "Epoch 31/50\n",
            "3/3 [==============================] - 3s 962ms/step - loss: 0.6898 - accuracy: 0.5750 - val_loss: 0.6960 - val_accuracy: 0.4500\n",
            "Epoch 32/50\n",
            "3/3 [==============================] - 2s 682ms/step - loss: 0.6897 - accuracy: 0.5750 - val_loss: 0.6961 - val_accuracy: 0.4500\n",
            "Epoch 33/50\n",
            "3/3 [==============================] - 2s 534ms/step - loss: 0.6896 - accuracy: 0.5750 - val_loss: 0.6962 - val_accuracy: 0.4500\n",
            "Epoch 34/50\n",
            "3/3 [==============================] - 2s 689ms/step - loss: 0.6895 - accuracy: 0.5750 - val_loss: 0.6963 - val_accuracy: 0.4500\n",
            "Epoch 35/50\n",
            "3/3 [==============================] - 2s 544ms/step - loss: 0.6894 - accuracy: 0.5750 - val_loss: 0.6964 - val_accuracy: 0.4500\n",
            "Epoch 36/50\n",
            "3/3 [==============================] - 2s 546ms/step - loss: 0.6893 - accuracy: 0.5750 - val_loss: 0.6965 - val_accuracy: 0.4500\n",
            "Epoch 37/50\n",
            "3/3 [==============================] - 1s 436ms/step - loss: 0.6892 - accuracy: 0.5750 - val_loss: 0.6966 - val_accuracy: 0.4500\n",
            "Epoch 38/50\n",
            "3/3 [==============================] - 2s 881ms/step - loss: 0.6891 - accuracy: 0.5750 - val_loss: 0.6967 - val_accuracy: 0.4500\n",
            "Epoch 39/50\n",
            "3/3 [==============================] - 2s 705ms/step - loss: 0.6889 - accuracy: 0.5750 - val_loss: 0.6968 - val_accuracy: 0.4500\n",
            "Epoch 40/50\n",
            "3/3 [==============================] - 2s 600ms/step - loss: 0.6889 - accuracy: 0.5750 - val_loss: 0.6970 - val_accuracy: 0.4500\n",
            "Epoch 41/50\n",
            "3/3 [==============================] - 2s 565ms/step - loss: 0.6887 - accuracy: 0.5750 - val_loss: 0.6971 - val_accuracy: 0.4500\n",
            "Epoch 42/50\n",
            "3/3 [==============================] - 1s 497ms/step - loss: 0.6887 - accuracy: 0.5750 - val_loss: 0.6972 - val_accuracy: 0.4500\n",
            "Epoch 43/50\n",
            "3/3 [==============================] - 1s 494ms/step - loss: 0.6886 - accuracy: 0.5750 - val_loss: 0.6973 - val_accuracy: 0.4500\n",
            "Epoch 44/50\n",
            "3/3 [==============================] - 2s 536ms/step - loss: 0.6885 - accuracy: 0.5750 - val_loss: 0.6974 - val_accuracy: 0.4500\n",
            "Epoch 45/50\n",
            "3/3 [==============================] - 2s 519ms/step - loss: 0.6884 - accuracy: 0.5750 - val_loss: 0.6975 - val_accuracy: 0.4500\n",
            "Epoch 46/50\n",
            "3/3 [==============================] - 2s 849ms/step - loss: 0.6883 - accuracy: 0.5750 - val_loss: 0.6976 - val_accuracy: 0.4500\n",
            "Epoch 47/50\n",
            "3/3 [==============================] - 3s 915ms/step - loss: 0.6883 - accuracy: 0.5750 - val_loss: 0.6977 - val_accuracy: 0.4500\n",
            "Epoch 48/50\n",
            "3/3 [==============================] - 2s 752ms/step - loss: 0.6881 - accuracy: 0.5750 - val_loss: 0.6978 - val_accuracy: 0.4500\n",
            "Epoch 49/50\n",
            "3/3 [==============================] - 2s 528ms/step - loss: 0.6881 - accuracy: 0.5750 - val_loss: 0.6979 - val_accuracy: 0.4500\n",
            "Epoch 50/50\n",
            "3/3 [==============================] - 2s 569ms/step - loss: 0.6880 - accuracy: 0.5750 - val_loss: 0.6980 - val_accuracy: 0.4500\n"
          ]
        }
      ]
    },
    {
      "cell_type": "code",
      "source": [
        "y_pred = model_1.predict(X_test)\n",
        "y_pred = np.where(y_pred>0.5, 1, 0)"
      ],
      "metadata": {
        "colab": {
          "base_uri": "https://localhost:8080/"
        },
        "id": "jHrgOlRiQXG7",
        "outputId": "18d4bafa-0712-4093-903c-203d28a41b45"
      },
      "execution_count": 54,
      "outputs": [
        {
          "output_type": "stream",
          "name": "stdout",
          "text": [
            "1/1 [==============================] - 2s 2s/step\n"
          ]
        }
      ]
    },
    {
      "cell_type": "code",
      "source": [
        "print(classification_report(y_test, y_pred))"
      ],
      "metadata": {
        "colab": {
          "base_uri": "https://localhost:8080/"
        },
        "id": "SpjYOeA6Qans",
        "outputId": "54ddeac5-b870-4fdf-ba65-0c1eb35c16dd"
      },
      "execution_count": 55,
      "outputs": [
        {
          "output_type": "stream",
          "name": "stdout",
          "text": [
            "              precision    recall  f1-score   support\n",
            "\n",
            "           0       0.45      1.00      0.62         9\n",
            "           1       0.00      0.00      0.00        11\n",
            "\n",
            "    accuracy                           0.45        20\n",
            "   macro avg       0.23      0.50      0.31        20\n",
            "weighted avg       0.20      0.45      0.28        20\n",
            "\n"
          ]
        },
        {
          "output_type": "stream",
          "name": "stderr",
          "text": [
            "/usr/local/lib/python3.10/dist-packages/sklearn/metrics/_classification.py:1344: UndefinedMetricWarning: Precision and F-score are ill-defined and being set to 0.0 in labels with no predicted samples. Use `zero_division` parameter to control this behavior.\n",
            "  _warn_prf(average, modifier, msg_start, len(result))\n",
            "/usr/local/lib/python3.10/dist-packages/sklearn/metrics/_classification.py:1344: UndefinedMetricWarning: Precision and F-score are ill-defined and being set to 0.0 in labels with no predicted samples. Use `zero_division` parameter to control this behavior.\n",
            "  _warn_prf(average, modifier, msg_start, len(result))\n",
            "/usr/local/lib/python3.10/dist-packages/sklearn/metrics/_classification.py:1344: UndefinedMetricWarning: Precision and F-score are ill-defined and being set to 0.0 in labels with no predicted samples. Use `zero_division` parameter to control this behavior.\n",
            "  _warn_prf(average, modifier, msg_start, len(result))\n"
          ]
        }
      ]
    },
    {
      "cell_type": "code",
      "source": [
        "model_1.save('Sentiment_LSTM_model_better.h5')\n",
        "with open('trainHistoryDict', 'wb') as file_pi:\n",
        "    pickle.dump(history.history, file_pi)"
      ],
      "metadata": {
        "colab": {
          "base_uri": "https://localhost:8080/"
        },
        "id": "ZOHBAAJTQeUs",
        "outputId": "90d12b57-0105-49ee-aa3d-ab9503482971"
      },
      "execution_count": 56,
      "outputs": [
        {
          "output_type": "stream",
          "name": "stderr",
          "text": [
            "/usr/local/lib/python3.10/dist-packages/keras/src/engine/training.py:3103: UserWarning: You are saving your model as an HDF5 file via `model.save()`. This file format is considered legacy. We recommend using instead the native Keras format, e.g. `model.save('my_model.keras')`.\n",
            "  saving_api.save_model(\n"
          ]
        }
      ]
    },
    {
      "cell_type": "code",
      "source": [
        "from keras.models import load_model\n",
        "model_1 = load_model('Sentiment_LSTM_model_better.h5')\n",
        "# loading tokenizer\n",
        "with open('trainHistoryDict', 'rb') as file_pi:\n",
        "    history = pickle.load(file_pi)"
      ],
      "metadata": {
        "id": "A1mlJqZ2Qhs9"
      },
      "execution_count": 57,
      "outputs": []
    },
    {
      "cell_type": "code",
      "source": [
        "history.keys()"
      ],
      "metadata": {
        "colab": {
          "base_uri": "https://localhost:8080/"
        },
        "id": "UP78uawhQkjT",
        "outputId": "0e842cbd-01f6-4206-d5c9-835e6a5aa307"
      },
      "execution_count": 58,
      "outputs": [
        {
          "output_type": "execute_result",
          "data": {
            "text/plain": [
              "dict_keys(['loss', 'accuracy', 'val_loss', 'val_accuracy'])"
            ]
          },
          "metadata": {},
          "execution_count": 58
        }
      ]
    },
    {
      "cell_type": "code",
      "source": [
        "plt.figure(figsize=(10,5))\n",
        "plt.plot(history['accuracy'])\n",
        "plt.plot(history['val_accuracy'])\n",
        "plt.title('model accuracy')\n",
        "plt.ylabel('accuracy')\n",
        "plt.xlabel('epoch')\n",
        "plt.legend(['Train accuracy', 'Test accuracy'], loc='lower right')\n",
        "plt.show()\n",
        "# History for loss\n",
        "plt.figure(figsize=(10,5))\n",
        "plt.plot(history['loss'])\n",
        "plt.plot(history['val_loss'])\n",
        "plt.title('model loss')\n",
        "plt.ylabel('loss')\n",
        "plt.xlabel('epoch')\n",
        "plt.legend(['Train loss', 'Test loss'], loc='upper right')\n",
        "plt.suptitle('Accuracy and loss for second model')\n",
        "plt.show()"
      ],
      "metadata": {
        "colab": {
          "base_uri": "https://localhost:8080/",
          "height": 985
        },
        "id": "FzzzO384QnY6",
        "outputId": "2fe11325-ff29-4a39-9538-f4daf13a36b3"
      },
      "execution_count": 59,
      "outputs": [
        {
          "output_type": "display_data",
          "data": {
            "text/plain": [
              "<Figure size 1000x500 with 1 Axes>"
            ],
            "image/png": "[encoded data removed]"
          },
          "metadata": {}
        },
        {
          "output_type": "display_data",
          "data": {
            "text/plain": [
              "<Figure size 1000x500 with 1 Axes>"
            ],
            "image/png": "[encoded data removed]"
          },
          "metadata": {}
        }
      ]
    },
    {
      "cell_type": "code",
      "source": [
        "def predict(text):\n",
        "    try:\n",
        "        # Tokenize text\n",
        "        x_test = tokenizer.texts_to_sequences([text])\n",
        "        x_test = pad_sequences(x_test, maxlen=max_length)\n",
        "\n",
        "        # Predict\n",
        "        score = model_1.predict(x_test)[0]\n",
        "\n",
        "        # Determine label based on score\n",
        "        if score >= 0.4 and score <= 0.6:\n",
        "            label = \"Neutral\"\n",
        "        elif score < 0.4:\n",
        "            label = \"Negative\"\n",
        "        else:\n",
        "            label = \"Positive\"\n",
        "\n",
        "        return {\"label\": label,\n",
        "                \"score\": float(score)}\n",
        "\n",
        "    except Exception as e:\n",
        "        print(f\"Error predicting sentiment: {str(e)}\")\n",
        "        return {\"label\": \"Error\",\n",
        "                \"score\": 0.0}"
      ],
      "metadata": {
        "id": "0e1ZmrzHQrGL"
      },
      "execution_count": 60,
      "outputs": []
    },
    {
      "cell_type": "code",
      "source": [
        "example = df['Description'][500]\n",
        "print(example)"
      ],
      "metadata": {
        "colab": {
          "base_uri": "https://localhost:8080/"
        },
        "id": "5b0y_sOFRCsi",
        "outputId": "cf06bea2-7985-4513-e1eb-2816fe10e802"
      },
      "execution_count": 61,
      "outputs": [
        {
          "output_type": "stream",
          "name": "stdout",
          "text": [
            "very good processor \n"
          ]
        }
      ]
    },
    {
      "cell_type": "code",
      "source": [
        "predict(example)"
      ],
      "metadata": {
        "colab": {
          "base_uri": "https://localhost:8080/"
        },
        "id": "GpI6eLieRrKl",
        "outputId": "26e7d833-4b53-4ed9-b355-31c0374a0c89"
      },
      "execution_count": 62,
      "outputs": [
        {
          "output_type": "stream",
          "name": "stdout",
          "text": [
            "1/1 [==============================] - 4s 4s/step\n"
          ]
        },
        {
          "output_type": "stream",
          "name": "stderr",
          "text": [
            "<ipython-input-60-b7716a0edfe7>:19: DeprecationWarning: Conversion of an array with ndim > 0 to a scalar is deprecated, and will error in future. Ensure you extract a single element from your array before performing this operation. (Deprecated NumPy 1.25.)\n",
            "  \"score\": float(score)}\n"
          ]
        },
        {
          "output_type": "execute_result",
          "data": {
            "text/plain": [
              "{'label': 'Neutral', 'score': 0.48296883702278137}"
            ]
          },
          "metadata": {},
          "execution_count": 62
        }
      ]
    },
    {
      "cell_type": "code",
      "source": [],
      "metadata": {
        "id": "OsOzVAtRR8lG"
      },
      "execution_count": null,
      "outputs": []
    }
  ]
}